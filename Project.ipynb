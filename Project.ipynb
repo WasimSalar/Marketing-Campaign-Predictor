{
 "cells": [
  {
   "cell_type": "markdown",
   "metadata": {},
   "source": [
    "# CS-591 Machine Learning and Soft Computing \n",
    "\n",
    "## Bank Marketing Campaign Predictor \n",
    "\n",
    "### Taif AL Beedh - SIU856519747\n",
    "\n",
    "### Wasimuddin Salar Fathimullah - SIU856530878"
   ]
  },
  {
   "cell_type": "markdown",
   "metadata": {},
   "source": [
    "This project have 3 sections:\n",
    "1. Predicting the outcome of the marketing campaign.\n",
    "2. Predicting the loan eligibility.\n",
    "3. The differential privacy code ( add noise to both datasets to predict the bank outcome and loan eligibility)"
   ]
  },
  {
   "cell_type": "code",
   "execution_count": 1,
   "metadata": {},
   "outputs": [],
   "source": [
    "#import the necessary libraries and packages\n",
    "from __future__ import print_function\n",
    "from pandas import read_csv\n",
    "import os\n",
    "import pandas as pd\n",
    "import seaborn as sns\n",
    "import matplotlib.pyplot as plt\n",
    "import numpy as np\n",
    "from scipy import stats\n",
    "from sklearn.preprocessing import LabelEncoder\n",
    "from sklearn.model_selection import train_test_split\n",
    "from sklearn.model_selection import KFold\n",
    "from sklearn.tree import DecisionTreeClassifier\n",
    "from sklearn.model_selection import cross_val_score\n",
    "from sklearn.metrics import accuracy_score\n",
    "from sklearn.metrics import confusion_matrix\n",
    "import pylab as pl\n",
    "from sklearn.metrics import classification_report\n",
    "from sklearn.neighbors import KNeighborsClassifier\n",
    "from sklearn.naive_bayes import GaussianNB\n",
    "from sklearn.metrics import accuracy_score, precision_score, recall_score, f1_score\n"
   ]
  },
  {
   "cell_type": "markdown",
   "metadata": {},
   "source": [
    "# Section 1"
   ]
  },
  {
   "cell_type": "markdown",
   "metadata": {},
   "source": [
    "# Predicting the outcome of the marketing campaign"
   ]
  },
  {
   "cell_type": "markdown",
   "metadata": {},
   "source": [
    "For the 1st section the following steps are required:\n",
    "\n",
    "1.  Loading the dataset\n",
    "2.  Visualizing the data\n",
    "3.  Cleaning the data\n",
    "4.  Building classifiers\n",
    "5.  Evaluation\n",
    "6.  Choosing the accurate classifier\n",
    "7.  Loading the queries file\n",
    "8.  Predicting the outcome of the predictions file \n",
    "9.  Updating the CSV test file to include a predictions column\n",
    "10. Creating a text file that includes the customer's id and the predicted results"
   ]
  },
  {
   "cell_type": "code",
   "execution_count": 2,
   "metadata": {},
   "outputs": [],
   "source": [
    "\n",
    "#define the Categorical features, to convert them to numeric values.\n",
    "CategoricalHeaders = ['job', 'marital', 'education', 'default',  'housing', 'loan', 'contact',  'month',  'poutcome']\n"
   ]
  },
  {
   "cell_type": "code",
   "execution_count": 3,
   "metadata": {},
   "outputs": [
    {
     "data": {
      "text/html": [
       "<div>\n",
       "<style scoped>\n",
       "    .dataframe tbody tr th:only-of-type {\n",
       "        vertical-align: middle;\n",
       "    }\n",
       "\n",
       "    .dataframe tbody tr th {\n",
       "        vertical-align: top;\n",
       "    }\n",
       "\n",
       "    .dataframe thead th {\n",
       "        text-align: right;\n",
       "    }\n",
       "</style>\n",
       "<table border=\"1\" class=\"dataframe\">\n",
       "  <thead>\n",
       "    <tr style=\"text-align: right;\">\n",
       "      <th></th>\n",
       "      <th>age</th>\n",
       "      <th>job</th>\n",
       "      <th>marital</th>\n",
       "      <th>education</th>\n",
       "      <th>default</th>\n",
       "      <th>balance</th>\n",
       "      <th>housing</th>\n",
       "      <th>loan</th>\n",
       "      <th>contact</th>\n",
       "      <th>day</th>\n",
       "      <th>month</th>\n",
       "      <th>duration</th>\n",
       "      <th>campaign</th>\n",
       "      <th>pdays</th>\n",
       "      <th>previous</th>\n",
       "      <th>poutcome</th>\n",
       "      <th>y</th>\n",
       "    </tr>\n",
       "  </thead>\n",
       "  <tbody>\n",
       "    <tr>\n",
       "      <th>0</th>\n",
       "      <td>58</td>\n",
       "      <td>management</td>\n",
       "      <td>married</td>\n",
       "      <td>tertiary</td>\n",
       "      <td>no</td>\n",
       "      <td>2143</td>\n",
       "      <td>yes</td>\n",
       "      <td>no</td>\n",
       "      <td>unknown</td>\n",
       "      <td>5</td>\n",
       "      <td>may</td>\n",
       "      <td>261</td>\n",
       "      <td>1</td>\n",
       "      <td>-1</td>\n",
       "      <td>0</td>\n",
       "      <td>unknown</td>\n",
       "      <td>no</td>\n",
       "    </tr>\n",
       "    <tr>\n",
       "      <th>1</th>\n",
       "      <td>44</td>\n",
       "      <td>technician</td>\n",
       "      <td>single</td>\n",
       "      <td>secondary</td>\n",
       "      <td>no</td>\n",
       "      <td>29</td>\n",
       "      <td>yes</td>\n",
       "      <td>no</td>\n",
       "      <td>unknown</td>\n",
       "      <td>5</td>\n",
       "      <td>may</td>\n",
       "      <td>151</td>\n",
       "      <td>1</td>\n",
       "      <td>-1</td>\n",
       "      <td>0</td>\n",
       "      <td>unknown</td>\n",
       "      <td>no</td>\n",
       "    </tr>\n",
       "    <tr>\n",
       "      <th>2</th>\n",
       "      <td>33</td>\n",
       "      <td>entrepreneur</td>\n",
       "      <td>married</td>\n",
       "      <td>secondary</td>\n",
       "      <td>no</td>\n",
       "      <td>2</td>\n",
       "      <td>yes</td>\n",
       "      <td>yes</td>\n",
       "      <td>unknown</td>\n",
       "      <td>5</td>\n",
       "      <td>may</td>\n",
       "      <td>76</td>\n",
       "      <td>1</td>\n",
       "      <td>-1</td>\n",
       "      <td>0</td>\n",
       "      <td>unknown</td>\n",
       "      <td>no</td>\n",
       "    </tr>\n",
       "    <tr>\n",
       "      <th>3</th>\n",
       "      <td>47</td>\n",
       "      <td>blue-collar</td>\n",
       "      <td>married</td>\n",
       "      <td>unknown</td>\n",
       "      <td>no</td>\n",
       "      <td>1506</td>\n",
       "      <td>yes</td>\n",
       "      <td>no</td>\n",
       "      <td>unknown</td>\n",
       "      <td>5</td>\n",
       "      <td>may</td>\n",
       "      <td>92</td>\n",
       "      <td>1</td>\n",
       "      <td>-1</td>\n",
       "      <td>0</td>\n",
       "      <td>unknown</td>\n",
       "      <td>no</td>\n",
       "    </tr>\n",
       "    <tr>\n",
       "      <th>4</th>\n",
       "      <td>33</td>\n",
       "      <td>unknown</td>\n",
       "      <td>single</td>\n",
       "      <td>unknown</td>\n",
       "      <td>no</td>\n",
       "      <td>1</td>\n",
       "      <td>no</td>\n",
       "      <td>no</td>\n",
       "      <td>unknown</td>\n",
       "      <td>5</td>\n",
       "      <td>may</td>\n",
       "      <td>198</td>\n",
       "      <td>1</td>\n",
       "      <td>-1</td>\n",
       "      <td>0</td>\n",
       "      <td>unknown</td>\n",
       "      <td>no</td>\n",
       "    </tr>\n",
       "    <tr>\n",
       "      <th>...</th>\n",
       "      <td>...</td>\n",
       "      <td>...</td>\n",
       "      <td>...</td>\n",
       "      <td>...</td>\n",
       "      <td>...</td>\n",
       "      <td>...</td>\n",
       "      <td>...</td>\n",
       "      <td>...</td>\n",
       "      <td>...</td>\n",
       "      <td>...</td>\n",
       "      <td>...</td>\n",
       "      <td>...</td>\n",
       "      <td>...</td>\n",
       "      <td>...</td>\n",
       "      <td>...</td>\n",
       "      <td>...</td>\n",
       "      <td>...</td>\n",
       "    </tr>\n",
       "    <tr>\n",
       "      <th>45206</th>\n",
       "      <td>51</td>\n",
       "      <td>technician</td>\n",
       "      <td>married</td>\n",
       "      <td>tertiary</td>\n",
       "      <td>no</td>\n",
       "      <td>825</td>\n",
       "      <td>no</td>\n",
       "      <td>no</td>\n",
       "      <td>cellular</td>\n",
       "      <td>17</td>\n",
       "      <td>nov</td>\n",
       "      <td>977</td>\n",
       "      <td>3</td>\n",
       "      <td>-1</td>\n",
       "      <td>0</td>\n",
       "      <td>unknown</td>\n",
       "      <td>yes</td>\n",
       "    </tr>\n",
       "    <tr>\n",
       "      <th>45207</th>\n",
       "      <td>71</td>\n",
       "      <td>retired</td>\n",
       "      <td>divorced</td>\n",
       "      <td>primary</td>\n",
       "      <td>no</td>\n",
       "      <td>1729</td>\n",
       "      <td>no</td>\n",
       "      <td>no</td>\n",
       "      <td>cellular</td>\n",
       "      <td>17</td>\n",
       "      <td>nov</td>\n",
       "      <td>456</td>\n",
       "      <td>2</td>\n",
       "      <td>-1</td>\n",
       "      <td>0</td>\n",
       "      <td>unknown</td>\n",
       "      <td>yes</td>\n",
       "    </tr>\n",
       "    <tr>\n",
       "      <th>45208</th>\n",
       "      <td>72</td>\n",
       "      <td>retired</td>\n",
       "      <td>married</td>\n",
       "      <td>secondary</td>\n",
       "      <td>no</td>\n",
       "      <td>5715</td>\n",
       "      <td>no</td>\n",
       "      <td>no</td>\n",
       "      <td>cellular</td>\n",
       "      <td>17</td>\n",
       "      <td>nov</td>\n",
       "      <td>1127</td>\n",
       "      <td>5</td>\n",
       "      <td>184</td>\n",
       "      <td>3</td>\n",
       "      <td>success</td>\n",
       "      <td>yes</td>\n",
       "    </tr>\n",
       "    <tr>\n",
       "      <th>45209</th>\n",
       "      <td>57</td>\n",
       "      <td>blue-collar</td>\n",
       "      <td>married</td>\n",
       "      <td>secondary</td>\n",
       "      <td>no</td>\n",
       "      <td>668</td>\n",
       "      <td>no</td>\n",
       "      <td>no</td>\n",
       "      <td>telephone</td>\n",
       "      <td>17</td>\n",
       "      <td>nov</td>\n",
       "      <td>508</td>\n",
       "      <td>4</td>\n",
       "      <td>-1</td>\n",
       "      <td>0</td>\n",
       "      <td>unknown</td>\n",
       "      <td>no</td>\n",
       "    </tr>\n",
       "    <tr>\n",
       "      <th>45210</th>\n",
       "      <td>37</td>\n",
       "      <td>entrepreneur</td>\n",
       "      <td>married</td>\n",
       "      <td>secondary</td>\n",
       "      <td>no</td>\n",
       "      <td>2971</td>\n",
       "      <td>no</td>\n",
       "      <td>no</td>\n",
       "      <td>cellular</td>\n",
       "      <td>17</td>\n",
       "      <td>nov</td>\n",
       "      <td>361</td>\n",
       "      <td>2</td>\n",
       "      <td>188</td>\n",
       "      <td>11</td>\n",
       "      <td>other</td>\n",
       "      <td>no</td>\n",
       "    </tr>\n",
       "  </tbody>\n",
       "</table>\n",
       "<p>45211 rows × 17 columns</p>\n",
       "</div>"
      ],
      "text/plain": [
       "       age           job   marital  education default  balance housing loan  \\\n",
       "0       58    management   married   tertiary      no     2143     yes   no   \n",
       "1       44    technician    single  secondary      no       29     yes   no   \n",
       "2       33  entrepreneur   married  secondary      no        2     yes  yes   \n",
       "3       47   blue-collar   married    unknown      no     1506     yes   no   \n",
       "4       33       unknown    single    unknown      no        1      no   no   \n",
       "...    ...           ...       ...        ...     ...      ...     ...  ...   \n",
       "45206   51    technician   married   tertiary      no      825      no   no   \n",
       "45207   71       retired  divorced    primary      no     1729      no   no   \n",
       "45208   72       retired   married  secondary      no     5715      no   no   \n",
       "45209   57   blue-collar   married  secondary      no      668      no   no   \n",
       "45210   37  entrepreneur   married  secondary      no     2971      no   no   \n",
       "\n",
       "         contact  day month  duration  campaign  pdays  previous poutcome    y  \n",
       "0        unknown    5   may       261         1     -1         0  unknown   no  \n",
       "1        unknown    5   may       151         1     -1         0  unknown   no  \n",
       "2        unknown    5   may        76         1     -1         0  unknown   no  \n",
       "3        unknown    5   may        92         1     -1         0  unknown   no  \n",
       "4        unknown    5   may       198         1     -1         0  unknown   no  \n",
       "...          ...  ...   ...       ...       ...    ...       ...      ...  ...  \n",
       "45206   cellular   17   nov       977         3     -1         0  unknown  yes  \n",
       "45207   cellular   17   nov       456         2     -1         0  unknown  yes  \n",
       "45208   cellular   17   nov      1127         5    184         3  success  yes  \n",
       "45209  telephone   17   nov       508         4     -1         0  unknown   no  \n",
       "45210   cellular   17   nov       361         2    188        11    other   no  \n",
       "\n",
       "[45211 rows x 17 columns]"
      ]
     },
     "execution_count": 3,
     "metadata": {},
     "output_type": "execute_result"
    }
   ],
   "source": [
    "#read the dataset and remove the id column \n",
    "#https://www.kaggle.com/datasets/edith2021/bank-marketing-campaign\n",
    "\n",
    "#the path of the dataset folder and the name of the dataset were added in order to be joined together\n",
    "#adding the path and the dataset name and join the 2 string together\n",
    "dataset = os.sep.join(['data'] + ['bank.csv'])\n",
    "\n",
    "#read the dataset using read_csv() and passing filepath (data/bank.csv)\n",
    "data = pd.read_csv(dataset)\n",
    "\n",
    "#display the dataset\n",
    "data"
   ]
  },
  {
   "cell_type": "code",
   "execution_count": 4,
   "metadata": {},
   "outputs": [
    {
     "data": {
      "text/html": [
       "<div>\n",
       "<style scoped>\n",
       "    .dataframe tbody tr th:only-of-type {\n",
       "        vertical-align: middle;\n",
       "    }\n",
       "\n",
       "    .dataframe tbody tr th {\n",
       "        vertical-align: top;\n",
       "    }\n",
       "\n",
       "    .dataframe thead th {\n",
       "        text-align: right;\n",
       "    }\n",
       "</style>\n",
       "<table border=\"1\" class=\"dataframe\">\n",
       "  <thead>\n",
       "    <tr style=\"text-align: right;\">\n",
       "      <th></th>\n",
       "      <th>age</th>\n",
       "      <th>job</th>\n",
       "      <th>marital</th>\n",
       "      <th>education</th>\n",
       "      <th>default</th>\n",
       "      <th>balance</th>\n",
       "      <th>housing</th>\n",
       "      <th>loan</th>\n",
       "      <th>contact</th>\n",
       "      <th>day</th>\n",
       "      <th>month</th>\n",
       "      <th>duration</th>\n",
       "      <th>campaign</th>\n",
       "      <th>pdays</th>\n",
       "      <th>previous</th>\n",
       "      <th>poutcome</th>\n",
       "      <th>target</th>\n",
       "    </tr>\n",
       "  </thead>\n",
       "  <tbody>\n",
       "    <tr>\n",
       "      <th>0</th>\n",
       "      <td>58</td>\n",
       "      <td>management</td>\n",
       "      <td>married</td>\n",
       "      <td>tertiary</td>\n",
       "      <td>no</td>\n",
       "      <td>2143</td>\n",
       "      <td>yes</td>\n",
       "      <td>no</td>\n",
       "      <td>unknown</td>\n",
       "      <td>5</td>\n",
       "      <td>may</td>\n",
       "      <td>261</td>\n",
       "      <td>1</td>\n",
       "      <td>-1</td>\n",
       "      <td>0</td>\n",
       "      <td>unknown</td>\n",
       "      <td>no</td>\n",
       "    </tr>\n",
       "    <tr>\n",
       "      <th>1</th>\n",
       "      <td>44</td>\n",
       "      <td>technician</td>\n",
       "      <td>single</td>\n",
       "      <td>secondary</td>\n",
       "      <td>no</td>\n",
       "      <td>29</td>\n",
       "      <td>yes</td>\n",
       "      <td>no</td>\n",
       "      <td>unknown</td>\n",
       "      <td>5</td>\n",
       "      <td>may</td>\n",
       "      <td>151</td>\n",
       "      <td>1</td>\n",
       "      <td>-1</td>\n",
       "      <td>0</td>\n",
       "      <td>unknown</td>\n",
       "      <td>no</td>\n",
       "    </tr>\n",
       "    <tr>\n",
       "      <th>2</th>\n",
       "      <td>33</td>\n",
       "      <td>entrepreneur</td>\n",
       "      <td>married</td>\n",
       "      <td>secondary</td>\n",
       "      <td>no</td>\n",
       "      <td>2</td>\n",
       "      <td>yes</td>\n",
       "      <td>yes</td>\n",
       "      <td>unknown</td>\n",
       "      <td>5</td>\n",
       "      <td>may</td>\n",
       "      <td>76</td>\n",
       "      <td>1</td>\n",
       "      <td>-1</td>\n",
       "      <td>0</td>\n",
       "      <td>unknown</td>\n",
       "      <td>no</td>\n",
       "    </tr>\n",
       "    <tr>\n",
       "      <th>3</th>\n",
       "      <td>47</td>\n",
       "      <td>blue-collar</td>\n",
       "      <td>married</td>\n",
       "      <td>unknown</td>\n",
       "      <td>no</td>\n",
       "      <td>1506</td>\n",
       "      <td>yes</td>\n",
       "      <td>no</td>\n",
       "      <td>unknown</td>\n",
       "      <td>5</td>\n",
       "      <td>may</td>\n",
       "      <td>92</td>\n",
       "      <td>1</td>\n",
       "      <td>-1</td>\n",
       "      <td>0</td>\n",
       "      <td>unknown</td>\n",
       "      <td>no</td>\n",
       "    </tr>\n",
       "    <tr>\n",
       "      <th>4</th>\n",
       "      <td>33</td>\n",
       "      <td>unknown</td>\n",
       "      <td>single</td>\n",
       "      <td>unknown</td>\n",
       "      <td>no</td>\n",
       "      <td>1</td>\n",
       "      <td>no</td>\n",
       "      <td>no</td>\n",
       "      <td>unknown</td>\n",
       "      <td>5</td>\n",
       "      <td>may</td>\n",
       "      <td>198</td>\n",
       "      <td>1</td>\n",
       "      <td>-1</td>\n",
       "      <td>0</td>\n",
       "      <td>unknown</td>\n",
       "      <td>no</td>\n",
       "    </tr>\n",
       "  </tbody>\n",
       "</table>\n",
       "</div>"
      ],
      "text/plain": [
       "   age           job  marital  education default  balance housing loan  \\\n",
       "0   58    management  married   tertiary      no     2143     yes   no   \n",
       "1   44    technician   single  secondary      no       29     yes   no   \n",
       "2   33  entrepreneur  married  secondary      no        2     yes  yes   \n",
       "3   47   blue-collar  married    unknown      no     1506     yes   no   \n",
       "4   33       unknown   single    unknown      no        1      no   no   \n",
       "\n",
       "   contact  day month  duration  campaign  pdays  previous poutcome target  \n",
       "0  unknown    5   may       261         1     -1         0  unknown     no  \n",
       "1  unknown    5   may       151         1     -1         0  unknown     no  \n",
       "2  unknown    5   may        76         1     -1         0  unknown     no  \n",
       "3  unknown    5   may        92         1     -1         0  unknown     no  \n",
       "4  unknown    5   may       198         1     -1         0  unknown     no  "
      ]
     },
     "execution_count": 4,
     "metadata": {},
     "output_type": "execute_result"
    }
   ],
   "source": [
    "#rename the y column to target\n",
    "data = data.rename(columns={\"y\": \"target\"})\n",
    "#display the first 5 rows\n",
    "data.head()"
   ]
  },
  {
   "cell_type": "code",
   "execution_count": 5,
   "metadata": {},
   "outputs": [
    {
     "name": "stdout",
     "output_type": "stream",
     "text": [
      "(45211, 17)\n",
      "17\n",
      "45211\n"
     ]
    }
   ],
   "source": [
    "#print both the number of rows and columns using shape function\n",
    "print(data.shape)\n",
    "\n",
    "#print the number of columns in the dataframe using shape[1] function\n",
    "print(data.shape[1])\n",
    "\n",
    "#print the number of rows in the dataset using shape[0], to getthe number of columns shape[1] can be used\n",
    "print(data.shape[0])"
   ]
  },
  {
   "cell_type": "code",
   "execution_count": 6,
   "metadata": {},
   "outputs": [
    {
     "data": {
      "text/plain": [
       "768587"
      ]
     },
     "execution_count": 6,
     "metadata": {},
     "output_type": "execute_result"
    }
   ],
   "source": [
    "#get the size of the dataset, size = an int representing the number of elements in this object\n",
    "data.size"
   ]
  },
  {
   "cell_type": "code",
   "execution_count": 7,
   "metadata": {},
   "outputs": [
    {
     "data": {
      "text/plain": [
       "(45211, 17)"
      ]
     },
     "execution_count": 7,
     "metadata": {},
     "output_type": "execute_result"
    }
   ],
   "source": [
    "#get the shape of the dataset, shape = a tuple representing the dimensionality of the DataFrame\n",
    "data.shape"
   ]
  },
  {
   "cell_type": "code",
   "execution_count": 8,
   "metadata": {},
   "outputs": [
    {
     "data": {
      "text/plain": [
       "age           int64\n",
       "job          object\n",
       "marital      object\n",
       "education    object\n",
       "default      object\n",
       "balance       int64\n",
       "housing      object\n",
       "loan         object\n",
       "contact      object\n",
       "day           int64\n",
       "month        object\n",
       "duration      int64\n",
       "campaign      int64\n",
       "pdays         int64\n",
       "previous      int64\n",
       "poutcome     object\n",
       "target       object\n",
       "dtype: object"
      ]
     },
     "execution_count": 8,
     "metadata": {},
     "output_type": "execute_result"
    }
   ],
   "source": [
    "#get the data type of each column\n",
    "data.dtypes"
   ]
  },
  {
   "cell_type": "code",
   "execution_count": 9,
   "metadata": {},
   "outputs": [
    {
     "name": "stdout",
     "output_type": "stream",
     "text": [
      "<class 'pandas.core.frame.DataFrame'>\n",
      "RangeIndex: 45211 entries, 0 to 45210\n",
      "Data columns (total 17 columns):\n",
      " #   Column     Non-Null Count  Dtype \n",
      "---  ------     --------------  ----- \n",
      " 0   age        45211 non-null  int64 \n",
      " 1   job        45211 non-null  object\n",
      " 2   marital    45211 non-null  object\n",
      " 3   education  45211 non-null  object\n",
      " 4   default    45211 non-null  object\n",
      " 5   balance    45211 non-null  int64 \n",
      " 6   housing    45211 non-null  object\n",
      " 7   loan       45211 non-null  object\n",
      " 8   contact    45211 non-null  object\n",
      " 9   day        45211 non-null  int64 \n",
      " 10  month      45211 non-null  object\n",
      " 11  duration   45211 non-null  int64 \n",
      " 12  campaign   45211 non-null  int64 \n",
      " 13  pdays      45211 non-null  int64 \n",
      " 14  previous   45211 non-null  int64 \n",
      " 15  poutcome   45211 non-null  object\n",
      " 16  target     45211 non-null  object\n",
      "dtypes: int64(7), object(10)\n",
      "memory usage: 5.9+ MB\n"
     ]
    }
   ],
   "source": [
    "#check for data type, missing values and null values\n",
    "data.info()"
   ]
  },
  {
   "cell_type": "code",
   "execution_count": 10,
   "metadata": {},
   "outputs": [
    {
     "data": {
      "text/plain": [
       "age          False\n",
       "job          False\n",
       "marital      False\n",
       "education    False\n",
       "default      False\n",
       "balance      False\n",
       "housing      False\n",
       "loan         False\n",
       "contact      False\n",
       "day          False\n",
       "month        False\n",
       "duration     False\n",
       "campaign     False\n",
       "pdays        False\n",
       "previous     False\n",
       "poutcome     False\n",
       "target       False\n",
       "dtype: bool"
      ]
     },
     "execution_count": 10,
     "metadata": {},
     "output_type": "execute_result"
    }
   ],
   "source": [
    "#check for null values\n",
    "data.isnull().any()"
   ]
  },
  {
   "cell_type": "code",
   "execution_count": 11,
   "metadata": {},
   "outputs": [
    {
     "name": "stdout",
     "output_type": "stream",
     "text": [
      "total null values:  age          0\n",
      "job          0\n",
      "marital      0\n",
      "education    0\n",
      "default      0\n",
      "balance      0\n",
      "housing      0\n",
      "loan         0\n",
      "contact      0\n",
      "day          0\n",
      "month        0\n",
      "duration     0\n",
      "campaign     0\n",
      "pdays        0\n",
      "previous     0\n",
      "poutcome     0\n",
      "target       0\n",
      "dtype: int64\n"
     ]
    }
   ],
   "source": [
    "#get the number of missing values in each column\n",
    "print (\"total null values: \", data.isna().sum())"
   ]
  },
  {
   "cell_type": "code",
   "execution_count": 12,
   "metadata": {},
   "outputs": [
    {
     "data": {
      "text/plain": [
       "age          45211\n",
       "job          45211\n",
       "marital      45211\n",
       "education    45211\n",
       "default      45211\n",
       "balance      45211\n",
       "housing      45211\n",
       "loan         45211\n",
       "contact      45211\n",
       "day          45211\n",
       "month        45211\n",
       "duration     45211\n",
       "campaign     45211\n",
       "pdays        45211\n",
       "previous     45211\n",
       "poutcome     45211\n",
       "target       45211\n",
       "dtype: int64"
      ]
     },
     "execution_count": 12,
     "metadata": {},
     "output_type": "execute_result"
    }
   ],
   "source": [
    "#check for missing values, no missing values were founded\n",
    "data.count()"
   ]
  },
  {
   "cell_type": "code",
   "execution_count": 13,
   "metadata": {},
   "outputs": [
    {
     "data": {
      "text/html": [
       "<div>\n",
       "<style scoped>\n",
       "    .dataframe tbody tr th:only-of-type {\n",
       "        vertical-align: middle;\n",
       "    }\n",
       "\n",
       "    .dataframe tbody tr th {\n",
       "        vertical-align: top;\n",
       "    }\n",
       "\n",
       "    .dataframe thead th {\n",
       "        text-align: right;\n",
       "    }\n",
       "</style>\n",
       "<table border=\"1\" class=\"dataframe\">\n",
       "  <thead>\n",
       "    <tr style=\"text-align: right;\">\n",
       "      <th></th>\n",
       "      <th>age</th>\n",
       "      <th>balance</th>\n",
       "      <th>day</th>\n",
       "      <th>duration</th>\n",
       "      <th>campaign</th>\n",
       "      <th>pdays</th>\n",
       "      <th>previous</th>\n",
       "    </tr>\n",
       "  </thead>\n",
       "  <tbody>\n",
       "    <tr>\n",
       "      <th>count</th>\n",
       "      <td>45211.000000</td>\n",
       "      <td>45211.000000</td>\n",
       "      <td>45211.000000</td>\n",
       "      <td>45211.000000</td>\n",
       "      <td>45211.000000</td>\n",
       "      <td>45211.000000</td>\n",
       "      <td>45211.000000</td>\n",
       "    </tr>\n",
       "    <tr>\n",
       "      <th>mean</th>\n",
       "      <td>40.936210</td>\n",
       "      <td>1362.272058</td>\n",
       "      <td>15.806419</td>\n",
       "      <td>258.163080</td>\n",
       "      <td>2.763841</td>\n",
       "      <td>40.197828</td>\n",
       "      <td>0.580323</td>\n",
       "    </tr>\n",
       "    <tr>\n",
       "      <th>std</th>\n",
       "      <td>10.618762</td>\n",
       "      <td>3044.765829</td>\n",
       "      <td>8.322476</td>\n",
       "      <td>257.527812</td>\n",
       "      <td>3.098021</td>\n",
       "      <td>100.128746</td>\n",
       "      <td>2.303441</td>\n",
       "    </tr>\n",
       "    <tr>\n",
       "      <th>min</th>\n",
       "      <td>18.000000</td>\n",
       "      <td>-8019.000000</td>\n",
       "      <td>1.000000</td>\n",
       "      <td>0.000000</td>\n",
       "      <td>1.000000</td>\n",
       "      <td>-1.000000</td>\n",
       "      <td>0.000000</td>\n",
       "    </tr>\n",
       "    <tr>\n",
       "      <th>25%</th>\n",
       "      <td>33.000000</td>\n",
       "      <td>72.000000</td>\n",
       "      <td>8.000000</td>\n",
       "      <td>103.000000</td>\n",
       "      <td>1.000000</td>\n",
       "      <td>-1.000000</td>\n",
       "      <td>0.000000</td>\n",
       "    </tr>\n",
       "    <tr>\n",
       "      <th>50%</th>\n",
       "      <td>39.000000</td>\n",
       "      <td>448.000000</td>\n",
       "      <td>16.000000</td>\n",
       "      <td>180.000000</td>\n",
       "      <td>2.000000</td>\n",
       "      <td>-1.000000</td>\n",
       "      <td>0.000000</td>\n",
       "    </tr>\n",
       "    <tr>\n",
       "      <th>75%</th>\n",
       "      <td>48.000000</td>\n",
       "      <td>1428.000000</td>\n",
       "      <td>21.000000</td>\n",
       "      <td>319.000000</td>\n",
       "      <td>3.000000</td>\n",
       "      <td>-1.000000</td>\n",
       "      <td>0.000000</td>\n",
       "    </tr>\n",
       "    <tr>\n",
       "      <th>max</th>\n",
       "      <td>95.000000</td>\n",
       "      <td>102127.000000</td>\n",
       "      <td>31.000000</td>\n",
       "      <td>4918.000000</td>\n",
       "      <td>63.000000</td>\n",
       "      <td>871.000000</td>\n",
       "      <td>275.000000</td>\n",
       "    </tr>\n",
       "  </tbody>\n",
       "</table>\n",
       "</div>"
      ],
      "text/plain": [
       "                age        balance           day      duration      campaign  \\\n",
       "count  45211.000000   45211.000000  45211.000000  45211.000000  45211.000000   \n",
       "mean      40.936210    1362.272058     15.806419    258.163080      2.763841   \n",
       "std       10.618762    3044.765829      8.322476    257.527812      3.098021   \n",
       "min       18.000000   -8019.000000      1.000000      0.000000      1.000000   \n",
       "25%       33.000000      72.000000      8.000000    103.000000      1.000000   \n",
       "50%       39.000000     448.000000     16.000000    180.000000      2.000000   \n",
       "75%       48.000000    1428.000000     21.000000    319.000000      3.000000   \n",
       "max       95.000000  102127.000000     31.000000   4918.000000     63.000000   \n",
       "\n",
       "              pdays      previous  \n",
       "count  45211.000000  45211.000000  \n",
       "mean      40.197828      0.580323  \n",
       "std      100.128746      2.303441  \n",
       "min       -1.000000      0.000000  \n",
       "25%       -1.000000      0.000000  \n",
       "50%       -1.000000      0.000000  \n",
       "75%       -1.000000      0.000000  \n",
       "max      871.000000    275.000000  "
      ]
     },
     "execution_count": 13,
     "metadata": {},
     "output_type": "execute_result"
    }
   ],
   "source": [
    "#create a descriptive statistics, including those that summarize the central tendency, dispersion and shape of a dataset’s distribution, excluding NaN values\n",
    "data.describe()"
   ]
  },
  {
   "cell_type": "code",
   "execution_count": 14,
   "metadata": {},
   "outputs": [
    {
     "data": {
      "image/png": "[encoded data removed]",
      "text/plain": [
       "<Figure size 864x432 with 7 Axes>"
      ]
     },
     "metadata": {
      "needs_background": "light"
     },
     "output_type": "display_data"
    }
   ],
   "source": [
    "#plot the histograms for the numerical features, using Matplotlib and Seaborn libraries\n",
    "\n",
    "#for all the columns execpt the object columns (where the columns type is not an object)\n",
    "quan = list(data.loc[:, data.dtypes != 'object'].columns.values)\n",
    "#a multi-plot grid that is used to plot conditional relationships\n",
    "grid = sns.FacetGrid(pd.melt(data, value_vars=quan), col='variable', col_wrap=4, height=3, aspect=1, sharex=False, sharey=False)\n",
    "#use map to apply a plotting function to each facet’s subset of the data\n",
    "grid.map(plt.hist, 'value', color=\"grey\")\n",
    "#display all figures\n",
    "plt.show()\n"
   ]
  },
  {
   "cell_type": "code",
   "execution_count": 15,
   "metadata": {
    "scrolled": false
   },
   "outputs": [
    {
     "data": {
      "image/png": "[encoded data removed]",
      "text/plain": [
       "<Figure size 432x288 with 1 Axes>"
      ]
     },
     "metadata": {
      "needs_background": "light"
     },
     "output_type": "display_data"
    },
    {
     "data": {
      "image/png": "[encoded data removed]",
      "text/plain": [
       "<Figure size 432x288 with 1 Axes>"
      ]
     },
     "metadata": {
      "needs_background": "light"
     },
     "output_type": "display_data"
    },
    {
     "data": {
      "image/png": "[encoded data removed]",
      "text/plain": [
       "<Figure size 432x288 with 1 Axes>"
      ]
     },
     "metadata": {
      "needs_background": "light"
     },
     "output_type": "display_data"
    },
    {
     "data": {
      "image/png": "[encoded data removed]",
      "text/plain": [
       "<Figure size 432x288 with 1 Axes>"
      ]
     },
     "metadata": {
      "needs_background": "light"
     },
     "output_type": "display_data"
    },
    {
     "data": {
      "image/png": "[encoded data removed]",
      "text/plain": [
       "<Figure size 432x288 with 1 Axes>"
      ]
     },
     "metadata": {
      "needs_background": "light"
     },
     "output_type": "display_data"
    },
    {
     "data": {
      "image/png": "[encoded data removed]",
      "text/plain": [
       "<Figure size 432x288 with 1 Axes>"
      ]
     },
     "metadata": {
      "needs_background": "light"
     },
     "output_type": "display_data"
    },
    {
     "data": {
      "image/png": "[encoded data removed]",
      "text/plain": [
       "<Figure size 432x288 with 1 Axes>"
      ]
     },
     "metadata": {
      "needs_background": "light"
     },
     "output_type": "display_data"
    },
    {
     "data": {
      "image/png": "[encoded data removed]",
      "text/plain": [
       "<Figure size 432x288 with 1 Axes>"
      ]
     },
     "metadata": {
      "needs_background": "light"
     },
     "output_type": "display_data"
    },
    {
     "data": {
      "image/png": "[encoded data removed]",
      "text/plain": [
       "<Figure size 432x288 with 1 Axes>"
      ]
     },
     "metadata": {
      "needs_background": "light"
     },
     "output_type": "display_data"
    }
   ],
   "source": [
    "#plotting the categorical features before converting them to numeric values\n",
    "#store values into targetYes when the taget value is yes\n",
    "targetYes = data[data['target'] == 'yes']\n",
    "#store values into targetNo when the taget value is no\n",
    "targetNo = data[data['target'] == 'no']\n",
    "#loop around the categorical headers\n",
    "for header in CategoricalHeaders:\n",
    "    #teturn evenly spaced values within a given interval (the length of the unique values based on a hash table for the targetNo value in each header)\n",
    "    x = np.arange(len(targetNo[header].unique()))\n",
    "    bar_width = 0.35\n",
    "    #y = a series containing counts of unique values of the targetYes value in each header\n",
    "    y = targetYes[header].value_counts(sort=True, ascending=False)\n",
    "    #y1 = a series containing counts of unique values of the targetNo value in each header\n",
    "    y1 = targetNo[header].value_counts(sort=True, ascending=False)\n",
    "    #create a bar plot\n",
    "    plt.bar(x, y, bar_width, align=\"center\", color=\"red\", label=\"Yes\", alpha=0.5)\n",
    "    #create a bar plot\n",
    "    plt.bar(x+bar_width, y1, bar_width, color=\"blue\", align=\"center\", label=\"No\", alpha=0.5)\n",
    "    #if the header is job make the plot current tick locations rotate 90 degrees to fit all the data\n",
    "    if header == 'job':\n",
    "        plt.xticks(x+bar_width/2, targetNo[header].unique(), rotation = 90)\n",
    "    #else keep the plot current tick locations the same without rotating\n",
    "    else:\n",
    "        plt.xticks(x+bar_width/2, targetNo[header].unique())\n",
    "    #set the label for the x-axis to the header name\n",
    "    plt.xlabel(header)\n",
    "    #place the legend on the Axes\n",
    "    plt.legend()\n",
    "    #display all figures\n",
    "    plt.show()"
   ]
  },
  {
   "cell_type": "code",
   "execution_count": 16,
   "metadata": {},
   "outputs": [
    {
     "data": {
      "image/png": "[encoded data removed]",
      "text/plain": [
       "<Figure size 864x216 with 1 Axes>"
      ]
     },
     "metadata": {
      "needs_background": "light"
     },
     "output_type": "display_data"
    }
   ],
   "source": [
    "#plot the histograms for the target feature\n",
    "#a multi-plot grid that is used to plot conditional relationships\n",
    "grid = sns.FacetGrid(pd.melt(data, value_vars='target'), col='variable', col_wrap=4, height=3, aspect=1, sharex=False, sharey=False)\n",
    "#use map to apply a plotting function to each facet’s subset of the data\n",
    "grid.map(plt.hist, 'value', color=\"green\")\n",
    "#display all figures\n",
    "plt.show()"
   ]
  },
  {
   "cell_type": "code",
   "execution_count": 17,
   "metadata": {},
   "outputs": [
    {
     "data": {
      "image/png": "[encoded data removed]",
      "text/plain": [
       "<Figure size 432x288 with 2 Axes>"
      ]
     },
     "metadata": {
      "needs_background": "light"
     },
     "output_type": "display_data"
    }
   ],
   "source": [
    "#basic linear correlations\n",
    "sns.heatmap(data._get_numeric_data().astype(float).corr(), square=True, cmap='RdBu_r', linewidths=.5, annot=True, fmt='.2f').figure.tight_layout()\n",
    "#display all figures\n",
    "plt.show()"
   ]
  },
  {
   "cell_type": "code",
   "execution_count": 18,
   "metadata": {},
   "outputs": [
    {
     "data": {
      "text/plain": [
       "unknown    36959\n",
       "failure     4901\n",
       "other       1840\n",
       "success     1511\n",
       "Name: poutcome, dtype: int64"
      ]
     },
     "execution_count": 18,
     "metadata": {},
     "output_type": "execute_result"
    }
   ],
   "source": [
    "#check for the poutcome outliers\n",
    "data['poutcome'].value_counts()"
   ]
  },
  {
   "cell_type": "code",
   "execution_count": 19,
   "metadata": {},
   "outputs": [
    {
     "data": {
      "text/plain": [
       " 0        3514\n",
       " 1         195\n",
       " 2         156\n",
       " 4         139\n",
       " 3         134\n",
       "          ... \n",
       "-381         1\n",
       " 4617        1\n",
       " 20584       1\n",
       " 4358        1\n",
       " 16353       1\n",
       "Name: balance, Length: 7168, dtype: int64"
      ]
     },
     "execution_count": 19,
     "metadata": {},
     "output_type": "execute_result"
    }
   ],
   "source": [
    "#check for the balance outliers\n",
    "data['balance'].value_counts()"
   ]
  },
  {
   "cell_type": "code",
   "execution_count": 20,
   "metadata": {},
   "outputs": [
    {
     "data": {
      "text/plain": [
       "-1      36954\n",
       " 182      167\n",
       " 92       147\n",
       " 91       126\n",
       " 183      126\n",
       "        ...  \n",
       " 449        1\n",
       " 452        1\n",
       " 648        1\n",
       " 595        1\n",
       " 530        1\n",
       "Name: pdays, Length: 559, dtype: int64"
      ]
     },
     "execution_count": 20,
     "metadata": {},
     "output_type": "execute_result"
    }
   ],
   "source": [
    "#check for the pdays outliers\n",
    "data['pdays'].value_counts()"
   ]
  },
  {
   "cell_type": "code",
   "execution_count": 21,
   "metadata": {},
   "outputs": [
    {
     "data": {
      "text/plain": [
       "blue-collar      9732\n",
       "management       9458\n",
       "technician       7597\n",
       "admin.           5171\n",
       "services         4154\n",
       "retired          2264\n",
       "self-employed    1579\n",
       "entrepreneur     1487\n",
       "unemployed       1303\n",
       "housemaid        1240\n",
       "student           938\n",
       "unknown           288\n",
       "Name: job, dtype: int64"
      ]
     },
     "execution_count": 21,
     "metadata": {},
     "output_type": "execute_result"
    }
   ],
   "source": [
    "#check for the job outliers\n",
    "data['job'].value_counts()"
   ]
  },
  {
   "cell_type": "code",
   "execution_count": 22,
   "metadata": {},
   "outputs": [
    {
     "data": {
      "text/plain": [
       "secondary    23202\n",
       "tertiary     13301\n",
       "primary       6851\n",
       "unknown       1857\n",
       "Name: education, dtype: int64"
      ]
     },
     "execution_count": 22,
     "metadata": {},
     "output_type": "execute_result"
    }
   ],
   "source": [
    "#check for the education outliers\n",
    "data['education'].value_counts()"
   ]
  },
  {
   "cell_type": "code",
   "execution_count": 23,
   "metadata": {},
   "outputs": [
    {
     "data": {
      "text/plain": [
       "no     44396\n",
       "yes      815\n",
       "Name: default, dtype: int64"
      ]
     },
     "execution_count": 23,
     "metadata": {},
     "output_type": "execute_result"
    }
   ],
   "source": [
    "#check for the default outliers\n",
    "data['default'].value_counts()"
   ]
  },
  {
   "cell_type": "code",
   "execution_count": 24,
   "metadata": {},
   "outputs": [
    {
     "data": {
      "text/plain": [
       "32    2085\n",
       "31    1996\n",
       "33    1972\n",
       "34    1930\n",
       "35    1894\n",
       "      ... \n",
       "93       2\n",
       "90       2\n",
       "95       2\n",
       "88       2\n",
       "94       1\n",
       "Name: age, Length: 77, dtype: int64"
      ]
     },
     "execution_count": 24,
     "metadata": {},
     "output_type": "execute_result"
    }
   ],
   "source": [
    "#check for the age outliers\n",
    "data['age'].value_counts()"
   ]
  },
  {
   "cell_type": "code",
   "execution_count": 25,
   "metadata": {},
   "outputs": [
    {
     "data": {
      "text/plain": [
       "cellular     29285\n",
       "unknown      13020\n",
       "telephone     2906\n",
       "Name: contact, dtype: int64"
      ]
     },
     "execution_count": 25,
     "metadata": {},
     "output_type": "execute_result"
    }
   ],
   "source": [
    "#check for the contact outliers\n",
    "data['contact'].value_counts()"
   ]
  },
  {
   "cell_type": "code",
   "execution_count": 26,
   "metadata": {
    "scrolled": true
   },
   "outputs": [
    {
     "data": {
      "text/plain": [
       "1     17544\n",
       "2     12505\n",
       "3      5521\n",
       "4      3522\n",
       "5      1764\n",
       "6      1291\n",
       "7       735\n",
       "8       540\n",
       "9       327\n",
       "10      266\n",
       "11      201\n",
       "12      155\n",
       "13      133\n",
       "14       93\n",
       "15       84\n",
       "16       79\n",
       "17       69\n",
       "18       51\n",
       "19       44\n",
       "20       43\n",
       "21       35\n",
       "22       23\n",
       "25       22\n",
       "23       22\n",
       "24       20\n",
       "29       16\n",
       "28       16\n",
       "26       13\n",
       "31       12\n",
       "27       10\n",
       "32        9\n",
       "30        8\n",
       "33        6\n",
       "34        5\n",
       "36        4\n",
       "35        4\n",
       "43        3\n",
       "38        3\n",
       "37        2\n",
       "50        2\n",
       "41        2\n",
       "46        1\n",
       "58        1\n",
       "55        1\n",
       "63        1\n",
       "51        1\n",
       "39        1\n",
       "44        1\n",
       "Name: campaign, dtype: int64"
      ]
     },
     "execution_count": 26,
     "metadata": {},
     "output_type": "execute_result"
    }
   ],
   "source": [
    "#check for the campaign outliers\n",
    "data['campaign'].value_counts()"
   ]
  },
  {
   "cell_type": "code",
   "execution_count": 27,
   "metadata": {},
   "outputs": [
    {
     "data": {
      "text/plain": [
       "0      36954\n",
       "1       2772\n",
       "2       2106\n",
       "3       1142\n",
       "4        714\n",
       "5        459\n",
       "6        277\n",
       "7        205\n",
       "8        129\n",
       "9         92\n",
       "10        67\n",
       "11        65\n",
       "12        44\n",
       "13        38\n",
       "15        20\n",
       "14        19\n",
       "17        15\n",
       "16        13\n",
       "19        11\n",
       "20         8\n",
       "23         8\n",
       "18         6\n",
       "22         6\n",
       "24         5\n",
       "27         5\n",
       "21         4\n",
       "29         4\n",
       "25         4\n",
       "30         3\n",
       "38         2\n",
       "37         2\n",
       "26         2\n",
       "28         2\n",
       "51         1\n",
       "275        1\n",
       "58         1\n",
       "32         1\n",
       "40         1\n",
       "55         1\n",
       "35         1\n",
       "41         1\n",
       "Name: previous, dtype: int64"
      ]
     },
     "execution_count": 27,
     "metadata": {},
     "output_type": "execute_result"
    }
   ],
   "source": [
    "#check for the previous outliers\n",
    "data['previous'].value_counts()"
   ]
  },
  {
   "cell_type": "code",
   "execution_count": 28,
   "metadata": {},
   "outputs": [
    {
     "data": {
      "text/plain": [
       "124     188\n",
       "90      184\n",
       "89      177\n",
       "104     175\n",
       "122     175\n",
       "       ... \n",
       "1833      1\n",
       "1545      1\n",
       "1352      1\n",
       "1342      1\n",
       "1556      1\n",
       "Name: duration, Length: 1573, dtype: int64"
      ]
     },
     "execution_count": 28,
     "metadata": {},
     "output_type": "execute_result"
    }
   ],
   "source": [
    "#check for the duration outliers\n",
    "data['duration'].value_counts()"
   ]
  },
  {
   "cell_type": "code",
   "execution_count": 29,
   "metadata": {},
   "outputs": [
    {
     "data": {
      "text/plain": [
       "0      36954\n",
       "1       2772\n",
       "2       2106\n",
       "3       1142\n",
       "4        714\n",
       "5        459\n",
       "6        277\n",
       "7        205\n",
       "8        129\n",
       "9         92\n",
       "10        67\n",
       "11        65\n",
       "12        44\n",
       "13        38\n",
       "15        20\n",
       "14        19\n",
       "17        15\n",
       "16        13\n",
       "19        11\n",
       "20         8\n",
       "23         8\n",
       "18         6\n",
       "22         6\n",
       "24         5\n",
       "27         5\n",
       "21         4\n",
       "29         4\n",
       "25         4\n",
       "30         3\n",
       "38         2\n",
       "37         2\n",
       "26         2\n",
       "28         2\n",
       "51         1\n",
       "275        1\n",
       "58         1\n",
       "32         1\n",
       "40         1\n",
       "55         1\n",
       "35         1\n",
       "41         1\n",
       "Name: previous, dtype: int64"
      ]
     },
     "execution_count": 29,
     "metadata": {},
     "output_type": "execute_result"
    }
   ],
   "source": [
    "#check for the previous outliers\n",
    "data['previous'].value_counts()"
   ]
  },
  {
   "cell_type": "code",
   "execution_count": 30,
   "metadata": {},
   "outputs": [
    {
     "data": {
      "image/png": "[encoded data removed]",
      "text/plain": [
       "<Figure size 1440x576 with 1 Axes>"
      ]
     },
     "metadata": {
      "needs_background": "light"
     },
     "output_type": "display_data"
    }
   ],
   "source": [
    "#plotting in details\n",
    "#use subplots to create a figure and a set of subplots\n",
    "fig, ax = plt.subplots()\n",
    "#set the figure size, width = 20 inches and height = 8 inches\n",
    "fig.set_size_inches(20, 8)\n",
    "#the counts of observations in each categorical bin using bars\n",
    "sns.countplot(x = 'age', data = data)\n",
    "#set the x label to Age and font size to 10\n",
    "ax.set_xlabel('Age', fontsize=10)\n",
    "#set the y label to Count and font size to 10\n",
    "ax.set_ylabel('Count', fontsize=10)\n",
    "#set the title to Age Count and font size to 10\n",
    "ax.set_title('Age count', fontsize=10)\n",
    "#get rid of the top and right spines from plot\n",
    "sns.despine()"
   ]
  },
  {
   "cell_type": "code",
   "execution_count": 31,
   "metadata": {},
   "outputs": [
    {
     "data": {
      "image/png": "[encoded data removed]",
      "text/plain": [
       "<Figure size 360x360 with 1 Axes>"
      ]
     },
     "metadata": {
      "needs_background": "light"
     },
     "output_type": "display_data"
    },
    {
     "data": {
      "image/png": "[encoded data removed]",
      "text/plain": [
       "<Figure size 360x360 with 1 Axes>"
      ]
     },
     "metadata": {
      "needs_background": "light"
     },
     "output_type": "display_data"
    },
    {
     "data": {
      "image/png": "[encoded data removed]",
      "text/plain": [
       "<Figure size 360x360 with 1 Axes>"
      ]
     },
     "metadata": {
      "needs_background": "light"
     },
     "output_type": "display_data"
    },
    {
     "data": {
      "image/png": "[encoded data removed]",
      "text/plain": [
       "<Figure size 360x360 with 1 Axes>"
      ]
     },
     "metadata": {
      "needs_background": "light"
     },
     "output_type": "display_data"
    }
   ],
   "source": [
    "#Displayinig the age Outliers using a box plot \n",
    "BoxPlotHheaders = [ 'age', 'campaign', 'pdays', 'previous']\n",
    "#loop 4 times\n",
    "for i in range(4):\n",
    "    #create a new figure, width and height = 5 inches\n",
    "    fig = plt.figure(figsize =(5, 5)) \n",
    "    #creating a box plot for the values of each BoxPlotHheaders column\n",
    "    plt.boxplot(data[BoxPlotHheaders[i]]) \n",
    "    #plt.xticks( [i], [BoxPlotHheaders[i]])\n",
    "    # show plot, display all figures \n",
    "    plt.show() "
   ]
  },
  {
   "cell_type": "code",
   "execution_count": 32,
   "metadata": {},
   "outputs": [],
   "source": [
    "#replace unknown to other in both the job and education columns\n",
    "data[['job', 'education']] = data[['job', 'education']].replace(['unknown'], 'others')\n"
   ]
  },
  {
   "cell_type": "code",
   "execution_count": 33,
   "metadata": {},
   "outputs": [
    {
     "name": "stdout",
     "output_type": "stream",
     "text": [
      "45211\n"
     ]
    }
   ],
   "source": [
    "#number of -1 in the pdays coloumn \n",
    "count = (data.pdays == -1)\n",
    "print(count.count())"
   ]
  },
  {
   "cell_type": "code",
   "execution_count": 34,
   "metadata": {},
   "outputs": [],
   "source": [
    "#Removing any -1 in the pdays coloumn \n",
    "data = data[data.pdays != -1]"
   ]
  },
  {
   "cell_type": "code",
   "execution_count": 35,
   "metadata": {},
   "outputs": [
    {
     "data": {
      "text/html": [
       "<div>\n",
       "<style scoped>\n",
       "    .dataframe tbody tr th:only-of-type {\n",
       "        vertical-align: middle;\n",
       "    }\n",
       "\n",
       "    .dataframe tbody tr th {\n",
       "        vertical-align: top;\n",
       "    }\n",
       "\n",
       "    .dataframe thead th {\n",
       "        text-align: right;\n",
       "    }\n",
       "</style>\n",
       "<table border=\"1\" class=\"dataframe\">\n",
       "  <thead>\n",
       "    <tr style=\"text-align: right;\">\n",
       "      <th></th>\n",
       "      <th>age</th>\n",
       "      <th>job</th>\n",
       "      <th>marital</th>\n",
       "      <th>education</th>\n",
       "      <th>default</th>\n",
       "      <th>balance</th>\n",
       "      <th>housing</th>\n",
       "      <th>loan</th>\n",
       "      <th>contact</th>\n",
       "      <th>day</th>\n",
       "      <th>month</th>\n",
       "      <th>duration</th>\n",
       "      <th>campaign</th>\n",
       "      <th>pdays</th>\n",
       "      <th>previous</th>\n",
       "      <th>poutcome</th>\n",
       "      <th>target</th>\n",
       "    </tr>\n",
       "  </thead>\n",
       "  <tbody>\n",
       "    <tr>\n",
       "      <th>24060</th>\n",
       "      <td>33</td>\n",
       "      <td>admin.</td>\n",
       "      <td>married</td>\n",
       "      <td>tertiary</td>\n",
       "      <td>no</td>\n",
       "      <td>882</td>\n",
       "      <td>no</td>\n",
       "      <td>no</td>\n",
       "      <td>telephone</td>\n",
       "      <td>21</td>\n",
       "      <td>oct</td>\n",
       "      <td>39</td>\n",
       "      <td>1</td>\n",
       "      <td>151</td>\n",
       "      <td>3</td>\n",
       "      <td>failure</td>\n",
       "      <td>no</td>\n",
       "    </tr>\n",
       "    <tr>\n",
       "      <th>24062</th>\n",
       "      <td>42</td>\n",
       "      <td>admin.</td>\n",
       "      <td>single</td>\n",
       "      <td>secondary</td>\n",
       "      <td>no</td>\n",
       "      <td>-247</td>\n",
       "      <td>yes</td>\n",
       "      <td>yes</td>\n",
       "      <td>telephone</td>\n",
       "      <td>21</td>\n",
       "      <td>oct</td>\n",
       "      <td>519</td>\n",
       "      <td>1</td>\n",
       "      <td>166</td>\n",
       "      <td>1</td>\n",
       "      <td>other</td>\n",
       "      <td>yes</td>\n",
       "    </tr>\n",
       "    <tr>\n",
       "      <th>24064</th>\n",
       "      <td>33</td>\n",
       "      <td>services</td>\n",
       "      <td>married</td>\n",
       "      <td>secondary</td>\n",
       "      <td>no</td>\n",
       "      <td>3444</td>\n",
       "      <td>yes</td>\n",
       "      <td>no</td>\n",
       "      <td>telephone</td>\n",
       "      <td>21</td>\n",
       "      <td>oct</td>\n",
       "      <td>144</td>\n",
       "      <td>1</td>\n",
       "      <td>91</td>\n",
       "      <td>4</td>\n",
       "      <td>failure</td>\n",
       "      <td>yes</td>\n",
       "    </tr>\n",
       "    <tr>\n",
       "      <th>24072</th>\n",
       "      <td>36</td>\n",
       "      <td>management</td>\n",
       "      <td>married</td>\n",
       "      <td>tertiary</td>\n",
       "      <td>no</td>\n",
       "      <td>2415</td>\n",
       "      <td>yes</td>\n",
       "      <td>no</td>\n",
       "      <td>telephone</td>\n",
       "      <td>22</td>\n",
       "      <td>oct</td>\n",
       "      <td>73</td>\n",
       "      <td>1</td>\n",
       "      <td>86</td>\n",
       "      <td>4</td>\n",
       "      <td>other</td>\n",
       "      <td>no</td>\n",
       "    </tr>\n",
       "    <tr>\n",
       "      <th>24077</th>\n",
       "      <td>36</td>\n",
       "      <td>management</td>\n",
       "      <td>married</td>\n",
       "      <td>tertiary</td>\n",
       "      <td>no</td>\n",
       "      <td>0</td>\n",
       "      <td>yes</td>\n",
       "      <td>no</td>\n",
       "      <td>telephone</td>\n",
       "      <td>23</td>\n",
       "      <td>oct</td>\n",
       "      <td>140</td>\n",
       "      <td>1</td>\n",
       "      <td>143</td>\n",
       "      <td>3</td>\n",
       "      <td>failure</td>\n",
       "      <td>yes</td>\n",
       "    </tr>\n",
       "    <tr>\n",
       "      <th>...</th>\n",
       "      <td>...</td>\n",
       "      <td>...</td>\n",
       "      <td>...</td>\n",
       "      <td>...</td>\n",
       "      <td>...</td>\n",
       "      <td>...</td>\n",
       "      <td>...</td>\n",
       "      <td>...</td>\n",
       "      <td>...</td>\n",
       "      <td>...</td>\n",
       "      <td>...</td>\n",
       "      <td>...</td>\n",
       "      <td>...</td>\n",
       "      <td>...</td>\n",
       "      <td>...</td>\n",
       "      <td>...</td>\n",
       "      <td>...</td>\n",
       "    </tr>\n",
       "    <tr>\n",
       "      <th>45199</th>\n",
       "      <td>34</td>\n",
       "      <td>blue-collar</td>\n",
       "      <td>single</td>\n",
       "      <td>secondary</td>\n",
       "      <td>no</td>\n",
       "      <td>1475</td>\n",
       "      <td>yes</td>\n",
       "      <td>no</td>\n",
       "      <td>cellular</td>\n",
       "      <td>16</td>\n",
       "      <td>nov</td>\n",
       "      <td>1166</td>\n",
       "      <td>3</td>\n",
       "      <td>530</td>\n",
       "      <td>12</td>\n",
       "      <td>other</td>\n",
       "      <td>no</td>\n",
       "    </tr>\n",
       "    <tr>\n",
       "      <th>45201</th>\n",
       "      <td>53</td>\n",
       "      <td>management</td>\n",
       "      <td>married</td>\n",
       "      <td>tertiary</td>\n",
       "      <td>no</td>\n",
       "      <td>583</td>\n",
       "      <td>no</td>\n",
       "      <td>no</td>\n",
       "      <td>cellular</td>\n",
       "      <td>17</td>\n",
       "      <td>nov</td>\n",
       "      <td>226</td>\n",
       "      <td>1</td>\n",
       "      <td>184</td>\n",
       "      <td>4</td>\n",
       "      <td>success</td>\n",
       "      <td>yes</td>\n",
       "    </tr>\n",
       "    <tr>\n",
       "      <th>45204</th>\n",
       "      <td>73</td>\n",
       "      <td>retired</td>\n",
       "      <td>married</td>\n",
       "      <td>secondary</td>\n",
       "      <td>no</td>\n",
       "      <td>2850</td>\n",
       "      <td>no</td>\n",
       "      <td>no</td>\n",
       "      <td>cellular</td>\n",
       "      <td>17</td>\n",
       "      <td>nov</td>\n",
       "      <td>300</td>\n",
       "      <td>1</td>\n",
       "      <td>40</td>\n",
       "      <td>8</td>\n",
       "      <td>failure</td>\n",
       "      <td>yes</td>\n",
       "    </tr>\n",
       "    <tr>\n",
       "      <th>45208</th>\n",
       "      <td>72</td>\n",
       "      <td>retired</td>\n",
       "      <td>married</td>\n",
       "      <td>secondary</td>\n",
       "      <td>no</td>\n",
       "      <td>5715</td>\n",
       "      <td>no</td>\n",
       "      <td>no</td>\n",
       "      <td>cellular</td>\n",
       "      <td>17</td>\n",
       "      <td>nov</td>\n",
       "      <td>1127</td>\n",
       "      <td>5</td>\n",
       "      <td>184</td>\n",
       "      <td>3</td>\n",
       "      <td>success</td>\n",
       "      <td>yes</td>\n",
       "    </tr>\n",
       "    <tr>\n",
       "      <th>45210</th>\n",
       "      <td>37</td>\n",
       "      <td>entrepreneur</td>\n",
       "      <td>married</td>\n",
       "      <td>secondary</td>\n",
       "      <td>no</td>\n",
       "      <td>2971</td>\n",
       "      <td>no</td>\n",
       "      <td>no</td>\n",
       "      <td>cellular</td>\n",
       "      <td>17</td>\n",
       "      <td>nov</td>\n",
       "      <td>361</td>\n",
       "      <td>2</td>\n",
       "      <td>188</td>\n",
       "      <td>11</td>\n",
       "      <td>other</td>\n",
       "      <td>no</td>\n",
       "    </tr>\n",
       "  </tbody>\n",
       "</table>\n",
       "<p>8257 rows × 17 columns</p>\n",
       "</div>"
      ],
      "text/plain": [
       "       age           job  marital  education default  balance housing loan  \\\n",
       "24060   33        admin.  married   tertiary      no      882      no   no   \n",
       "24062   42        admin.   single  secondary      no     -247     yes  yes   \n",
       "24064   33      services  married  secondary      no     3444     yes   no   \n",
       "24072   36    management  married   tertiary      no     2415     yes   no   \n",
       "24077   36    management  married   tertiary      no        0     yes   no   \n",
       "...    ...           ...      ...        ...     ...      ...     ...  ...   \n",
       "45199   34   blue-collar   single  secondary      no     1475     yes   no   \n",
       "45201   53    management  married   tertiary      no      583      no   no   \n",
       "45204   73       retired  married  secondary      no     2850      no   no   \n",
       "45208   72       retired  married  secondary      no     5715      no   no   \n",
       "45210   37  entrepreneur  married  secondary      no     2971      no   no   \n",
       "\n",
       "         contact  day month  duration  campaign  pdays  previous poutcome  \\\n",
       "24060  telephone   21   oct        39         1    151         3  failure   \n",
       "24062  telephone   21   oct       519         1    166         1    other   \n",
       "24064  telephone   21   oct       144         1     91         4  failure   \n",
       "24072  telephone   22   oct        73         1     86         4    other   \n",
       "24077  telephone   23   oct       140         1    143         3  failure   \n",
       "...          ...  ...   ...       ...       ...    ...       ...      ...   \n",
       "45199   cellular   16   nov      1166         3    530        12    other   \n",
       "45201   cellular   17   nov       226         1    184         4  success   \n",
       "45204   cellular   17   nov       300         1     40         8  failure   \n",
       "45208   cellular   17   nov      1127         5    184         3  success   \n",
       "45210   cellular   17   nov       361         2    188        11    other   \n",
       "\n",
       "      target  \n",
       "24060     no  \n",
       "24062    yes  \n",
       "24064    yes  \n",
       "24072     no  \n",
       "24077    yes  \n",
       "...      ...  \n",
       "45199     no  \n",
       "45201    yes  \n",
       "45204    yes  \n",
       "45208    yes  \n",
       "45210     no  \n",
       "\n",
       "[8257 rows x 17 columns]"
      ]
     },
     "execution_count": 35,
     "metadata": {},
     "output_type": "execute_result"
    }
   ],
   "source": [
    "data"
   ]
  },
  {
   "cell_type": "code",
   "execution_count": 36,
   "metadata": {},
   "outputs": [
    {
     "data": {
      "text/plain": [
       "age         1.000000\n",
       "balance     0.115480\n",
       "duration    0.060519\n",
       "day         0.018399\n",
       "campaign    0.003842\n",
       "previous    0.002280\n",
       "pdays      -0.107863\n",
       "Name: age, dtype: float64"
      ]
     },
     "execution_count": 36,
     "metadata": {},
     "output_type": "execute_result"
    }
   ],
   "source": [
    "#the correlations of each feature\n",
    "data.corr(method='pearson').iloc[0].sort_values(ascending=False)"
   ]
  },
  {
   "cell_type": "code",
   "execution_count": 37,
   "metadata": {},
   "outputs": [
    {
     "data": {
      "text/html": [
       "<div>\n",
       "<style scoped>\n",
       "    .dataframe tbody tr th:only-of-type {\n",
       "        vertical-align: middle;\n",
       "    }\n",
       "\n",
       "    .dataframe tbody tr th {\n",
       "        vertical-align: top;\n",
       "    }\n",
       "\n",
       "    .dataframe thead th {\n",
       "        text-align: right;\n",
       "    }\n",
       "</style>\n",
       "<table border=\"1\" class=\"dataframe\">\n",
       "  <thead>\n",
       "    <tr style=\"text-align: right;\">\n",
       "      <th></th>\n",
       "      <th>age</th>\n",
       "      <th>job</th>\n",
       "      <th>marital</th>\n",
       "      <th>education</th>\n",
       "      <th>default</th>\n",
       "      <th>balance</th>\n",
       "      <th>housing</th>\n",
       "      <th>loan</th>\n",
       "      <th>contact</th>\n",
       "      <th>day</th>\n",
       "      <th>month</th>\n",
       "      <th>duration</th>\n",
       "      <th>campaign</th>\n",
       "      <th>pdays</th>\n",
       "      <th>previous</th>\n",
       "      <th>poutcome</th>\n",
       "      <th>target</th>\n",
       "    </tr>\n",
       "  </thead>\n",
       "  <tbody>\n",
       "    <tr>\n",
       "      <th>24060</th>\n",
       "      <td>33</td>\n",
       "      <td>admin.</td>\n",
       "      <td>married</td>\n",
       "      <td>tertiary</td>\n",
       "      <td>no</td>\n",
       "      <td>882</td>\n",
       "      <td>no</td>\n",
       "      <td>no</td>\n",
       "      <td>telephone</td>\n",
       "      <td>21</td>\n",
       "      <td>oct</td>\n",
       "      <td>39</td>\n",
       "      <td>1</td>\n",
       "      <td>151</td>\n",
       "      <td>3</td>\n",
       "      <td>failure</td>\n",
       "      <td>no</td>\n",
       "    </tr>\n",
       "    <tr>\n",
       "      <th>24062</th>\n",
       "      <td>42</td>\n",
       "      <td>admin.</td>\n",
       "      <td>single</td>\n",
       "      <td>secondary</td>\n",
       "      <td>no</td>\n",
       "      <td>-247</td>\n",
       "      <td>yes</td>\n",
       "      <td>yes</td>\n",
       "      <td>telephone</td>\n",
       "      <td>21</td>\n",
       "      <td>oct</td>\n",
       "      <td>519</td>\n",
       "      <td>1</td>\n",
       "      <td>166</td>\n",
       "      <td>1</td>\n",
       "      <td>other</td>\n",
       "      <td>yes</td>\n",
       "    </tr>\n",
       "    <tr>\n",
       "      <th>24064</th>\n",
       "      <td>33</td>\n",
       "      <td>services</td>\n",
       "      <td>married</td>\n",
       "      <td>secondary</td>\n",
       "      <td>no</td>\n",
       "      <td>3444</td>\n",
       "      <td>yes</td>\n",
       "      <td>no</td>\n",
       "      <td>telephone</td>\n",
       "      <td>21</td>\n",
       "      <td>oct</td>\n",
       "      <td>144</td>\n",
       "      <td>1</td>\n",
       "      <td>91</td>\n",
       "      <td>4</td>\n",
       "      <td>failure</td>\n",
       "      <td>yes</td>\n",
       "    </tr>\n",
       "    <tr>\n",
       "      <th>24072</th>\n",
       "      <td>36</td>\n",
       "      <td>management</td>\n",
       "      <td>married</td>\n",
       "      <td>tertiary</td>\n",
       "      <td>no</td>\n",
       "      <td>2415</td>\n",
       "      <td>yes</td>\n",
       "      <td>no</td>\n",
       "      <td>telephone</td>\n",
       "      <td>22</td>\n",
       "      <td>oct</td>\n",
       "      <td>73</td>\n",
       "      <td>1</td>\n",
       "      <td>86</td>\n",
       "      <td>4</td>\n",
       "      <td>other</td>\n",
       "      <td>no</td>\n",
       "    </tr>\n",
       "    <tr>\n",
       "      <th>24077</th>\n",
       "      <td>36</td>\n",
       "      <td>management</td>\n",
       "      <td>married</td>\n",
       "      <td>tertiary</td>\n",
       "      <td>no</td>\n",
       "      <td>0</td>\n",
       "      <td>yes</td>\n",
       "      <td>no</td>\n",
       "      <td>telephone</td>\n",
       "      <td>23</td>\n",
       "      <td>oct</td>\n",
       "      <td>140</td>\n",
       "      <td>1</td>\n",
       "      <td>143</td>\n",
       "      <td>3</td>\n",
       "      <td>failure</td>\n",
       "      <td>yes</td>\n",
       "    </tr>\n",
       "    <tr>\n",
       "      <th>...</th>\n",
       "      <td>...</td>\n",
       "      <td>...</td>\n",
       "      <td>...</td>\n",
       "      <td>...</td>\n",
       "      <td>...</td>\n",
       "      <td>...</td>\n",
       "      <td>...</td>\n",
       "      <td>...</td>\n",
       "      <td>...</td>\n",
       "      <td>...</td>\n",
       "      <td>...</td>\n",
       "      <td>...</td>\n",
       "      <td>...</td>\n",
       "      <td>...</td>\n",
       "      <td>...</td>\n",
       "      <td>...</td>\n",
       "      <td>...</td>\n",
       "    </tr>\n",
       "    <tr>\n",
       "      <th>45194</th>\n",
       "      <td>59</td>\n",
       "      <td>management</td>\n",
       "      <td>married</td>\n",
       "      <td>tertiary</td>\n",
       "      <td>no</td>\n",
       "      <td>138</td>\n",
       "      <td>yes</td>\n",
       "      <td>yes</td>\n",
       "      <td>cellular</td>\n",
       "      <td>16</td>\n",
       "      <td>nov</td>\n",
       "      <td>162</td>\n",
       "      <td>2</td>\n",
       "      <td>187</td>\n",
       "      <td>5</td>\n",
       "      <td>failure</td>\n",
       "      <td>no</td>\n",
       "    </tr>\n",
       "    <tr>\n",
       "      <th>45195</th>\n",
       "      <td>68</td>\n",
       "      <td>retired</td>\n",
       "      <td>married</td>\n",
       "      <td>secondary</td>\n",
       "      <td>no</td>\n",
       "      <td>1146</td>\n",
       "      <td>no</td>\n",
       "      <td>no</td>\n",
       "      <td>cellular</td>\n",
       "      <td>16</td>\n",
       "      <td>nov</td>\n",
       "      <td>212</td>\n",
       "      <td>1</td>\n",
       "      <td>187</td>\n",
       "      <td>6</td>\n",
       "      <td>success</td>\n",
       "      <td>yes</td>\n",
       "    </tr>\n",
       "    <tr>\n",
       "      <th>45201</th>\n",
       "      <td>53</td>\n",
       "      <td>management</td>\n",
       "      <td>married</td>\n",
       "      <td>tertiary</td>\n",
       "      <td>no</td>\n",
       "      <td>583</td>\n",
       "      <td>no</td>\n",
       "      <td>no</td>\n",
       "      <td>cellular</td>\n",
       "      <td>17</td>\n",
       "      <td>nov</td>\n",
       "      <td>226</td>\n",
       "      <td>1</td>\n",
       "      <td>184</td>\n",
       "      <td>4</td>\n",
       "      <td>success</td>\n",
       "      <td>yes</td>\n",
       "    </tr>\n",
       "    <tr>\n",
       "      <th>45204</th>\n",
       "      <td>73</td>\n",
       "      <td>retired</td>\n",
       "      <td>married</td>\n",
       "      <td>secondary</td>\n",
       "      <td>no</td>\n",
       "      <td>2850</td>\n",
       "      <td>no</td>\n",
       "      <td>no</td>\n",
       "      <td>cellular</td>\n",
       "      <td>17</td>\n",
       "      <td>nov</td>\n",
       "      <td>300</td>\n",
       "      <td>1</td>\n",
       "      <td>40</td>\n",
       "      <td>8</td>\n",
       "      <td>failure</td>\n",
       "      <td>yes</td>\n",
       "    </tr>\n",
       "    <tr>\n",
       "      <th>45210</th>\n",
       "      <td>37</td>\n",
       "      <td>entrepreneur</td>\n",
       "      <td>married</td>\n",
       "      <td>secondary</td>\n",
       "      <td>no</td>\n",
       "      <td>2971</td>\n",
       "      <td>no</td>\n",
       "      <td>no</td>\n",
       "      <td>cellular</td>\n",
       "      <td>17</td>\n",
       "      <td>nov</td>\n",
       "      <td>361</td>\n",
       "      <td>2</td>\n",
       "      <td>188</td>\n",
       "      <td>11</td>\n",
       "      <td>other</td>\n",
       "      <td>no</td>\n",
       "    </tr>\n",
       "  </tbody>\n",
       "</table>\n",
       "<p>7507 rows × 17 columns</p>\n",
       "</div>"
      ],
      "text/plain": [
       "       age           job  marital  education default  balance housing loan  \\\n",
       "24060   33        admin.  married   tertiary      no      882      no   no   \n",
       "24062   42        admin.   single  secondary      no     -247     yes  yes   \n",
       "24064   33      services  married  secondary      no     3444     yes   no   \n",
       "24072   36    management  married   tertiary      no     2415     yes   no   \n",
       "24077   36    management  married   tertiary      no        0     yes   no   \n",
       "...    ...           ...      ...        ...     ...      ...     ...  ...   \n",
       "45194   59    management  married   tertiary      no      138     yes  yes   \n",
       "45195   68       retired  married  secondary      no     1146      no   no   \n",
       "45201   53    management  married   tertiary      no      583      no   no   \n",
       "45204   73       retired  married  secondary      no     2850      no   no   \n",
       "45210   37  entrepreneur  married  secondary      no     2971      no   no   \n",
       "\n",
       "         contact  day month  duration  campaign  pdays  previous poutcome  \\\n",
       "24060  telephone   21   oct        39         1    151         3  failure   \n",
       "24062  telephone   21   oct       519         1    166         1    other   \n",
       "24064  telephone   21   oct       144         1     91         4  failure   \n",
       "24072  telephone   22   oct        73         1     86         4    other   \n",
       "24077  telephone   23   oct       140         1    143         3  failure   \n",
       "...          ...  ...   ...       ...       ...    ...       ...      ...   \n",
       "45194   cellular   16   nov       162         2    187         5  failure   \n",
       "45195   cellular   16   nov       212         1    187         6  success   \n",
       "45201   cellular   17   nov       226         1    184         4  success   \n",
       "45204   cellular   17   nov       300         1     40         8  failure   \n",
       "45210   cellular   17   nov       361         2    188        11    other   \n",
       "\n",
       "      target  \n",
       "24060     no  \n",
       "24062    yes  \n",
       "24064    yes  \n",
       "24072     no  \n",
       "24077    yes  \n",
       "...      ...  \n",
       "45194     no  \n",
       "45195    yes  \n",
       "45201    yes  \n",
       "45204    yes  \n",
       "45210     no  \n",
       "\n",
       "[7507 rows x 17 columns]"
      ]
     },
     "execution_count": 37,
     "metadata": {},
     "output_type": "execute_result"
    }
   ],
   "source": [
    "#remove outliers\n",
    "\n",
    "# z_scores = stats.zscore(data)\n",
    "\n",
    "# abs_z_scores = np.abs(z_scores)\n",
    "# filtered_entries = (abs_z_scores < 3).all(axis=1)\n",
    "# data = data[filtered_entries]\n",
    "\n",
    "#remove outliers from numerical features\n",
    "data[(np.abs(stats.zscore(data.select_dtypes(exclude=['object']))) < 3).all(axis=1)]\n"
   ]
  },
  {
   "cell_type": "code",
   "execution_count": 38,
   "metadata": {},
   "outputs": [],
   "source": [
    "#copy the bank's data after cleaning it so it can be used later to predict the loan\n",
    "data_copy = data.copy()\n"
   ]
  },
  {
   "cell_type": "code",
   "execution_count": 39,
   "metadata": {},
   "outputs": [],
   "source": [
    "#convert categorical features to numeric, using Label Encoder or dummies\n",
    "\n",
    "# Label Encoder changes Categorical features to integers. The categorical features are ordinal and the number of categories is large \n",
    "#for example [single, single, married, divorced] = [0, 0, 1, 2]\n",
    "\n",
    "# Dummies expands the dimensions. The categorical features are not ordinal and the number of categories is less \n",
    "#for example [single, single, married, divorced] = [1, 1, 0, 0]\n",
    "#df = pd.get_dummies(df, columns=CategoricalHeaders, drop_first=True)\n",
    "#df[CategoricalHeaders].replace('?','NA')\n",
    "\n",
    "#LabelEncoder is used to convert all the categorical features to numeric:\n",
    "lable = LabelEncoder()\n",
    "data[CategoricalHeaders] = data[CategoricalHeaders].apply(lambda col: lable.fit_transform(col))\n",
    "\n"
   ]
  },
  {
   "cell_type": "code",
   "execution_count": 40,
   "metadata": {},
   "outputs": [
    {
     "data": {
      "text/html": [
       "<div>\n",
       "<style scoped>\n",
       "    .dataframe tbody tr th:only-of-type {\n",
       "        vertical-align: middle;\n",
       "    }\n",
       "\n",
       "    .dataframe tbody tr th {\n",
       "        vertical-align: top;\n",
       "    }\n",
       "\n",
       "    .dataframe thead th {\n",
       "        text-align: right;\n",
       "    }\n",
       "</style>\n",
       "<table border=\"1\" class=\"dataframe\">\n",
       "  <thead>\n",
       "    <tr style=\"text-align: right;\">\n",
       "      <th></th>\n",
       "      <th>age</th>\n",
       "      <th>job</th>\n",
       "      <th>marital</th>\n",
       "      <th>education</th>\n",
       "      <th>default</th>\n",
       "      <th>balance</th>\n",
       "      <th>housing</th>\n",
       "      <th>loan</th>\n",
       "      <th>contact</th>\n",
       "      <th>day</th>\n",
       "      <th>month</th>\n",
       "      <th>duration</th>\n",
       "      <th>campaign</th>\n",
       "      <th>pdays</th>\n",
       "      <th>previous</th>\n",
       "      <th>poutcome</th>\n",
       "      <th>target</th>\n",
       "    </tr>\n",
       "  </thead>\n",
       "  <tbody>\n",
       "    <tr>\n",
       "      <th>24060</th>\n",
       "      <td>33</td>\n",
       "      <td>0</td>\n",
       "      <td>1</td>\n",
       "      <td>3</td>\n",
       "      <td>0</td>\n",
       "      <td>882</td>\n",
       "      <td>0</td>\n",
       "      <td>0</td>\n",
       "      <td>1</td>\n",
       "      <td>21</td>\n",
       "      <td>10</td>\n",
       "      <td>39</td>\n",
       "      <td>1</td>\n",
       "      <td>151</td>\n",
       "      <td>3</td>\n",
       "      <td>0</td>\n",
       "      <td>no</td>\n",
       "    </tr>\n",
       "    <tr>\n",
       "      <th>24062</th>\n",
       "      <td>42</td>\n",
       "      <td>0</td>\n",
       "      <td>2</td>\n",
       "      <td>2</td>\n",
       "      <td>0</td>\n",
       "      <td>-247</td>\n",
       "      <td>1</td>\n",
       "      <td>1</td>\n",
       "      <td>1</td>\n",
       "      <td>21</td>\n",
       "      <td>10</td>\n",
       "      <td>519</td>\n",
       "      <td>1</td>\n",
       "      <td>166</td>\n",
       "      <td>1</td>\n",
       "      <td>1</td>\n",
       "      <td>yes</td>\n",
       "    </tr>\n",
       "    <tr>\n",
       "      <th>24064</th>\n",
       "      <td>33</td>\n",
       "      <td>8</td>\n",
       "      <td>1</td>\n",
       "      <td>2</td>\n",
       "      <td>0</td>\n",
       "      <td>3444</td>\n",
       "      <td>1</td>\n",
       "      <td>0</td>\n",
       "      <td>1</td>\n",
       "      <td>21</td>\n",
       "      <td>10</td>\n",
       "      <td>144</td>\n",
       "      <td>1</td>\n",
       "      <td>91</td>\n",
       "      <td>4</td>\n",
       "      <td>0</td>\n",
       "      <td>yes</td>\n",
       "    </tr>\n",
       "    <tr>\n",
       "      <th>24072</th>\n",
       "      <td>36</td>\n",
       "      <td>4</td>\n",
       "      <td>1</td>\n",
       "      <td>3</td>\n",
       "      <td>0</td>\n",
       "      <td>2415</td>\n",
       "      <td>1</td>\n",
       "      <td>0</td>\n",
       "      <td>1</td>\n",
       "      <td>22</td>\n",
       "      <td>10</td>\n",
       "      <td>73</td>\n",
       "      <td>1</td>\n",
       "      <td>86</td>\n",
       "      <td>4</td>\n",
       "      <td>1</td>\n",
       "      <td>no</td>\n",
       "    </tr>\n",
       "    <tr>\n",
       "      <th>24077</th>\n",
       "      <td>36</td>\n",
       "      <td>4</td>\n",
       "      <td>1</td>\n",
       "      <td>3</td>\n",
       "      <td>0</td>\n",
       "      <td>0</td>\n",
       "      <td>1</td>\n",
       "      <td>0</td>\n",
       "      <td>1</td>\n",
       "      <td>23</td>\n",
       "      <td>10</td>\n",
       "      <td>140</td>\n",
       "      <td>1</td>\n",
       "      <td>143</td>\n",
       "      <td>3</td>\n",
       "      <td>0</td>\n",
       "      <td>yes</td>\n",
       "    </tr>\n",
       "    <tr>\n",
       "      <th>...</th>\n",
       "      <td>...</td>\n",
       "      <td>...</td>\n",
       "      <td>...</td>\n",
       "      <td>...</td>\n",
       "      <td>...</td>\n",
       "      <td>...</td>\n",
       "      <td>...</td>\n",
       "      <td>...</td>\n",
       "      <td>...</td>\n",
       "      <td>...</td>\n",
       "      <td>...</td>\n",
       "      <td>...</td>\n",
       "      <td>...</td>\n",
       "      <td>...</td>\n",
       "      <td>...</td>\n",
       "      <td>...</td>\n",
       "      <td>...</td>\n",
       "    </tr>\n",
       "    <tr>\n",
       "      <th>45199</th>\n",
       "      <td>34</td>\n",
       "      <td>1</td>\n",
       "      <td>2</td>\n",
       "      <td>2</td>\n",
       "      <td>0</td>\n",
       "      <td>1475</td>\n",
       "      <td>1</td>\n",
       "      <td>0</td>\n",
       "      <td>0</td>\n",
       "      <td>16</td>\n",
       "      <td>9</td>\n",
       "      <td>1166</td>\n",
       "      <td>3</td>\n",
       "      <td>530</td>\n",
       "      <td>12</td>\n",
       "      <td>1</td>\n",
       "      <td>no</td>\n",
       "    </tr>\n",
       "    <tr>\n",
       "      <th>45201</th>\n",
       "      <td>53</td>\n",
       "      <td>4</td>\n",
       "      <td>1</td>\n",
       "      <td>3</td>\n",
       "      <td>0</td>\n",
       "      <td>583</td>\n",
       "      <td>0</td>\n",
       "      <td>0</td>\n",
       "      <td>0</td>\n",
       "      <td>17</td>\n",
       "      <td>9</td>\n",
       "      <td>226</td>\n",
       "      <td>1</td>\n",
       "      <td>184</td>\n",
       "      <td>4</td>\n",
       "      <td>2</td>\n",
       "      <td>yes</td>\n",
       "    </tr>\n",
       "    <tr>\n",
       "      <th>45204</th>\n",
       "      <td>73</td>\n",
       "      <td>6</td>\n",
       "      <td>1</td>\n",
       "      <td>2</td>\n",
       "      <td>0</td>\n",
       "      <td>2850</td>\n",
       "      <td>0</td>\n",
       "      <td>0</td>\n",
       "      <td>0</td>\n",
       "      <td>17</td>\n",
       "      <td>9</td>\n",
       "      <td>300</td>\n",
       "      <td>1</td>\n",
       "      <td>40</td>\n",
       "      <td>8</td>\n",
       "      <td>0</td>\n",
       "      <td>yes</td>\n",
       "    </tr>\n",
       "    <tr>\n",
       "      <th>45208</th>\n",
       "      <td>72</td>\n",
       "      <td>6</td>\n",
       "      <td>1</td>\n",
       "      <td>2</td>\n",
       "      <td>0</td>\n",
       "      <td>5715</td>\n",
       "      <td>0</td>\n",
       "      <td>0</td>\n",
       "      <td>0</td>\n",
       "      <td>17</td>\n",
       "      <td>9</td>\n",
       "      <td>1127</td>\n",
       "      <td>5</td>\n",
       "      <td>184</td>\n",
       "      <td>3</td>\n",
       "      <td>2</td>\n",
       "      <td>yes</td>\n",
       "    </tr>\n",
       "    <tr>\n",
       "      <th>45210</th>\n",
       "      <td>37</td>\n",
       "      <td>2</td>\n",
       "      <td>1</td>\n",
       "      <td>2</td>\n",
       "      <td>0</td>\n",
       "      <td>2971</td>\n",
       "      <td>0</td>\n",
       "      <td>0</td>\n",
       "      <td>0</td>\n",
       "      <td>17</td>\n",
       "      <td>9</td>\n",
       "      <td>361</td>\n",
       "      <td>2</td>\n",
       "      <td>188</td>\n",
       "      <td>11</td>\n",
       "      <td>1</td>\n",
       "      <td>no</td>\n",
       "    </tr>\n",
       "  </tbody>\n",
       "</table>\n",
       "<p>8257 rows × 17 columns</p>\n",
       "</div>"
      ],
      "text/plain": [
       "       age  job  marital  education  default  balance  housing  loan  contact  \\\n",
       "24060   33    0        1          3        0      882        0     0        1   \n",
       "24062   42    0        2          2        0     -247        1     1        1   \n",
       "24064   33    8        1          2        0     3444        1     0        1   \n",
       "24072   36    4        1          3        0     2415        1     0        1   \n",
       "24077   36    4        1          3        0        0        1     0        1   \n",
       "...    ...  ...      ...        ...      ...      ...      ...   ...      ...   \n",
       "45199   34    1        2          2        0     1475        1     0        0   \n",
       "45201   53    4        1          3        0      583        0     0        0   \n",
       "45204   73    6        1          2        0     2850        0     0        0   \n",
       "45208   72    6        1          2        0     5715        0     0        0   \n",
       "45210   37    2        1          2        0     2971        0     0        0   \n",
       "\n",
       "       day  month  duration  campaign  pdays  previous  poutcome target  \n",
       "24060   21     10        39         1    151         3         0     no  \n",
       "24062   21     10       519         1    166         1         1    yes  \n",
       "24064   21     10       144         1     91         4         0    yes  \n",
       "24072   22     10        73         1     86         4         1     no  \n",
       "24077   23     10       140         1    143         3         0    yes  \n",
       "...    ...    ...       ...       ...    ...       ...       ...    ...  \n",
       "45199   16      9      1166         3    530        12         1     no  \n",
       "45201   17      9       226         1    184         4         2    yes  \n",
       "45204   17      9       300         1     40         8         0    yes  \n",
       "45208   17      9      1127         5    184         3         2    yes  \n",
       "45210   17      9       361         2    188        11         1     no  \n",
       "\n",
       "[8257 rows x 17 columns]"
      ]
     },
     "execution_count": 40,
     "metadata": {},
     "output_type": "execute_result"
    }
   ],
   "source": [
    "data"
   ]
  },
  {
   "cell_type": "code",
   "execution_count": 41,
   "metadata": {},
   "outputs": [],
   "source": [
    "#copy the bank's data after cleaning it so it can be used later before and after adding noise\n",
    "bank_data = data.copy()"
   ]
  },
  {
   "cell_type": "code",
   "execution_count": 42,
   "metadata": {},
   "outputs": [
    {
     "data": {
      "image/png": "[encoded data removed]",
      "text/plain": [
       "<Figure size 864x864 with 16 Axes>"
      ]
     },
     "metadata": {
      "needs_background": "light"
     },
     "output_type": "display_data"
    }
   ],
   "source": [
    "#plot the histograms of the numerical features, using Matplotlib and Seaborn libraries\n",
    "#After converting the categorical features to numeric\n",
    "#for all the columns execpt the object columns (where the columns type is not an object)\n",
    "quan = list(data.loc[:, data.dtypes != 'object'].columns.values)\n",
    "#a multi-plot grid that is used to plot conditional relationships\n",
    "grid = sns.FacetGrid(pd.melt(data, value_vars=quan), col='variable', col_wrap=4, height=3, aspect=1, sharex=False, sharey=False)\n",
    "#use map to apply a plotting function to each facet’s subset of the data\n",
    "grid.map(plt.hist, 'value', color=\"black\")\n",
    "#display all figures\n",
    "plt.show()"
   ]
  },
  {
   "cell_type": "code",
   "execution_count": 43,
   "metadata": {},
   "outputs": [
    {
     "data": {
      "text/plain": [
       "age           int64\n",
       "job           int64\n",
       "marital       int64\n",
       "education     int64\n",
       "default       int64\n",
       "balance       int64\n",
       "housing       int64\n",
       "loan          int64\n",
       "contact       int64\n",
       "day           int64\n",
       "month         int64\n",
       "duration      int64\n",
       "campaign      int64\n",
       "pdays         int64\n",
       "previous      int64\n",
       "poutcome      int64\n",
       "target       object\n",
       "dtype: object"
      ]
     },
     "execution_count": 43,
     "metadata": {},
     "output_type": "execute_result"
    }
   ],
   "source": [
    "#get the data type of each column\n",
    "data.dtypes"
   ]
  },
  {
   "cell_type": "code",
   "execution_count": 44,
   "metadata": {},
   "outputs": [],
   "source": [
    "# Split the data: 80% training : 20% test set\n",
    "#create a copy of the dataset data\n",
    "train_dfs = data.copy()\n",
    "#remove the target column from the copied dataset\n",
    "train_dfs = train_dfs.drop(columns=['target'])\n",
    "#store the target column in targetLabels\n",
    "targetLabels = data['target']\n",
    "#split the data into x tarning and testing and y testing and traning, traing set = 80% and testing set = 20% \n",
    "instances_train, instances_test, target_train, target_test = train_test_split(train_dfs, targetLabels, test_size=0.2, random_state=0, shuffle=True)\n"
   ]
  },
  {
   "cell_type": "code",
   "execution_count": 45,
   "metadata": {},
   "outputs": [],
   "source": [
    "#KFold = K-Folds cross-validator and n_splits = number of folds\n",
    "fold = KFold(n_splits=10)"
   ]
  },
  {
   "cell_type": "markdown",
   "metadata": {},
   "source": [
    "### Decision Tree"
   ]
  },
  {
   "cell_type": "code",
   "execution_count": 46,
   "metadata": {},
   "outputs": [
    {
     "name": "stdout",
     "output_type": "stream",
     "text": [
      "[0.826271186440678, 0.8365617433414043, 0.8353510895883777, 0.8407990314769975]\n"
     ]
    }
   ],
   "source": [
    "#To know the value of the max_depth in the Decision Tree Classifier \n",
    "#How to decide depth of decision tree:\n",
    "#The maximum depth of the tree. If None, then nodes are expanded until all leaves are pure or until all leaves contain less than min_samples_split samples.\n",
    "\n",
    "DepthRange = list(range(1, 5))\n",
    "#create an empty series called depthAccuracy\n",
    "depthAccuracy = []\n",
    "#loop around the DepthRange\n",
    "for depth in DepthRange:\n",
    "    #create a Decision Tree Classifier model based on the depth (maximum depth of the tree)\n",
    "    classificationTree = DecisionTreeClassifier(max_depth = depth, random_state = 0)\n",
    "    #fit the instances_train and target_train into the Decision Tree Classifier model using fit()\n",
    "    classificationTree.fit(instances_train, target_train)\n",
    "    #get the score of each model by passing both instances_test and target_test for the Decision Tree classifier model to score()\n",
    "    final = classificationTree.score(instances_test, target_test)\n",
    "    #append the results of each classifier model into depthAccuracy\n",
    "    depthAccuracy.append(final)\n",
    "print(depthAccuracy)\n"
   ]
  },
  {
   "cell_type": "code",
   "execution_count": 47,
   "metadata": {},
   "outputs": [
    {
     "name": "stdout",
     "output_type": "stream",
     "text": [
      "Decision Tree Classifier accuracy on training set= 0.89\n",
      "Decision Tree Classifier accuracy on testing set= 0.83\n",
      "\n",
      "\n",
      "Cross validation using the Decision Tree Classifier on training set=  [0.82450832 0.85476551 0.8214826  0.81996974 0.83812405 0.84848485\n",
      " 0.82424242 0.82575758 0.83939394 0.81818182]\n",
      "Cross validation using the Decision Tree Classifier on testing set=  [0.78313253 0.77108434 0.77575758 0.78181818 0.83030303 0.82424242\n",
      " 0.81212121 0.84242424 0.78181818 0.75151515]\n"
     ]
    }
   ],
   "source": [
    "#Decision Tree Classifier \n",
    "#Getting the maximum depth from the previous step = 8\n",
    "#create a Decision Tree Classifier model with a max_depth (maximum depth of the tree) = 8\n",
    "decTreeModel = DecisionTreeClassifier(max_depth=8)\n",
    "#fit the instances_train and target_train into the Decision Tree Classifier model using fit()\n",
    "decTreeModel.fit(instances_train, target_train)\n",
    "#Decision Tree Classifier accuracy using traning set\n",
    "print('Decision Tree Classifier accuracy on training set= {:.2f}'.format(decTreeModel.score(instances_train, target_train)))\n",
    "#Decision Tree Classifier accuracy using testing set\n",
    "print('Decision Tree Classifier accuracy on testing set= {:.2f}'.format(decTreeModel.score(instances_test, target_test)))\n",
    "print('\\n')\n",
    "#run a 10 fold cross validation on this model using the full census data\n",
    "scores1 = cross_val_score(decTreeModel, instances_train, target_train, cv=fold)\n",
    "#print('Cross validation mean using the Decision Tree Classifier on training set= ', np.mean(scores1))\n",
    "\n",
    "scores2 = cross_val_score(decTreeModel, instances_test, target_test, cv=fold)\n",
    "#print('Cross validation mean using the Decision Tree Classifier on testing set= ', np.mean(scores2))\n",
    "\n",
    "#cross validation on Decision Tree Classifier using training set\n",
    "print('Cross validation using the Decision Tree Classifier on training set= ', scores1)\n",
    "#cross validation on Decision Tree Classifier using testing set\n",
    "print('Cross validation using the Decision Tree Classifier on testing set= ', scores2)"
   ]
  },
  {
   "cell_type": "code",
   "execution_count": 48,
   "metadata": {},
   "outputs": [
    {
     "name": "stdout",
     "output_type": "stream",
     "text": [
      "training set accuracy= 0.8922028766086298\n",
      "testing set accuracy= 0.8323244552058111\n"
     ]
    }
   ],
   "source": [
    "#another way of predicting the accuracy\n",
    "\n",
    "#predict the target values of the training data by passing instances_train to the Decision Tree Classifier model\n",
    "predictions1 = decTreeModel.predict(instances_train)\n",
    "#predict the target values of the testing data by passing instances_test to the Decision Tree Classifier model\n",
    "predictions2 = decTreeModel.predict(instances_test)\n",
    "#accuracy score for the training set\n",
    "print(\"training set accuracy= \" + str(accuracy_score(target_train, predictions1, normalize=True)))\n",
    "#accuracy score for the tetsing set\n",
    "print(\"testing set accuracy= \" + str(accuracy_score(target_test, predictions2, normalize=True)))\n"
   ]
  },
  {
   "cell_type": "code",
   "execution_count": 49,
   "metadata": {},
   "outputs": [
    {
     "name": "stdout",
     "output_type": "stream",
     "text": [
      "[[1144  111]\n",
      " [ 166  231]]\n"
     ]
    },
    {
     "data": {
      "image/png": "[encoded data removed]",
      "text/plain": [
       "<Figure size 288x288 with 2 Axes>"
      ]
     },
     "metadata": {
      "needs_background": "light"
     },
     "output_type": "display_data"
    }
   ],
   "source": [
    "# Confusion Matrix: to evaluate the accuracy of the Decision Tree Classifier \n",
    "\n",
    "#predict the target values of the testing data by passing instances_test to the Decision Tree Classifier model\n",
    "predictions = decTreeModel.predict(instances_test)\n",
    "\n",
    "#confusion_matrix() is used to calculate the confusion matrix to evaluate the accuracy of a classification\n",
    "print(confusion_matrix(target_test, predictions))\n",
    "\n",
    "#plot a Confusion Matrix\n",
    "ConfusionMatrix = confusion_matrix(target_test, predictions)\n",
    "#pass the ConfusionMatrix to matshow to show an array as a matrix in a new figure window\n",
    "pl.matshow(ConfusionMatrix)\n",
    "#add  a colorbar to a plot\n",
    "pl.colorbar()\n",
    "#display the Confusion Matrix\n",
    "pl.show()"
   ]
  },
  {
   "cell_type": "code",
   "execution_count": 50,
   "metadata": {},
   "outputs": [
    {
     "name": "stdout",
     "output_type": "stream",
     "text": [
      "              precision    recall  f1-score   support\n",
      "\n",
      "          no       0.87      0.91      0.89      1255\n",
      "         yes       0.68      0.58      0.63       397\n",
      "\n",
      "    accuracy                           0.83      1652\n",
      "   macro avg       0.77      0.75      0.76      1652\n",
      "weighted avg       0.83      0.83      0.83      1652\n",
      "\n"
     ]
    }
   ],
   "source": [
    "#Building a text report showing the main Decision Tree Classifier metrics\n",
    "#use classification_report() to display a text report showing the main classification metrics, both target_test and predictions are passed to the classification_report() function\n",
    "print(classification_report(target_test, predictions))\n"
   ]
  },
  {
   "cell_type": "markdown",
   "metadata": {},
   "source": [
    "### K-Nearest Neighbors (KNN)"
   ]
  },
  {
   "cell_type": "code",
   "execution_count": 51,
   "metadata": {},
   "outputs": [
    {
     "name": "stdout",
     "output_type": "stream",
     "text": [
      "K-Nearest Neighbors Algorithm accuracy on training set= 0.87\n",
      "K-Nearest Neighbors Algorithm accuracy on testing set= 0.77\n"
     ]
    }
   ],
   "source": [
    "#K-Nearest Neighbors Algorithm accuracy + cross validation\n",
    "#create a K-Nearest Neighbors Classifier, set the number of neighbors to use to 3\n",
    "neigh = KNeighborsClassifier(n_neighbors=3)\n",
    "\n",
    "#fit the instances_train and target_train into the K-Nearest Neighbors Classifier model using fit()\n",
    "neigh.fit(instances_train, target_train)\n",
    "\n",
    "#cross validation on KNN Classifier using training set\n",
    "print('K-Nearest Neighbors Algorithm accuracy on training set= {:.2f}'.format(neigh.score(instances_train, target_train)))\n",
    "#cross validation on KNN Classifier using testing set\n",
    "print('K-Nearest Neighbors Algorithm accuracy on testing set= {:.2f}'.format(neigh.score(instances_test, target_test)))"
   ]
  },
  {
   "cell_type": "code",
   "execution_count": 52,
   "metadata": {},
   "outputs": [
    {
     "name": "stdout",
     "output_type": "stream",
     "text": [
      "Cross validation mean using the K-Nearest Neighbors Algorithm on training set=  0.8314910832989503\n",
      "Cross validation using the K-Nearest Neighbors Algorithm on testing set=  0.795421686746988\n",
      "\n",
      "\n",
      "Cross validation using the K-Nearest Neighbors Algorithm on training set=  [0.76853253 0.79425113 0.7730711  0.76853253 0.77458396 0.76969697\n",
      " 0.7530303  0.75757576 0.76060606 0.77575758]\n",
      "Cross validation using the K-Nearest Neighbors Algorithm on testing set=  [0.78915663 0.70481928 0.72727273 0.73939394 0.84848485 0.78787879\n",
      " 0.74545455 0.76969697 0.73333333 0.70909091]\n"
     ]
    }
   ],
   "source": [
    "#run a 10 fold cross validation on this model using the full census data\n",
    "\n",
    "#the cross validation mean vales of the K-Nearest Neighbors Algorithm on training set\n",
    "print('Cross validation mean using the K-Nearest Neighbors Algorithm on training set= ', np.mean(scores1))\n",
    "#the cross validation mean vales of the K-Nearest Neighbors Algorithm on testing set\n",
    "print('Cross validation using the K-Nearest Neighbors Algorithm on testing set= ', np.mean(scores2))\n",
    "print('\\n')\n",
    "\n",
    "#evaluate a score by cross-validation using the training set\n",
    "scores1 = cross_val_score(neigh, instances_train, target_train, cv=fold)\n",
    "#cross validation on KNN Classifier using training set\n",
    "print('Cross validation using the K-Nearest Neighbors Algorithm on training set= ', scores1)\n",
    "\n",
    "#evaluate a score by cross-validation using the testing set\n",
    "scores2 = cross_val_score(neigh, instances_test, target_test, cv=fold)\n",
    "#cross validation on KNN Classifier using testing set\n",
    "print('Cross validation using the K-Nearest Neighbors Algorithm on testing set= ', scores2)"
   ]
  },
  {
   "cell_type": "code",
   "execution_count": 53,
   "metadata": {},
   "outputs": [
    {
     "name": "stdout",
     "output_type": "stream",
     "text": [
      "[[1110  145]\n",
      " [ 229  168]]\n"
     ]
    },
    {
     "data": {
      "image/png": "[encoded data removed]",
      "text/plain": [
       "<Figure size 288x288 with 2 Axes>"
      ]
     },
     "metadata": {
      "needs_background": "light"
     },
     "output_type": "display_data"
    }
   ],
   "source": [
    "# Confusion Matrix: to evaluate the accuracy of the K-Nearest Neighbors Classifier \n",
    "\n",
    "#predict the target values of the testing data by passing instances_test to the KNN Classifier model\n",
    "predictions = neigh.predict(instances_test)\n",
    "\n",
    "#confusion_matrix() is used to calculate the confusion matrix to evaluate the accuracy of a classification\n",
    "print(confusion_matrix(target_test, predictions))\n",
    "\n",
    "\n",
    "#plot a Confusion Matrix\n",
    "ConfusionMatrix = confusion_matrix(target_test, predictions)\n",
    "#pass the ConfusionMatrix to matshow to show an array as a matrix in a new figure window\n",
    "pl.matshow(ConfusionMatrix)\n",
    "#add  a colorbar to a plot\n",
    "pl.colorbar()\n",
    "#display the Confusion Matrix\n",
    "pl.show()"
   ]
  },
  {
   "cell_type": "code",
   "execution_count": 54,
   "metadata": {},
   "outputs": [
    {
     "name": "stdout",
     "output_type": "stream",
     "text": [
      "              precision    recall  f1-score   support\n",
      "\n",
      "          no       0.83      0.88      0.86      1255\n",
      "         yes       0.54      0.42      0.47       397\n",
      "\n",
      "    accuracy                           0.77      1652\n",
      "   macro avg       0.68      0.65      0.66      1652\n",
      "weighted avg       0.76      0.77      0.76      1652\n",
      "\n"
     ]
    }
   ],
   "source": [
    "#Building a text report showing the main K-Nearest Neighbors Classifier metrics\n",
    "#use classification_report() to display a text report showing the main classification metrics, both target_test and predictions are passed to the classification_report() function\n",
    "print(classification_report(target_test, predictions))"
   ]
  },
  {
   "cell_type": "markdown",
   "metadata": {},
   "source": [
    "### Naive Bayes"
   ]
  },
  {
   "cell_type": "code",
   "execution_count": 55,
   "metadata": {},
   "outputs": [
    {
     "name": "stdout",
     "output_type": "stream",
     "text": [
      "Naive Bayes accuracy on training set= 0.81\n",
      "Naive Bayes accuracy on testing set= 0.80\n",
      "Cross validation mean using the Naive Bayess Algorithm on training set=  0.8045410993444275\n",
      "Cross validation using the Naive Bayes Algorithm on testing set=  0.7935377875136911\n"
     ]
    }
   ],
   "source": [
    "#Naive Bayes\n",
    "\n",
    "#create a Naive Bayes Classifier model\n",
    "gnb = GaussianNB()\n",
    "#fit the instances_train and target_train into the Naive Bayes Classifier model using fit()\n",
    "gnb.fit(instances_train, target_train)\n",
    "\n",
    "#cross validation on Naive Bayes Classifier using training set\n",
    "print('Naive Bayes accuracy on training set= {:.2f}'.format(gnb.score(instances_train, target_train)))\n",
    "#cross validation on Naive Bayes Classifier using testing set\n",
    "print('Naive Bayes accuracy on testing set= {:.2f}'.format(gnb.score(instances_test, target_test)))\n",
    "\n",
    "#run a 10 fold cross validation on this model using the full census data\n",
    "scores1 = cross_val_score(gnb, instances_train, target_train, cv=fold)\n",
    "#cross validation on Naive Bayes Classifier using training set\n",
    "print('Cross validation mean using the Naive Bayess Algorithm on training set= ', np.mean(scores1))\n",
    "\n",
    "scores2 = cross_val_score(gnb, instances_test, target_test, cv=fold)\n",
    "#cross validation on Naive Bayes Classifier using testing set\n",
    "print('Cross validation using the Naive Bayes Algorithm on testing set= ', np.mean(scores2))\n"
   ]
  },
  {
   "cell_type": "code",
   "execution_count": 56,
   "metadata": {},
   "outputs": [
    {
     "name": "stdout",
     "output_type": "stream",
     "text": [
      "training set accuracy= 0.8056018168054504\n",
      "testing set accuracy= 0.7966101694915254\n"
     ]
    }
   ],
   "source": [
    "#another way of predicting the accuracy\n",
    "#predict the target values of the training data by passing instances_train to the Naive Bayes Classifier model\n",
    "predictions1 = gnb.predict(instances_train)\n",
    "#predict the target values of the testing data by passing instances_test to the Naive Bayes Classifier model\n",
    "predictions2 = gnb.predict(instances_test)\n",
    "#accuracy score for the training set\n",
    "print(\"training set accuracy= \" + str(accuracy_score(target_train, predictions1, normalize=True)))\n",
    "#accuracy score for the testing set\n",
    "print(\"testing set accuracy= \" + str(accuracy_score(target_test, predictions2, normalize=True)))\n"
   ]
  },
  {
   "cell_type": "code",
   "execution_count": 57,
   "metadata": {},
   "outputs": [
    {
     "name": "stdout",
     "output_type": "stream",
     "text": [
      "[[1067  188]\n",
      " [ 148  249]]\n"
     ]
    },
    {
     "data": {
      "image/png": "[encoded data removed]",
      "text/plain": [
       "<Figure size 288x288 with 2 Axes>"
      ]
     },
     "metadata": {
      "needs_background": "light"
     },
     "output_type": "display_data"
    }
   ],
   "source": [
    "#This step is not necessary as Naive Bayes had the lowest results!\n",
    "# Confusion Matrix: to evaluate the accuracy of the Naive Bayes Classifier \n",
    "\n",
    "#predict the target values of the testing data by passing instances_test to the Naive Bayes Classifier model\n",
    "predictions = gnb.predict(instances_test)\n",
    "\n",
    "#confusion_matrix() is used to calculate the confusion matrix to evaluate the accuracy of a classification\n",
    "print(confusion_matrix(target_test, predictions))\n",
    "\n",
    "#plot a Confusion Matrix\n",
    "ConfusionMatrix = confusion_matrix(target_test, predictions)\n",
    "#pass the ConfusionMatrix to matshow to show an array as a matrix in a new figure window\n",
    "pl.matshow(ConfusionMatrix)\n",
    "#add  a colorbar to a plot\n",
    "pl.colorbar()\n",
    "#display the Confusion Matrix\n",
    "pl.show()"
   ]
  },
  {
   "cell_type": "code",
   "execution_count": 58,
   "metadata": {},
   "outputs": [
    {
     "name": "stdout",
     "output_type": "stream",
     "text": [
      "              precision    recall  f1-score   support\n",
      "\n",
      "          no       0.88      0.85      0.86      1255\n",
      "         yes       0.57      0.63      0.60       397\n",
      "\n",
      "    accuracy                           0.80      1652\n",
      "   macro avg       0.72      0.74      0.73      1652\n",
      "weighted avg       0.80      0.80      0.80      1652\n",
      "\n"
     ]
    }
   ],
   "source": [
    "#Building a text report showing the main Naive Bayes Classifier metrics\n",
    "#use classification_report() to display a text report showing the main classification metrics, both target_test and predictions are passed to the classification_report() function\n",
    "print(classification_report(target_test, predictions))"
   ]
  },
  {
   "cell_type": "code",
   "execution_count": 59,
   "metadata": {},
   "outputs": [],
   "source": [
    "#read the queries txt file and remove the target columns\n",
    "\n",
    "#the path of the dataset folder and the name of the dataset were added in order to be joined together\n",
    "#adding the path and the dataset name and join the 2 string together\n",
    "dataset1 = os.sep.join(['data'] + ['queries.csv']) \n",
    "\n",
    "#read the dataset using read_csv() and passing filepath (data/queries.csv)\n",
    "queries = pd.read_csv(dataset1)\n"
   ]
  },
  {
   "cell_type": "code",
   "execution_count": 60,
   "metadata": {},
   "outputs": [
    {
     "data": {
      "text/html": [
       "<div>\n",
       "<style scoped>\n",
       "    .dataframe tbody tr th:only-of-type {\n",
       "        vertical-align: middle;\n",
       "    }\n",
       "\n",
       "    .dataframe tbody tr th {\n",
       "        vertical-align: top;\n",
       "    }\n",
       "\n",
       "    .dataframe thead th {\n",
       "        text-align: right;\n",
       "    }\n",
       "</style>\n",
       "<table border=\"1\" class=\"dataframe\">\n",
       "  <thead>\n",
       "    <tr style=\"text-align: right;\">\n",
       "      <th></th>\n",
       "      <th>id</th>\n",
       "      <th>age</th>\n",
       "      <th>job</th>\n",
       "      <th>marital</th>\n",
       "      <th>education</th>\n",
       "      <th>default</th>\n",
       "      <th>balance</th>\n",
       "      <th>housing</th>\n",
       "      <th>loan</th>\n",
       "      <th>contact</th>\n",
       "      <th>day</th>\n",
       "      <th>month</th>\n",
       "      <th>duration</th>\n",
       "      <th>campaign</th>\n",
       "      <th>pdays</th>\n",
       "      <th>previous</th>\n",
       "      <th>poutcome</th>\n",
       "    </tr>\n",
       "  </thead>\n",
       "  <tbody>\n",
       "    <tr>\n",
       "      <th>0</th>\n",
       "      <td>1</td>\n",
       "      <td>58</td>\n",
       "      <td>management</td>\n",
       "      <td>married</td>\n",
       "      <td>tertiary</td>\n",
       "      <td>no</td>\n",
       "      <td>2143</td>\n",
       "      <td>yes</td>\n",
       "      <td>no</td>\n",
       "      <td>unknown</td>\n",
       "      <td>5</td>\n",
       "      <td>may</td>\n",
       "      <td>261</td>\n",
       "      <td>1</td>\n",
       "      <td>-1</td>\n",
       "      <td>0</td>\n",
       "      <td>unknown</td>\n",
       "    </tr>\n",
       "    <tr>\n",
       "      <th>1</th>\n",
       "      <td>2</td>\n",
       "      <td>44</td>\n",
       "      <td>technician</td>\n",
       "      <td>single</td>\n",
       "      <td>secondary</td>\n",
       "      <td>no</td>\n",
       "      <td>29</td>\n",
       "      <td>yes</td>\n",
       "      <td>no</td>\n",
       "      <td>unknown</td>\n",
       "      <td>5</td>\n",
       "      <td>may</td>\n",
       "      <td>151</td>\n",
       "      <td>1</td>\n",
       "      <td>-1</td>\n",
       "      <td>0</td>\n",
       "      <td>unknown</td>\n",
       "    </tr>\n",
       "    <tr>\n",
       "      <th>2</th>\n",
       "      <td>3</td>\n",
       "      <td>33</td>\n",
       "      <td>entrepreneur</td>\n",
       "      <td>married</td>\n",
       "      <td>secondary</td>\n",
       "      <td>no</td>\n",
       "      <td>2</td>\n",
       "      <td>yes</td>\n",
       "      <td>yes</td>\n",
       "      <td>unknown</td>\n",
       "      <td>5</td>\n",
       "      <td>may</td>\n",
       "      <td>76</td>\n",
       "      <td>1</td>\n",
       "      <td>-1</td>\n",
       "      <td>0</td>\n",
       "      <td>unknown</td>\n",
       "    </tr>\n",
       "    <tr>\n",
       "      <th>3</th>\n",
       "      <td>4</td>\n",
       "      <td>47</td>\n",
       "      <td>blue-collar</td>\n",
       "      <td>married</td>\n",
       "      <td>unknown</td>\n",
       "      <td>no</td>\n",
       "      <td>1506</td>\n",
       "      <td>yes</td>\n",
       "      <td>no</td>\n",
       "      <td>unknown</td>\n",
       "      <td>5</td>\n",
       "      <td>may</td>\n",
       "      <td>92</td>\n",
       "      <td>1</td>\n",
       "      <td>-1</td>\n",
       "      <td>0</td>\n",
       "      <td>unknown</td>\n",
       "    </tr>\n",
       "    <tr>\n",
       "      <th>4</th>\n",
       "      <td>5</td>\n",
       "      <td>33</td>\n",
       "      <td>unknown</td>\n",
       "      <td>single</td>\n",
       "      <td>unknown</td>\n",
       "      <td>no</td>\n",
       "      <td>1</td>\n",
       "      <td>no</td>\n",
       "      <td>no</td>\n",
       "      <td>unknown</td>\n",
       "      <td>5</td>\n",
       "      <td>may</td>\n",
       "      <td>198</td>\n",
       "      <td>1</td>\n",
       "      <td>-1</td>\n",
       "      <td>0</td>\n",
       "      <td>unknown</td>\n",
       "    </tr>\n",
       "    <tr>\n",
       "      <th>...</th>\n",
       "      <td>...</td>\n",
       "      <td>...</td>\n",
       "      <td>...</td>\n",
       "      <td>...</td>\n",
       "      <td>...</td>\n",
       "      <td>...</td>\n",
       "      <td>...</td>\n",
       "      <td>...</td>\n",
       "      <td>...</td>\n",
       "      <td>...</td>\n",
       "      <td>...</td>\n",
       "      <td>...</td>\n",
       "      <td>...</td>\n",
       "      <td>...</td>\n",
       "      <td>...</td>\n",
       "      <td>...</td>\n",
       "      <td>...</td>\n",
       "    </tr>\n",
       "    <tr>\n",
       "      <th>45206</th>\n",
       "      <td>45207</td>\n",
       "      <td>51</td>\n",
       "      <td>technician</td>\n",
       "      <td>married</td>\n",
       "      <td>tertiary</td>\n",
       "      <td>no</td>\n",
       "      <td>825</td>\n",
       "      <td>no</td>\n",
       "      <td>no</td>\n",
       "      <td>cellular</td>\n",
       "      <td>17</td>\n",
       "      <td>nov</td>\n",
       "      <td>977</td>\n",
       "      <td>3</td>\n",
       "      <td>-1</td>\n",
       "      <td>0</td>\n",
       "      <td>unknown</td>\n",
       "    </tr>\n",
       "    <tr>\n",
       "      <th>45207</th>\n",
       "      <td>45208</td>\n",
       "      <td>71</td>\n",
       "      <td>retired</td>\n",
       "      <td>divorced</td>\n",
       "      <td>primary</td>\n",
       "      <td>no</td>\n",
       "      <td>1729</td>\n",
       "      <td>no</td>\n",
       "      <td>no</td>\n",
       "      <td>cellular</td>\n",
       "      <td>17</td>\n",
       "      <td>nov</td>\n",
       "      <td>456</td>\n",
       "      <td>2</td>\n",
       "      <td>-1</td>\n",
       "      <td>0</td>\n",
       "      <td>unknown</td>\n",
       "    </tr>\n",
       "    <tr>\n",
       "      <th>45208</th>\n",
       "      <td>45209</td>\n",
       "      <td>72</td>\n",
       "      <td>retired</td>\n",
       "      <td>married</td>\n",
       "      <td>secondary</td>\n",
       "      <td>no</td>\n",
       "      <td>5715</td>\n",
       "      <td>no</td>\n",
       "      <td>no</td>\n",
       "      <td>cellular</td>\n",
       "      <td>17</td>\n",
       "      <td>nov</td>\n",
       "      <td>1127</td>\n",
       "      <td>5</td>\n",
       "      <td>184</td>\n",
       "      <td>3</td>\n",
       "      <td>success</td>\n",
       "    </tr>\n",
       "    <tr>\n",
       "      <th>45209</th>\n",
       "      <td>45210</td>\n",
       "      <td>57</td>\n",
       "      <td>blue-collar</td>\n",
       "      <td>married</td>\n",
       "      <td>secondary</td>\n",
       "      <td>no</td>\n",
       "      <td>668</td>\n",
       "      <td>no</td>\n",
       "      <td>no</td>\n",
       "      <td>telephone</td>\n",
       "      <td>17</td>\n",
       "      <td>nov</td>\n",
       "      <td>508</td>\n",
       "      <td>4</td>\n",
       "      <td>-1</td>\n",
       "      <td>0</td>\n",
       "      <td>unknown</td>\n",
       "    </tr>\n",
       "    <tr>\n",
       "      <th>45210</th>\n",
       "      <td>45211</td>\n",
       "      <td>37</td>\n",
       "      <td>entrepreneur</td>\n",
       "      <td>married</td>\n",
       "      <td>secondary</td>\n",
       "      <td>no</td>\n",
       "      <td>2971</td>\n",
       "      <td>no</td>\n",
       "      <td>no</td>\n",
       "      <td>cellular</td>\n",
       "      <td>17</td>\n",
       "      <td>nov</td>\n",
       "      <td>361</td>\n",
       "      <td>2</td>\n",
       "      <td>188</td>\n",
       "      <td>11</td>\n",
       "      <td>other</td>\n",
       "    </tr>\n",
       "  </tbody>\n",
       "</table>\n",
       "<p>45211 rows × 17 columns</p>\n",
       "</div>"
      ],
      "text/plain": [
       "          id  age           job   marital  education default  balance housing  \\\n",
       "0          1   58    management   married   tertiary      no     2143     yes   \n",
       "1          2   44    technician    single  secondary      no       29     yes   \n",
       "2          3   33  entrepreneur   married  secondary      no        2     yes   \n",
       "3          4   47   blue-collar   married    unknown      no     1506     yes   \n",
       "4          5   33       unknown    single    unknown      no        1      no   \n",
       "...      ...  ...           ...       ...        ...     ...      ...     ...   \n",
       "45206  45207   51    technician   married   tertiary      no      825      no   \n",
       "45207  45208   71       retired  divorced    primary      no     1729      no   \n",
       "45208  45209   72       retired   married  secondary      no     5715      no   \n",
       "45209  45210   57   blue-collar   married  secondary      no      668      no   \n",
       "45210  45211   37  entrepreneur   married  secondary      no     2971      no   \n",
       "\n",
       "      loan    contact  day month  duration  campaign  pdays  previous poutcome  \n",
       "0       no    unknown    5   may       261         1     -1         0  unknown  \n",
       "1       no    unknown    5   may       151         1     -1         0  unknown  \n",
       "2      yes    unknown    5   may        76         1     -1         0  unknown  \n",
       "3       no    unknown    5   may        92         1     -1         0  unknown  \n",
       "4       no    unknown    5   may       198         1     -1         0  unknown  \n",
       "...    ...        ...  ...   ...       ...       ...    ...       ...      ...  \n",
       "45206   no   cellular   17   nov       977         3     -1         0  unknown  \n",
       "45207   no   cellular   17   nov       456         2     -1         0  unknown  \n",
       "45208   no   cellular   17   nov      1127         5    184         3  success  \n",
       "45209   no  telephone   17   nov       508         4     -1         0  unknown  \n",
       "45210   no   cellular   17   nov       361         2    188        11    other  \n",
       "\n",
       "[45211 rows x 17 columns]"
      ]
     },
     "execution_count": 60,
     "metadata": {},
     "output_type": "execute_result"
    }
   ],
   "source": [
    "#add an id column to the dataset\n",
    "queries.insert(loc=0, column='id', value=queries.index + 1)\n",
    "queries"
   ]
  },
  {
   "cell_type": "code",
   "execution_count": 61,
   "metadata": {},
   "outputs": [
    {
     "data": {
      "text/html": [
       "<div>\n",
       "<style scoped>\n",
       "    .dataframe tbody tr th:only-of-type {\n",
       "        vertical-align: middle;\n",
       "    }\n",
       "\n",
       "    .dataframe tbody tr th {\n",
       "        vertical-align: top;\n",
       "    }\n",
       "\n",
       "    .dataframe thead th {\n",
       "        text-align: right;\n",
       "    }\n",
       "</style>\n",
       "<table border=\"1\" class=\"dataframe\">\n",
       "  <thead>\n",
       "    <tr style=\"text-align: right;\">\n",
       "      <th></th>\n",
       "      <th>age</th>\n",
       "      <th>job</th>\n",
       "      <th>marital</th>\n",
       "      <th>education</th>\n",
       "      <th>default</th>\n",
       "      <th>balance</th>\n",
       "      <th>housing</th>\n",
       "      <th>loan</th>\n",
       "      <th>contact</th>\n",
       "      <th>day</th>\n",
       "      <th>month</th>\n",
       "      <th>duration</th>\n",
       "      <th>campaign</th>\n",
       "      <th>pdays</th>\n",
       "      <th>previous</th>\n",
       "      <th>poutcome</th>\n",
       "    </tr>\n",
       "  </thead>\n",
       "  <tbody>\n",
       "    <tr>\n",
       "      <th>0</th>\n",
       "      <td>58</td>\n",
       "      <td>management</td>\n",
       "      <td>married</td>\n",
       "      <td>tertiary</td>\n",
       "      <td>no</td>\n",
       "      <td>2143</td>\n",
       "      <td>yes</td>\n",
       "      <td>no</td>\n",
       "      <td>unknown</td>\n",
       "      <td>5</td>\n",
       "      <td>may</td>\n",
       "      <td>261</td>\n",
       "      <td>1</td>\n",
       "      <td>-1</td>\n",
       "      <td>0</td>\n",
       "      <td>unknown</td>\n",
       "    </tr>\n",
       "    <tr>\n",
       "      <th>1</th>\n",
       "      <td>44</td>\n",
       "      <td>technician</td>\n",
       "      <td>single</td>\n",
       "      <td>secondary</td>\n",
       "      <td>no</td>\n",
       "      <td>29</td>\n",
       "      <td>yes</td>\n",
       "      <td>no</td>\n",
       "      <td>unknown</td>\n",
       "      <td>5</td>\n",
       "      <td>may</td>\n",
       "      <td>151</td>\n",
       "      <td>1</td>\n",
       "      <td>-1</td>\n",
       "      <td>0</td>\n",
       "      <td>unknown</td>\n",
       "    </tr>\n",
       "    <tr>\n",
       "      <th>2</th>\n",
       "      <td>33</td>\n",
       "      <td>entrepreneur</td>\n",
       "      <td>married</td>\n",
       "      <td>secondary</td>\n",
       "      <td>no</td>\n",
       "      <td>2</td>\n",
       "      <td>yes</td>\n",
       "      <td>yes</td>\n",
       "      <td>unknown</td>\n",
       "      <td>5</td>\n",
       "      <td>may</td>\n",
       "      <td>76</td>\n",
       "      <td>1</td>\n",
       "      <td>-1</td>\n",
       "      <td>0</td>\n",
       "      <td>unknown</td>\n",
       "    </tr>\n",
       "    <tr>\n",
       "      <th>3</th>\n",
       "      <td>47</td>\n",
       "      <td>blue-collar</td>\n",
       "      <td>married</td>\n",
       "      <td>unknown</td>\n",
       "      <td>no</td>\n",
       "      <td>1506</td>\n",
       "      <td>yes</td>\n",
       "      <td>no</td>\n",
       "      <td>unknown</td>\n",
       "      <td>5</td>\n",
       "      <td>may</td>\n",
       "      <td>92</td>\n",
       "      <td>1</td>\n",
       "      <td>-1</td>\n",
       "      <td>0</td>\n",
       "      <td>unknown</td>\n",
       "    </tr>\n",
       "    <tr>\n",
       "      <th>4</th>\n",
       "      <td>33</td>\n",
       "      <td>unknown</td>\n",
       "      <td>single</td>\n",
       "      <td>unknown</td>\n",
       "      <td>no</td>\n",
       "      <td>1</td>\n",
       "      <td>no</td>\n",
       "      <td>no</td>\n",
       "      <td>unknown</td>\n",
       "      <td>5</td>\n",
       "      <td>may</td>\n",
       "      <td>198</td>\n",
       "      <td>1</td>\n",
       "      <td>-1</td>\n",
       "      <td>0</td>\n",
       "      <td>unknown</td>\n",
       "    </tr>\n",
       "  </tbody>\n",
       "</table>\n",
       "</div>"
      ],
      "text/plain": [
       "   age           job  marital  education default  balance housing loan  \\\n",
       "0   58    management  married   tertiary      no     2143     yes   no   \n",
       "1   44    technician   single  secondary      no       29     yes   no   \n",
       "2   33  entrepreneur  married  secondary      no        2     yes  yes   \n",
       "3   47   blue-collar  married    unknown      no     1506     yes   no   \n",
       "4   33       unknown   single    unknown      no        1      no   no   \n",
       "\n",
       "   contact  day month  duration  campaign  pdays  previous poutcome  \n",
       "0  unknown    5   may       261         1     -1         0  unknown  \n",
       "1  unknown    5   may       151         1     -1         0  unknown  \n",
       "2  unknown    5   may        76         1     -1         0  unknown  \n",
       "3  unknown    5   may        92         1     -1         0  unknown  \n",
       "4  unknown    5   may       198         1     -1         0  unknown  "
      ]
     },
     "execution_count": 61,
     "metadata": {},
     "output_type": "execute_result"
    }
   ],
   "source": [
    "#copy the ids before dropping the column so we can get them back in the final txt file\n",
    "query_id = queries['id'].copy()\n",
    "#remove the id column from the dataset\n",
    "queries = queries.drop(columns=['id'])\n",
    "#display the first 5 rows\n",
    "queries.head()"
   ]
  },
  {
   "cell_type": "code",
   "execution_count": 62,
   "metadata": {},
   "outputs": [
    {
     "data": {
      "text/plain": [
       "age           int64\n",
       "job          object\n",
       "marital      object\n",
       "education    object\n",
       "default      object\n",
       "balance       int64\n",
       "housing      object\n",
       "loan         object\n",
       "contact      object\n",
       "day           int64\n",
       "month        object\n",
       "duration      int64\n",
       "campaign      int64\n",
       "pdays         int64\n",
       "previous      int64\n",
       "poutcome     object\n",
       "dtype: object"
      ]
     },
     "execution_count": 62,
     "metadata": {},
     "output_type": "execute_result"
    }
   ],
   "source": [
    "#get the data type of each column\n",
    "queries.dtypes"
   ]
  },
  {
   "cell_type": "code",
   "execution_count": 63,
   "metadata": {},
   "outputs": [
    {
     "data": {
      "text/html": [
       "<div>\n",
       "<style scoped>\n",
       "    .dataframe tbody tr th:only-of-type {\n",
       "        vertical-align: middle;\n",
       "    }\n",
       "\n",
       "    .dataframe tbody tr th {\n",
       "        vertical-align: top;\n",
       "    }\n",
       "\n",
       "    .dataframe thead th {\n",
       "        text-align: right;\n",
       "    }\n",
       "</style>\n",
       "<table border=\"1\" class=\"dataframe\">\n",
       "  <thead>\n",
       "    <tr style=\"text-align: right;\">\n",
       "      <th></th>\n",
       "      <th>age</th>\n",
       "      <th>job</th>\n",
       "      <th>marital</th>\n",
       "      <th>education</th>\n",
       "      <th>default</th>\n",
       "      <th>balance</th>\n",
       "      <th>housing</th>\n",
       "      <th>loan</th>\n",
       "      <th>contact</th>\n",
       "      <th>day</th>\n",
       "      <th>month</th>\n",
       "      <th>duration</th>\n",
       "      <th>campaign</th>\n",
       "      <th>pdays</th>\n",
       "      <th>previous</th>\n",
       "      <th>poutcome</th>\n",
       "    </tr>\n",
       "  </thead>\n",
       "  <tbody>\n",
       "    <tr>\n",
       "      <th>0</th>\n",
       "      <td>58</td>\n",
       "      <td>4</td>\n",
       "      <td>1</td>\n",
       "      <td>2</td>\n",
       "      <td>0</td>\n",
       "      <td>2143</td>\n",
       "      <td>1</td>\n",
       "      <td>0</td>\n",
       "      <td>2</td>\n",
       "      <td>5</td>\n",
       "      <td>8</td>\n",
       "      <td>261</td>\n",
       "      <td>1</td>\n",
       "      <td>-1</td>\n",
       "      <td>0</td>\n",
       "      <td>3</td>\n",
       "    </tr>\n",
       "    <tr>\n",
       "      <th>1</th>\n",
       "      <td>44</td>\n",
       "      <td>9</td>\n",
       "      <td>2</td>\n",
       "      <td>1</td>\n",
       "      <td>0</td>\n",
       "      <td>29</td>\n",
       "      <td>1</td>\n",
       "      <td>0</td>\n",
       "      <td>2</td>\n",
       "      <td>5</td>\n",
       "      <td>8</td>\n",
       "      <td>151</td>\n",
       "      <td>1</td>\n",
       "      <td>-1</td>\n",
       "      <td>0</td>\n",
       "      <td>3</td>\n",
       "    </tr>\n",
       "    <tr>\n",
       "      <th>2</th>\n",
       "      <td>33</td>\n",
       "      <td>2</td>\n",
       "      <td>1</td>\n",
       "      <td>1</td>\n",
       "      <td>0</td>\n",
       "      <td>2</td>\n",
       "      <td>1</td>\n",
       "      <td>1</td>\n",
       "      <td>2</td>\n",
       "      <td>5</td>\n",
       "      <td>8</td>\n",
       "      <td>76</td>\n",
       "      <td>1</td>\n",
       "      <td>-1</td>\n",
       "      <td>0</td>\n",
       "      <td>3</td>\n",
       "    </tr>\n",
       "    <tr>\n",
       "      <th>3</th>\n",
       "      <td>47</td>\n",
       "      <td>1</td>\n",
       "      <td>1</td>\n",
       "      <td>3</td>\n",
       "      <td>0</td>\n",
       "      <td>1506</td>\n",
       "      <td>1</td>\n",
       "      <td>0</td>\n",
       "      <td>2</td>\n",
       "      <td>5</td>\n",
       "      <td>8</td>\n",
       "      <td>92</td>\n",
       "      <td>1</td>\n",
       "      <td>-1</td>\n",
       "      <td>0</td>\n",
       "      <td>3</td>\n",
       "    </tr>\n",
       "    <tr>\n",
       "      <th>4</th>\n",
       "      <td>33</td>\n",
       "      <td>11</td>\n",
       "      <td>2</td>\n",
       "      <td>3</td>\n",
       "      <td>0</td>\n",
       "      <td>1</td>\n",
       "      <td>0</td>\n",
       "      <td>0</td>\n",
       "      <td>2</td>\n",
       "      <td>5</td>\n",
       "      <td>8</td>\n",
       "      <td>198</td>\n",
       "      <td>1</td>\n",
       "      <td>-1</td>\n",
       "      <td>0</td>\n",
       "      <td>3</td>\n",
       "    </tr>\n",
       "    <tr>\n",
       "      <th>...</th>\n",
       "      <td>...</td>\n",
       "      <td>...</td>\n",
       "      <td>...</td>\n",
       "      <td>...</td>\n",
       "      <td>...</td>\n",
       "      <td>...</td>\n",
       "      <td>...</td>\n",
       "      <td>...</td>\n",
       "      <td>...</td>\n",
       "      <td>...</td>\n",
       "      <td>...</td>\n",
       "      <td>...</td>\n",
       "      <td>...</td>\n",
       "      <td>...</td>\n",
       "      <td>...</td>\n",
       "      <td>...</td>\n",
       "    </tr>\n",
       "    <tr>\n",
       "      <th>45206</th>\n",
       "      <td>51</td>\n",
       "      <td>9</td>\n",
       "      <td>1</td>\n",
       "      <td>2</td>\n",
       "      <td>0</td>\n",
       "      <td>825</td>\n",
       "      <td>0</td>\n",
       "      <td>0</td>\n",
       "      <td>0</td>\n",
       "      <td>17</td>\n",
       "      <td>9</td>\n",
       "      <td>977</td>\n",
       "      <td>3</td>\n",
       "      <td>-1</td>\n",
       "      <td>0</td>\n",
       "      <td>3</td>\n",
       "    </tr>\n",
       "    <tr>\n",
       "      <th>45207</th>\n",
       "      <td>71</td>\n",
       "      <td>5</td>\n",
       "      <td>0</td>\n",
       "      <td>0</td>\n",
       "      <td>0</td>\n",
       "      <td>1729</td>\n",
       "      <td>0</td>\n",
       "      <td>0</td>\n",
       "      <td>0</td>\n",
       "      <td>17</td>\n",
       "      <td>9</td>\n",
       "      <td>456</td>\n",
       "      <td>2</td>\n",
       "      <td>-1</td>\n",
       "      <td>0</td>\n",
       "      <td>3</td>\n",
       "    </tr>\n",
       "    <tr>\n",
       "      <th>45208</th>\n",
       "      <td>72</td>\n",
       "      <td>5</td>\n",
       "      <td>1</td>\n",
       "      <td>1</td>\n",
       "      <td>0</td>\n",
       "      <td>5715</td>\n",
       "      <td>0</td>\n",
       "      <td>0</td>\n",
       "      <td>0</td>\n",
       "      <td>17</td>\n",
       "      <td>9</td>\n",
       "      <td>1127</td>\n",
       "      <td>5</td>\n",
       "      <td>184</td>\n",
       "      <td>3</td>\n",
       "      <td>2</td>\n",
       "    </tr>\n",
       "    <tr>\n",
       "      <th>45209</th>\n",
       "      <td>57</td>\n",
       "      <td>1</td>\n",
       "      <td>1</td>\n",
       "      <td>1</td>\n",
       "      <td>0</td>\n",
       "      <td>668</td>\n",
       "      <td>0</td>\n",
       "      <td>0</td>\n",
       "      <td>1</td>\n",
       "      <td>17</td>\n",
       "      <td>9</td>\n",
       "      <td>508</td>\n",
       "      <td>4</td>\n",
       "      <td>-1</td>\n",
       "      <td>0</td>\n",
       "      <td>3</td>\n",
       "    </tr>\n",
       "    <tr>\n",
       "      <th>45210</th>\n",
       "      <td>37</td>\n",
       "      <td>2</td>\n",
       "      <td>1</td>\n",
       "      <td>1</td>\n",
       "      <td>0</td>\n",
       "      <td>2971</td>\n",
       "      <td>0</td>\n",
       "      <td>0</td>\n",
       "      <td>0</td>\n",
       "      <td>17</td>\n",
       "      <td>9</td>\n",
       "      <td>361</td>\n",
       "      <td>2</td>\n",
       "      <td>188</td>\n",
       "      <td>11</td>\n",
       "      <td>1</td>\n",
       "    </tr>\n",
       "  </tbody>\n",
       "</table>\n",
       "<p>45211 rows × 16 columns</p>\n",
       "</div>"
      ],
      "text/plain": [
       "       age  job  marital  education  default  balance  housing  loan  contact  \\\n",
       "0       58    4        1          2        0     2143        1     0        2   \n",
       "1       44    9        2          1        0       29        1     0        2   \n",
       "2       33    2        1          1        0        2        1     1        2   \n",
       "3       47    1        1          3        0     1506        1     0        2   \n",
       "4       33   11        2          3        0        1        0     0        2   \n",
       "...    ...  ...      ...        ...      ...      ...      ...   ...      ...   \n",
       "45206   51    9        1          2        0      825        0     0        0   \n",
       "45207   71    5        0          0        0     1729        0     0        0   \n",
       "45208   72    5        1          1        0     5715        0     0        0   \n",
       "45209   57    1        1          1        0      668        0     0        1   \n",
       "45210   37    2        1          1        0     2971        0     0        0   \n",
       "\n",
       "       day  month  duration  campaign  pdays  previous  poutcome  \n",
       "0        5      8       261         1     -1         0         3  \n",
       "1        5      8       151         1     -1         0         3  \n",
       "2        5      8        76         1     -1         0         3  \n",
       "3        5      8        92         1     -1         0         3  \n",
       "4        5      8       198         1     -1         0         3  \n",
       "...    ...    ...       ...       ...    ...       ...       ...  \n",
       "45206   17      9       977         3     -1         0         3  \n",
       "45207   17      9       456         2     -1         0         3  \n",
       "45208   17      9      1127         5    184         3         2  \n",
       "45209   17      9       508         4     -1         0         3  \n",
       "45210   17      9       361         2    188        11         1  \n",
       "\n",
       "[45211 rows x 16 columns]"
      ]
     },
     "execution_count": 63,
     "metadata": {},
     "output_type": "execute_result"
    }
   ],
   "source": [
    "#convert categorical features to numeric, using Label Encoder \n",
    "lable = LabelEncoder()\n",
    "#LabelEncoder is used to convert all the categorical features to numeric:\n",
    "queries[CategoricalHeaders]= queries[CategoricalHeaders].apply(lambda col: lable.fit_transform(col))\n",
    "queries"
   ]
  },
  {
   "cell_type": "code",
   "execution_count": 64,
   "metadata": {},
   "outputs": [
    {
     "data": {
      "text/plain": [
       "age          int64\n",
       "job          int64\n",
       "marital      int64\n",
       "education    int64\n",
       "default      int64\n",
       "balance      int64\n",
       "housing      int64\n",
       "loan         int64\n",
       "contact      int64\n",
       "day          int64\n",
       "month        int64\n",
       "duration     int64\n",
       "campaign     int64\n",
       "pdays        int64\n",
       "previous     int64\n",
       "poutcome     int64\n",
       "dtype: object"
      ]
     },
     "execution_count": 64,
     "metadata": {},
     "output_type": "execute_result"
    }
   ],
   "source": [
    "#get the data type of each column\n",
    "queries.dtypes"
   ]
  },
  {
   "cell_type": "code",
   "execution_count": 65,
   "metadata": {},
   "outputs": [],
   "source": [
    "#since the Decision Tree Classifier had the highest accuracy, it will be used to predict the outcome\n",
    "#predict the target values of the queries by passing queries to the Decision Tree Classifier model\n",
    "Decision_Tree_Predictions = decTreeModel.predict(queries)\n"
   ]
  },
  {
   "cell_type": "code",
   "execution_count": 66,
   "metadata": {},
   "outputs": [
    {
     "data": {
      "text/plain": [
       "array(['no', 'no', 'no', ..., 'yes', 'yes', 'no'], dtype=object)"
      ]
     },
     "execution_count": 66,
     "metadata": {},
     "output_type": "execute_result"
    }
   ],
   "source": [
    "#Decision_Tree_Predictions will have all the target column results\n",
    "Decision_Tree_Predictions"
   ]
  },
  {
   "cell_type": "code",
   "execution_count": 67,
   "metadata": {},
   "outputs": [
    {
     "data": {
      "text/html": [
       "<div>\n",
       "<style scoped>\n",
       "    .dataframe tbody tr th:only-of-type {\n",
       "        vertical-align: middle;\n",
       "    }\n",
       "\n",
       "    .dataframe tbody tr th {\n",
       "        vertical-align: top;\n",
       "    }\n",
       "\n",
       "    .dataframe thead th {\n",
       "        text-align: right;\n",
       "    }\n",
       "</style>\n",
       "<table border=\"1\" class=\"dataframe\">\n",
       "  <thead>\n",
       "    <tr style=\"text-align: right;\">\n",
       "      <th></th>\n",
       "      <th>age</th>\n",
       "      <th>job</th>\n",
       "      <th>marital</th>\n",
       "      <th>education</th>\n",
       "      <th>default</th>\n",
       "      <th>balance</th>\n",
       "      <th>housing</th>\n",
       "      <th>loan</th>\n",
       "      <th>contact</th>\n",
       "      <th>day</th>\n",
       "      <th>month</th>\n",
       "      <th>duration</th>\n",
       "      <th>campaign</th>\n",
       "      <th>pdays</th>\n",
       "      <th>previous</th>\n",
       "      <th>poutcome</th>\n",
       "      <th>prediction</th>\n",
       "    </tr>\n",
       "  </thead>\n",
       "  <tbody>\n",
       "    <tr>\n",
       "      <th>0</th>\n",
       "      <td>58</td>\n",
       "      <td>4</td>\n",
       "      <td>1</td>\n",
       "      <td>2</td>\n",
       "      <td>0</td>\n",
       "      <td>2143</td>\n",
       "      <td>1</td>\n",
       "      <td>0</td>\n",
       "      <td>2</td>\n",
       "      <td>5</td>\n",
       "      <td>8</td>\n",
       "      <td>261</td>\n",
       "      <td>1</td>\n",
       "      <td>-1</td>\n",
       "      <td>0</td>\n",
       "      <td>3</td>\n",
       "      <td>no</td>\n",
       "    </tr>\n",
       "    <tr>\n",
       "      <th>1</th>\n",
       "      <td>44</td>\n",
       "      <td>9</td>\n",
       "      <td>2</td>\n",
       "      <td>1</td>\n",
       "      <td>0</td>\n",
       "      <td>29</td>\n",
       "      <td>1</td>\n",
       "      <td>0</td>\n",
       "      <td>2</td>\n",
       "      <td>5</td>\n",
       "      <td>8</td>\n",
       "      <td>151</td>\n",
       "      <td>1</td>\n",
       "      <td>-1</td>\n",
       "      <td>0</td>\n",
       "      <td>3</td>\n",
       "      <td>no</td>\n",
       "    </tr>\n",
       "    <tr>\n",
       "      <th>2</th>\n",
       "      <td>33</td>\n",
       "      <td>2</td>\n",
       "      <td>1</td>\n",
       "      <td>1</td>\n",
       "      <td>0</td>\n",
       "      <td>2</td>\n",
       "      <td>1</td>\n",
       "      <td>1</td>\n",
       "      <td>2</td>\n",
       "      <td>5</td>\n",
       "      <td>8</td>\n",
       "      <td>76</td>\n",
       "      <td>1</td>\n",
       "      <td>-1</td>\n",
       "      <td>0</td>\n",
       "      <td>3</td>\n",
       "      <td>no</td>\n",
       "    </tr>\n",
       "    <tr>\n",
       "      <th>3</th>\n",
       "      <td>47</td>\n",
       "      <td>1</td>\n",
       "      <td>1</td>\n",
       "      <td>3</td>\n",
       "      <td>0</td>\n",
       "      <td>1506</td>\n",
       "      <td>1</td>\n",
       "      <td>0</td>\n",
       "      <td>2</td>\n",
       "      <td>5</td>\n",
       "      <td>8</td>\n",
       "      <td>92</td>\n",
       "      <td>1</td>\n",
       "      <td>-1</td>\n",
       "      <td>0</td>\n",
       "      <td>3</td>\n",
       "      <td>no</td>\n",
       "    </tr>\n",
       "    <tr>\n",
       "      <th>4</th>\n",
       "      <td>33</td>\n",
       "      <td>11</td>\n",
       "      <td>2</td>\n",
       "      <td>3</td>\n",
       "      <td>0</td>\n",
       "      <td>1</td>\n",
       "      <td>0</td>\n",
       "      <td>0</td>\n",
       "      <td>2</td>\n",
       "      <td>5</td>\n",
       "      <td>8</td>\n",
       "      <td>198</td>\n",
       "      <td>1</td>\n",
       "      <td>-1</td>\n",
       "      <td>0</td>\n",
       "      <td>3</td>\n",
       "      <td>yes</td>\n",
       "    </tr>\n",
       "    <tr>\n",
       "      <th>...</th>\n",
       "      <td>...</td>\n",
       "      <td>...</td>\n",
       "      <td>...</td>\n",
       "      <td>...</td>\n",
       "      <td>...</td>\n",
       "      <td>...</td>\n",
       "      <td>...</td>\n",
       "      <td>...</td>\n",
       "      <td>...</td>\n",
       "      <td>...</td>\n",
       "      <td>...</td>\n",
       "      <td>...</td>\n",
       "      <td>...</td>\n",
       "      <td>...</td>\n",
       "      <td>...</td>\n",
       "      <td>...</td>\n",
       "      <td>...</td>\n",
       "    </tr>\n",
       "    <tr>\n",
       "      <th>45206</th>\n",
       "      <td>51</td>\n",
       "      <td>9</td>\n",
       "      <td>1</td>\n",
       "      <td>2</td>\n",
       "      <td>0</td>\n",
       "      <td>825</td>\n",
       "      <td>0</td>\n",
       "      <td>0</td>\n",
       "      <td>0</td>\n",
       "      <td>17</td>\n",
       "      <td>9</td>\n",
       "      <td>977</td>\n",
       "      <td>3</td>\n",
       "      <td>-1</td>\n",
       "      <td>0</td>\n",
       "      <td>3</td>\n",
       "      <td>yes</td>\n",
       "    </tr>\n",
       "    <tr>\n",
       "      <th>45207</th>\n",
       "      <td>71</td>\n",
       "      <td>5</td>\n",
       "      <td>0</td>\n",
       "      <td>0</td>\n",
       "      <td>0</td>\n",
       "      <td>1729</td>\n",
       "      <td>0</td>\n",
       "      <td>0</td>\n",
       "      <td>0</td>\n",
       "      <td>17</td>\n",
       "      <td>9</td>\n",
       "      <td>456</td>\n",
       "      <td>2</td>\n",
       "      <td>-1</td>\n",
       "      <td>0</td>\n",
       "      <td>3</td>\n",
       "      <td>yes</td>\n",
       "    </tr>\n",
       "    <tr>\n",
       "      <th>45208</th>\n",
       "      <td>72</td>\n",
       "      <td>5</td>\n",
       "      <td>1</td>\n",
       "      <td>1</td>\n",
       "      <td>0</td>\n",
       "      <td>5715</td>\n",
       "      <td>0</td>\n",
       "      <td>0</td>\n",
       "      <td>0</td>\n",
       "      <td>17</td>\n",
       "      <td>9</td>\n",
       "      <td>1127</td>\n",
       "      <td>5</td>\n",
       "      <td>184</td>\n",
       "      <td>3</td>\n",
       "      <td>2</td>\n",
       "      <td>yes</td>\n",
       "    </tr>\n",
       "    <tr>\n",
       "      <th>45209</th>\n",
       "      <td>57</td>\n",
       "      <td>1</td>\n",
       "      <td>1</td>\n",
       "      <td>1</td>\n",
       "      <td>0</td>\n",
       "      <td>668</td>\n",
       "      <td>0</td>\n",
       "      <td>0</td>\n",
       "      <td>1</td>\n",
       "      <td>17</td>\n",
       "      <td>9</td>\n",
       "      <td>508</td>\n",
       "      <td>4</td>\n",
       "      <td>-1</td>\n",
       "      <td>0</td>\n",
       "      <td>3</td>\n",
       "      <td>yes</td>\n",
       "    </tr>\n",
       "    <tr>\n",
       "      <th>45210</th>\n",
       "      <td>37</td>\n",
       "      <td>2</td>\n",
       "      <td>1</td>\n",
       "      <td>1</td>\n",
       "      <td>0</td>\n",
       "      <td>2971</td>\n",
       "      <td>0</td>\n",
       "      <td>0</td>\n",
       "      <td>0</td>\n",
       "      <td>17</td>\n",
       "      <td>9</td>\n",
       "      <td>361</td>\n",
       "      <td>2</td>\n",
       "      <td>188</td>\n",
       "      <td>11</td>\n",
       "      <td>1</td>\n",
       "      <td>no</td>\n",
       "    </tr>\n",
       "  </tbody>\n",
       "</table>\n",
       "<p>45211 rows × 17 columns</p>\n",
       "</div>"
      ],
      "text/plain": [
       "       age  job  marital  education  default  balance  housing  loan  contact  \\\n",
       "0       58    4        1          2        0     2143        1     0        2   \n",
       "1       44    9        2          1        0       29        1     0        2   \n",
       "2       33    2        1          1        0        2        1     1        2   \n",
       "3       47    1        1          3        0     1506        1     0        2   \n",
       "4       33   11        2          3        0        1        0     0        2   \n",
       "...    ...  ...      ...        ...      ...      ...      ...   ...      ...   \n",
       "45206   51    9        1          2        0      825        0     0        0   \n",
       "45207   71    5        0          0        0     1729        0     0        0   \n",
       "45208   72    5        1          1        0     5715        0     0        0   \n",
       "45209   57    1        1          1        0      668        0     0        1   \n",
       "45210   37    2        1          1        0     2971        0     0        0   \n",
       "\n",
       "       day  month  duration  campaign  pdays  previous  poutcome prediction  \n",
       "0        5      8       261         1     -1         0         3         no  \n",
       "1        5      8       151         1     -1         0         3         no  \n",
       "2        5      8        76         1     -1         0         3         no  \n",
       "3        5      8        92         1     -1         0         3         no  \n",
       "4        5      8       198         1     -1         0         3        yes  \n",
       "...    ...    ...       ...       ...    ...       ...       ...        ...  \n",
       "45206   17      9       977         3     -1         0         3        yes  \n",
       "45207   17      9       456         2     -1         0         3        yes  \n",
       "45208   17      9      1127         5    184         3         2        yes  \n",
       "45209   17      9       508         4     -1         0         3        yes  \n",
       "45210   17      9       361         2    188        11         1         no  \n",
       "\n",
       "[45211 rows x 17 columns]"
      ]
     },
     "execution_count": 67,
     "metadata": {},
     "output_type": "execute_result"
    }
   ],
   "source": [
    "#add the Decision_Tree_Predictions (predictions results) column to the queries dataframe\n",
    "queries['prediction'] = Decision_Tree_Predictions\n",
    "queries"
   ]
  },
  {
   "cell_type": "code",
   "execution_count": 68,
   "metadata": {},
   "outputs": [],
   "source": [
    "#creat a new csv queries file with the added prediction column\n",
    "queries.to_csv(\"Predictions.csv\", encoding='utf-8', index = None)\n"
   ]
  },
  {
   "cell_type": "code",
   "execution_count": 69,
   "metadata": {},
   "outputs": [],
   "source": [
    "#create a new file called predictions.txt that contains the id followed by a comma followed by your classifier’s prediction id,prediction\n",
    "#txt file created for writing\n",
    "PredictionsFile = open('predictions.txt', 'w')\n",
    "\n",
    "#loop around the predictions length\n",
    "for i in range(len(Decision_Tree_Predictions)):\n",
    "    #write into the txt file the id that was copied before dropping the column follwed by a comma , and then the Decision Tree prediction\n",
    "    #ensure that the oucome the following format= TEST1,”Type..”\n",
    "    PredictionsFile.write(str(query_id[i]) + ',' + '\\\"'+  Decision_Tree_Predictions[i] + '\\\"')\n",
    "    #check if i is smaller than the length of the Decision Tree predictions => move to the next line  \n",
    "    if i < len(Decision_Tree_Predictions) - 1:\n",
    "        #add a new line\n",
    "        PredictionsFile.write('\\n')\n",
    "\n",
    "#close the file\n",
    "PredictionsFile.close()\n",
    "\n"
   ]
  },
  {
   "cell_type": "code",
   "execution_count": 70,
   "metadata": {},
   "outputs": [
    {
     "data": {
      "text/html": [
       "<div>\n",
       "<style scoped>\n",
       "    .dataframe tbody tr th:only-of-type {\n",
       "        vertical-align: middle;\n",
       "    }\n",
       "\n",
       "    .dataframe tbody tr th {\n",
       "        vertical-align: top;\n",
       "    }\n",
       "\n",
       "    .dataframe thead th {\n",
       "        text-align: right;\n",
       "    }\n",
       "</style>\n",
       "<table border=\"1\" class=\"dataframe\">\n",
       "  <thead>\n",
       "    <tr style=\"text-align: right;\">\n",
       "      <th></th>\n",
       "      <th>Test ID</th>\n",
       "      <th>Prediction</th>\n",
       "    </tr>\n",
       "  </thead>\n",
       "  <tbody>\n",
       "    <tr>\n",
       "      <th>0</th>\n",
       "      <td>1</td>\n",
       "      <td>no</td>\n",
       "    </tr>\n",
       "    <tr>\n",
       "      <th>1</th>\n",
       "      <td>2</td>\n",
       "      <td>no</td>\n",
       "    </tr>\n",
       "    <tr>\n",
       "      <th>2</th>\n",
       "      <td>3</td>\n",
       "      <td>no</td>\n",
       "    </tr>\n",
       "    <tr>\n",
       "      <th>3</th>\n",
       "      <td>4</td>\n",
       "      <td>no</td>\n",
       "    </tr>\n",
       "    <tr>\n",
       "      <th>4</th>\n",
       "      <td>5</td>\n",
       "      <td>yes</td>\n",
       "    </tr>\n",
       "    <tr>\n",
       "      <th>...</th>\n",
       "      <td>...</td>\n",
       "      <td>...</td>\n",
       "    </tr>\n",
       "    <tr>\n",
       "      <th>45206</th>\n",
       "      <td>45207</td>\n",
       "      <td>yes</td>\n",
       "    </tr>\n",
       "    <tr>\n",
       "      <th>45207</th>\n",
       "      <td>45208</td>\n",
       "      <td>yes</td>\n",
       "    </tr>\n",
       "    <tr>\n",
       "      <th>45208</th>\n",
       "      <td>45209</td>\n",
       "      <td>yes</td>\n",
       "    </tr>\n",
       "    <tr>\n",
       "      <th>45209</th>\n",
       "      <td>45210</td>\n",
       "      <td>yes</td>\n",
       "    </tr>\n",
       "    <tr>\n",
       "      <th>45210</th>\n",
       "      <td>45211</td>\n",
       "      <td>no</td>\n",
       "    </tr>\n",
       "  </tbody>\n",
       "</table>\n",
       "<p>45211 rows × 2 columns</p>\n",
       "</div>"
      ],
      "text/plain": [
       "       Test ID Prediction\n",
       "0            1         no\n",
       "1            2         no\n",
       "2            3         no\n",
       "3            4         no\n",
       "4            5        yes\n",
       "...        ...        ...\n",
       "45206    45207        yes\n",
       "45207    45208        yes\n",
       "45208    45209        yes\n",
       "45209    45210        yes\n",
       "45210    45211         no\n",
       "\n",
       "[45211 rows x 2 columns]"
      ]
     },
     "execution_count": 70,
     "metadata": {},
     "output_type": "execute_result"
    }
   ],
   "source": [
    "#display the predictions.txt file\n",
    "\n",
    "#read the dataset using read_csv() and passing filepath (predictions.txt)\n",
    "#use header=None to assign the first row of predictions.txt to the first row of pf( columns won't have names)\n",
    "pf = pd.read_csv('predictions.txt', header=None)\n",
    "#add 2 columns (Test ID and Prediction) to pd\n",
    "pf.columns = ['Test ID','Prediction']\n",
    "pf"
   ]
  },
  {
   "cell_type": "markdown",
   "metadata": {},
   "source": [
    "# Section 2"
   ]
  },
  {
   "cell_type": "markdown",
   "metadata": {},
   "source": [
    "# Predicting the loan eligibility"
   ]
  },
  {
   "cell_type": "markdown",
   "metadata": {},
   "source": [
    "For the 2nd section the following steps are required:\n",
    "\n",
    "1. Drop unnecessary columns from both the bank dataset and the loan dataset.\n",
    "2. Replace column values in the bank dataset to match the column values in the loan dataset.\n",
    "3. Rename the columns in the loan dataset to match the column names in the bank dataset.\n",
    "4. Merge both datasets using common columns.\n",
    "5. Clean the merged data by removing empty rows.\n",
    "6. Use LabelEncoder to convert categorical features to numeric.\n",
    "7. Predict loan eligibility."
   ]
  },
  {
   "cell_type": "code",
   "execution_count": 71,
   "metadata": {},
   "outputs": [
    {
     "data": {
      "text/html": [
       "<div>\n",
       "<style scoped>\n",
       "    .dataframe tbody tr th:only-of-type {\n",
       "        vertical-align: middle;\n",
       "    }\n",
       "\n",
       "    .dataframe tbody tr th {\n",
       "        vertical-align: top;\n",
       "    }\n",
       "\n",
       "    .dataframe thead th {\n",
       "        text-align: right;\n",
       "    }\n",
       "</style>\n",
       "<table border=\"1\" class=\"dataframe\">\n",
       "  <thead>\n",
       "    <tr style=\"text-align: right;\">\n",
       "      <th></th>\n",
       "      <th>Loan_ID</th>\n",
       "      <th>Gender</th>\n",
       "      <th>Married</th>\n",
       "      <th>Dependents</th>\n",
       "      <th>Education</th>\n",
       "      <th>Self_Employed</th>\n",
       "      <th>ApplicantIncome</th>\n",
       "      <th>CoapplicantIncome</th>\n",
       "      <th>LoanAmount</th>\n",
       "      <th>Loan_Amount_Term</th>\n",
       "      <th>Credit_History</th>\n",
       "      <th>Property_Area</th>\n",
       "      <th>Loan_Status</th>\n",
       "    </tr>\n",
       "  </thead>\n",
       "  <tbody>\n",
       "    <tr>\n",
       "      <th>0</th>\n",
       "      <td>LP001002</td>\n",
       "      <td>Male</td>\n",
       "      <td>No</td>\n",
       "      <td>0</td>\n",
       "      <td>Graduate</td>\n",
       "      <td>No</td>\n",
       "      <td>5849</td>\n",
       "      <td>0.0</td>\n",
       "      <td>NaN</td>\n",
       "      <td>360.0</td>\n",
       "      <td>1.0</td>\n",
       "      <td>Urban</td>\n",
       "      <td>Y</td>\n",
       "    </tr>\n",
       "    <tr>\n",
       "      <th>1</th>\n",
       "      <td>LP001003</td>\n",
       "      <td>Male</td>\n",
       "      <td>Yes</td>\n",
       "      <td>1</td>\n",
       "      <td>Graduate</td>\n",
       "      <td>No</td>\n",
       "      <td>4583</td>\n",
       "      <td>1508.0</td>\n",
       "      <td>128.0</td>\n",
       "      <td>360.0</td>\n",
       "      <td>1.0</td>\n",
       "      <td>Rural</td>\n",
       "      <td>N</td>\n",
       "    </tr>\n",
       "    <tr>\n",
       "      <th>2</th>\n",
       "      <td>LP001005</td>\n",
       "      <td>Male</td>\n",
       "      <td>Yes</td>\n",
       "      <td>0</td>\n",
       "      <td>Graduate</td>\n",
       "      <td>Yes</td>\n",
       "      <td>3000</td>\n",
       "      <td>0.0</td>\n",
       "      <td>66.0</td>\n",
       "      <td>360.0</td>\n",
       "      <td>1.0</td>\n",
       "      <td>Urban</td>\n",
       "      <td>Y</td>\n",
       "    </tr>\n",
       "    <tr>\n",
       "      <th>3</th>\n",
       "      <td>LP001006</td>\n",
       "      <td>Male</td>\n",
       "      <td>Yes</td>\n",
       "      <td>0</td>\n",
       "      <td>Not Graduate</td>\n",
       "      <td>No</td>\n",
       "      <td>2583</td>\n",
       "      <td>2358.0</td>\n",
       "      <td>120.0</td>\n",
       "      <td>360.0</td>\n",
       "      <td>1.0</td>\n",
       "      <td>Urban</td>\n",
       "      <td>Y</td>\n",
       "    </tr>\n",
       "    <tr>\n",
       "      <th>4</th>\n",
       "      <td>LP001008</td>\n",
       "      <td>Male</td>\n",
       "      <td>No</td>\n",
       "      <td>0</td>\n",
       "      <td>Graduate</td>\n",
       "      <td>No</td>\n",
       "      <td>6000</td>\n",
       "      <td>0.0</td>\n",
       "      <td>141.0</td>\n",
       "      <td>360.0</td>\n",
       "      <td>1.0</td>\n",
       "      <td>Urban</td>\n",
       "      <td>Y</td>\n",
       "    </tr>\n",
       "  </tbody>\n",
       "</table>\n",
       "</div>"
      ],
      "text/plain": [
       "    Loan_ID Gender Married Dependents     Education Self_Employed  \\\n",
       "0  LP001002   Male      No          0      Graduate            No   \n",
       "1  LP001003   Male     Yes          1      Graduate            No   \n",
       "2  LP001005   Male     Yes          0      Graduate           Yes   \n",
       "3  LP001006   Male     Yes          0  Not Graduate            No   \n",
       "4  LP001008   Male      No          0      Graduate            No   \n",
       "\n",
       "   ApplicantIncome  CoapplicantIncome  LoanAmount  Loan_Amount_Term  \\\n",
       "0             5849                0.0         NaN             360.0   \n",
       "1             4583             1508.0       128.0             360.0   \n",
       "2             3000                0.0        66.0             360.0   \n",
       "3             2583             2358.0       120.0             360.0   \n",
       "4             6000                0.0       141.0             360.0   \n",
       "\n",
       "   Credit_History Property_Area Loan_Status  \n",
       "0             1.0         Urban           Y  \n",
       "1             1.0         Rural           N  \n",
       "2             1.0         Urban           Y  \n",
       "3             1.0         Urban           Y  \n",
       "4             1.0         Urban           Y  "
      ]
     },
     "execution_count": 71,
     "metadata": {},
     "output_type": "execute_result"
    }
   ],
   "source": [
    "#predict the loan:\n",
    "\n",
    "#read the dataset and remove the id column \n",
    "# https://www.kaggle.com/datasets/vikasukani/loan-eligible-dataset?resource=download\n",
    "\n",
    "#the path of the dataset folder and the name of the dataset were added in order to be joined together\n",
    "#adding the path and the dataset name and join the 2 string together\n",
    "dataset = os.sep.join(['data'] + ['loan-train.csv']) \n",
    "#read the dataset using read_csv() and passing filepath (data/loan-train.csv)\n",
    "loan_data = pd.read_csv(dataset)\n",
    "#display the first 5 rows of loan_data\n",
    "loan_data.head()\n"
   ]
  },
  {
   "cell_type": "code",
   "execution_count": 72,
   "metadata": {},
   "outputs": [
    {
     "data": {
      "text/plain": [
       "Loan_ID               object\n",
       "Gender                object\n",
       "Married               object\n",
       "Dependents            object\n",
       "Education             object\n",
       "Self_Employed         object\n",
       "ApplicantIncome        int64\n",
       "CoapplicantIncome    float64\n",
       "LoanAmount           float64\n",
       "Loan_Amount_Term     float64\n",
       "Credit_History       float64\n",
       "Property_Area         object\n",
       "Loan_Status           object\n",
       "dtype: object"
      ]
     },
     "execution_count": 72,
     "metadata": {},
     "output_type": "execute_result"
    }
   ],
   "source": [
    "#get the data type of each column\n",
    "loan_data.dtypes"
   ]
  },
  {
   "cell_type": "code",
   "execution_count": 73,
   "metadata": {},
   "outputs": [
    {
     "data": {
      "text/plain": [
       "13"
      ]
     },
     "execution_count": 73,
     "metadata": {},
     "output_type": "execute_result"
    }
   ],
   "source": [
    "#number of columns\n",
    "len(loan_data.columns)"
   ]
  },
  {
   "cell_type": "code",
   "execution_count": 74,
   "metadata": {},
   "outputs": [
    {
     "data": {
      "text/plain": [
       "614"
      ]
     },
     "execution_count": 74,
     "metadata": {},
     "output_type": "execute_result"
    }
   ],
   "source": [
    "#number of rows\n",
    "len(loan_data)"
   ]
  },
  {
   "cell_type": "code",
   "execution_count": 75,
   "metadata": {},
   "outputs": [
    {
     "data": {
      "text/html": [
       "<div>\n",
       "<style scoped>\n",
       "    .dataframe tbody tr th:only-of-type {\n",
       "        vertical-align: middle;\n",
       "    }\n",
       "\n",
       "    .dataframe tbody tr th {\n",
       "        vertical-align: top;\n",
       "    }\n",
       "\n",
       "    .dataframe thead th {\n",
       "        text-align: right;\n",
       "    }\n",
       "</style>\n",
       "<table border=\"1\" class=\"dataframe\">\n",
       "  <thead>\n",
       "    <tr style=\"text-align: right;\">\n",
       "      <th></th>\n",
       "      <th>Married</th>\n",
       "      <th>Education</th>\n",
       "      <th>ApplicantIncome</th>\n",
       "      <th>Credit_History</th>\n",
       "      <th>Loan_Status</th>\n",
       "    </tr>\n",
       "  </thead>\n",
       "  <tbody>\n",
       "    <tr>\n",
       "      <th>0</th>\n",
       "      <td>No</td>\n",
       "      <td>Graduate</td>\n",
       "      <td>5849</td>\n",
       "      <td>1.0</td>\n",
       "      <td>Y</td>\n",
       "    </tr>\n",
       "    <tr>\n",
       "      <th>1</th>\n",
       "      <td>Yes</td>\n",
       "      <td>Graduate</td>\n",
       "      <td>4583</td>\n",
       "      <td>1.0</td>\n",
       "      <td>N</td>\n",
       "    </tr>\n",
       "    <tr>\n",
       "      <th>2</th>\n",
       "      <td>Yes</td>\n",
       "      <td>Graduate</td>\n",
       "      <td>3000</td>\n",
       "      <td>1.0</td>\n",
       "      <td>Y</td>\n",
       "    </tr>\n",
       "    <tr>\n",
       "      <th>3</th>\n",
       "      <td>Yes</td>\n",
       "      <td>Not Graduate</td>\n",
       "      <td>2583</td>\n",
       "      <td>1.0</td>\n",
       "      <td>Y</td>\n",
       "    </tr>\n",
       "    <tr>\n",
       "      <th>4</th>\n",
       "      <td>No</td>\n",
       "      <td>Graduate</td>\n",
       "      <td>6000</td>\n",
       "      <td>1.0</td>\n",
       "      <td>Y</td>\n",
       "    </tr>\n",
       "    <tr>\n",
       "      <th>...</th>\n",
       "      <td>...</td>\n",
       "      <td>...</td>\n",
       "      <td>...</td>\n",
       "      <td>...</td>\n",
       "      <td>...</td>\n",
       "    </tr>\n",
       "    <tr>\n",
       "      <th>609</th>\n",
       "      <td>No</td>\n",
       "      <td>Graduate</td>\n",
       "      <td>2900</td>\n",
       "      <td>1.0</td>\n",
       "      <td>Y</td>\n",
       "    </tr>\n",
       "    <tr>\n",
       "      <th>610</th>\n",
       "      <td>Yes</td>\n",
       "      <td>Graduate</td>\n",
       "      <td>4106</td>\n",
       "      <td>1.0</td>\n",
       "      <td>Y</td>\n",
       "    </tr>\n",
       "    <tr>\n",
       "      <th>611</th>\n",
       "      <td>Yes</td>\n",
       "      <td>Graduate</td>\n",
       "      <td>8072</td>\n",
       "      <td>1.0</td>\n",
       "      <td>Y</td>\n",
       "    </tr>\n",
       "    <tr>\n",
       "      <th>612</th>\n",
       "      <td>Yes</td>\n",
       "      <td>Graduate</td>\n",
       "      <td>7583</td>\n",
       "      <td>1.0</td>\n",
       "      <td>Y</td>\n",
       "    </tr>\n",
       "    <tr>\n",
       "      <th>613</th>\n",
       "      <td>No</td>\n",
       "      <td>Graduate</td>\n",
       "      <td>4583</td>\n",
       "      <td>0.0</td>\n",
       "      <td>N</td>\n",
       "    </tr>\n",
       "  </tbody>\n",
       "</table>\n",
       "<p>614 rows × 5 columns</p>\n",
       "</div>"
      ],
      "text/plain": [
       "    Married     Education  ApplicantIncome  Credit_History Loan_Status\n",
       "0        No      Graduate             5849             1.0           Y\n",
       "1       Yes      Graduate             4583             1.0           N\n",
       "2       Yes      Graduate             3000             1.0           Y\n",
       "3       Yes  Not Graduate             2583             1.0           Y\n",
       "4        No      Graduate             6000             1.0           Y\n",
       "..      ...           ...              ...             ...         ...\n",
       "609      No      Graduate             2900             1.0           Y\n",
       "610     Yes      Graduate             4106             1.0           Y\n",
       "611     Yes      Graduate             8072             1.0           Y\n",
       "612     Yes      Graduate             7583             1.0           Y\n",
       "613      No      Graduate             4583             0.0           N\n",
       "\n",
       "[614 rows x 5 columns]"
      ]
     },
     "execution_count": 75,
     "metadata": {},
     "output_type": "execute_result"
    }
   ],
   "source": [
    "#drop the unused columns in the loan_data dataset: Loan_ID, Gender, Dependents, Self_Employed, CoapplicantIncome, LoanAmount, Loan_Amount_Term, and Property_Area\n",
    "\n",
    "loan_data = loan_data.drop(columns=['Loan_ID', 'Gender', 'Dependents', 'Self_Employed', 'CoapplicantIncome', 'LoanAmount', 'Loan_Amount_Term', 'Property_Area'])\n",
    "loan_data\n"
   ]
  },
  {
   "cell_type": "code",
   "execution_count": 76,
   "metadata": {},
   "outputs": [
    {
     "data": {
      "text/plain": [
       "Index(['age', 'job', 'marital', 'education', 'balance', 'loan'], dtype='object')"
      ]
     },
     "execution_count": 76,
     "metadata": {},
     "output_type": "execute_result"
    }
   ],
   "source": [
    "#drop the unused columns in the data_copy dataset: default, housing, contact, day, month, duration, campaign, pdays, previous, poutcome, and target\n",
    "data_copy = data_copy.drop(columns=['default', 'housing','contact', 'day', 'month', 'duration', 'campaign', 'pdays', 'previous', 'poutcome', 'target'])\n",
    "data_copy.columns\n"
   ]
  },
  {
   "cell_type": "code",
   "execution_count": 77,
   "metadata": {},
   "outputs": [],
   "source": [
    "\n",
    "#replace married to yes to match the Married column in the loan dataset\n",
    "data_copy.loc[data_copy[\"marital\"] == \"married\", \"marital\"] = \"Yes\"\n",
    "#replace single and divorced to no to match the Married column in the loan dataset\n",
    "data_copy.loc[(data_copy[\"marital\"] == \"single\") | (data_copy[\"marital\"] == \"divorced\"), \"marital\"] = \"No\"\n",
    "\n",
    "#replace tertiary in the education column to graduate to match the education column in the loan dataset\n",
    "data_copy.loc[data_copy[\"education\"] == \"tertiary\", \"education\"] = \"Graduate\"\n",
    "#replace all the Not Graduate values in the education column to not graduate to match the education column in the loan dataset\n",
    "data_copy.loc[data_copy[\"education\"] != \"Graduate\", \"education\"] = \"Not Graduate\"\n",
    "\n",
    "#replace the loan value in the education column to 1 if the customer haven't had a loan before in order to match the Credit_History column in the loan dataset\n",
    "data_copy.loc[data_copy[\"loan\"] == \"yes\", \"loan\"] = 1\n",
    "#replace the loan value in the education column to 0 if the customer had have a loan before in order to match the Credit_History column in the loan dataset\n",
    "data_copy.loc[data_copy[\"loan\"] == \"no\", \"loan\"] = 0\n",
    "\n"
   ]
  },
  {
   "cell_type": "code",
   "execution_count": 78,
   "metadata": {},
   "outputs": [
    {
     "data": {
      "text/plain": [
       "False    8060\n",
       "True      197\n",
       "Name: balance, dtype: int64"
      ]
     },
     "execution_count": 78,
     "metadata": {},
     "output_type": "execute_result"
    }
   ],
   "source": [
    "#count the matching values between data_copy and loan_data for the balance and ApplicantIncome columns\n",
    "data_copy['balance'].isin(loan_data['ApplicantIncome']).value_counts()"
   ]
  },
  {
   "cell_type": "code",
   "execution_count": 79,
   "metadata": {},
   "outputs": [
    {
     "data": {
      "text/plain": [
       "True    8257\n",
       "Name: marital, dtype: int64"
      ]
     },
     "execution_count": 79,
     "metadata": {},
     "output_type": "execute_result"
    }
   ],
   "source": [
    "#count the matching values between data_copy and loan_data for the marital and ApplicantIncome columns\n",
    "data_copy['marital'].isin(loan_data['Married']).value_counts()"
   ]
  },
  {
   "cell_type": "code",
   "execution_count": 80,
   "metadata": {},
   "outputs": [
    {
     "data": {
      "text/plain": [
       "True    8257\n",
       "Name: education, dtype: int64"
      ]
     },
     "execution_count": 80,
     "metadata": {},
     "output_type": "execute_result"
    }
   ],
   "source": [
    "#count the matching values between data_copy and loan_data for the education and Education columns\n",
    "data_copy['education'].isin(loan_data['Education']).value_counts()"
   ]
  },
  {
   "cell_type": "code",
   "execution_count": 81,
   "metadata": {},
   "outputs": [
    {
     "data": {
      "text/html": [
       "<div>\n",
       "<style scoped>\n",
       "    .dataframe tbody tr th:only-of-type {\n",
       "        vertical-align: middle;\n",
       "    }\n",
       "\n",
       "    .dataframe tbody tr th {\n",
       "        vertical-align: top;\n",
       "    }\n",
       "\n",
       "    .dataframe thead th {\n",
       "        text-align: right;\n",
       "    }\n",
       "</style>\n",
       "<table border=\"1\" class=\"dataframe\">\n",
       "  <thead>\n",
       "    <tr style=\"text-align: right;\">\n",
       "      <th></th>\n",
       "      <th>age</th>\n",
       "      <th>job</th>\n",
       "      <th>marital</th>\n",
       "      <th>education</th>\n",
       "      <th>balance</th>\n",
       "      <th>loan</th>\n",
       "    </tr>\n",
       "  </thead>\n",
       "  <tbody>\n",
       "    <tr>\n",
       "      <th>24060</th>\n",
       "      <td>33</td>\n",
       "      <td>admin.</td>\n",
       "      <td>Yes</td>\n",
       "      <td>Graduate</td>\n",
       "      <td>882</td>\n",
       "      <td>0</td>\n",
       "    </tr>\n",
       "    <tr>\n",
       "      <th>24062</th>\n",
       "      <td>42</td>\n",
       "      <td>admin.</td>\n",
       "      <td>No</td>\n",
       "      <td>Not Graduate</td>\n",
       "      <td>-247</td>\n",
       "      <td>1</td>\n",
       "    </tr>\n",
       "    <tr>\n",
       "      <th>24064</th>\n",
       "      <td>33</td>\n",
       "      <td>services</td>\n",
       "      <td>Yes</td>\n",
       "      <td>Not Graduate</td>\n",
       "      <td>3444</td>\n",
       "      <td>0</td>\n",
       "    </tr>\n",
       "    <tr>\n",
       "      <th>24072</th>\n",
       "      <td>36</td>\n",
       "      <td>management</td>\n",
       "      <td>Yes</td>\n",
       "      <td>Graduate</td>\n",
       "      <td>2415</td>\n",
       "      <td>0</td>\n",
       "    </tr>\n",
       "    <tr>\n",
       "      <th>24077</th>\n",
       "      <td>36</td>\n",
       "      <td>management</td>\n",
       "      <td>Yes</td>\n",
       "      <td>Graduate</td>\n",
       "      <td>0</td>\n",
       "      <td>0</td>\n",
       "    </tr>\n",
       "    <tr>\n",
       "      <th>...</th>\n",
       "      <td>...</td>\n",
       "      <td>...</td>\n",
       "      <td>...</td>\n",
       "      <td>...</td>\n",
       "      <td>...</td>\n",
       "      <td>...</td>\n",
       "    </tr>\n",
       "    <tr>\n",
       "      <th>45199</th>\n",
       "      <td>34</td>\n",
       "      <td>blue-collar</td>\n",
       "      <td>No</td>\n",
       "      <td>Not Graduate</td>\n",
       "      <td>1475</td>\n",
       "      <td>0</td>\n",
       "    </tr>\n",
       "    <tr>\n",
       "      <th>45201</th>\n",
       "      <td>53</td>\n",
       "      <td>management</td>\n",
       "      <td>Yes</td>\n",
       "      <td>Graduate</td>\n",
       "      <td>583</td>\n",
       "      <td>0</td>\n",
       "    </tr>\n",
       "    <tr>\n",
       "      <th>45204</th>\n",
       "      <td>73</td>\n",
       "      <td>retired</td>\n",
       "      <td>Yes</td>\n",
       "      <td>Not Graduate</td>\n",
       "      <td>2850</td>\n",
       "      <td>0</td>\n",
       "    </tr>\n",
       "    <tr>\n",
       "      <th>45208</th>\n",
       "      <td>72</td>\n",
       "      <td>retired</td>\n",
       "      <td>Yes</td>\n",
       "      <td>Not Graduate</td>\n",
       "      <td>5715</td>\n",
       "      <td>0</td>\n",
       "    </tr>\n",
       "    <tr>\n",
       "      <th>45210</th>\n",
       "      <td>37</td>\n",
       "      <td>entrepreneur</td>\n",
       "      <td>Yes</td>\n",
       "      <td>Not Graduate</td>\n",
       "      <td>2971</td>\n",
       "      <td>0</td>\n",
       "    </tr>\n",
       "  </tbody>\n",
       "</table>\n",
       "<p>8257 rows × 6 columns</p>\n",
       "</div>"
      ],
      "text/plain": [
       "       age           job marital     education  balance loan\n",
       "24060   33        admin.     Yes      Graduate      882    0\n",
       "24062   42        admin.      No  Not Graduate     -247    1\n",
       "24064   33      services     Yes  Not Graduate     3444    0\n",
       "24072   36    management     Yes      Graduate     2415    0\n",
       "24077   36    management     Yes      Graduate        0    0\n",
       "...    ...           ...     ...           ...      ...  ...\n",
       "45199   34   blue-collar      No  Not Graduate     1475    0\n",
       "45201   53    management     Yes      Graduate      583    0\n",
       "45204   73       retired     Yes  Not Graduate     2850    0\n",
       "45208   72       retired     Yes  Not Graduate     5715    0\n",
       "45210   37  entrepreneur     Yes  Not Graduate     2971    0\n",
       "\n",
       "[8257 rows x 6 columns]"
      ]
     },
     "execution_count": 81,
     "metadata": {},
     "output_type": "execute_result"
    }
   ],
   "source": [
    "data_copy"
   ]
  },
  {
   "cell_type": "code",
   "execution_count": 82,
   "metadata": {},
   "outputs": [
    {
     "data": {
      "text/plain": [
       "True    8257\n",
       "Name: loan, dtype: int64"
      ]
     },
     "execution_count": 82,
     "metadata": {},
     "output_type": "execute_result"
    }
   ],
   "source": [
    "#count the matching values between data_copy and loan_data for the loan and Credit_History columns\n",
    "data_copy['loan'].isin(loan_data['Credit_History']).value_counts()"
   ]
  },
  {
   "cell_type": "code",
   "execution_count": 83,
   "metadata": {},
   "outputs": [],
   "source": [
    "#rename the columns in the loan dataset to match the column names in the copied dataset\n",
    "loan_data.columns = ['marital', 'education', 'balance', 'loan', 'Loan_Status']\n"
   ]
  },
  {
   "cell_type": "code",
   "execution_count": 84,
   "metadata": {},
   "outputs": [
    {
     "data": {
      "text/html": [
       "<div>\n",
       "<style scoped>\n",
       "    .dataframe tbody tr th:only-of-type {\n",
       "        vertical-align: middle;\n",
       "    }\n",
       "\n",
       "    .dataframe tbody tr th {\n",
       "        vertical-align: top;\n",
       "    }\n",
       "\n",
       "    .dataframe thead th {\n",
       "        text-align: right;\n",
       "    }\n",
       "</style>\n",
       "<table border=\"1\" class=\"dataframe\">\n",
       "  <thead>\n",
       "    <tr style=\"text-align: right;\">\n",
       "      <th></th>\n",
       "      <th>marital</th>\n",
       "      <th>education</th>\n",
       "      <th>balance</th>\n",
       "      <th>loan</th>\n",
       "      <th>Loan_Status</th>\n",
       "    </tr>\n",
       "  </thead>\n",
       "  <tbody>\n",
       "    <tr>\n",
       "      <th>0</th>\n",
       "      <td>No</td>\n",
       "      <td>Graduate</td>\n",
       "      <td>5849</td>\n",
       "      <td>1.0</td>\n",
       "      <td>Y</td>\n",
       "    </tr>\n",
       "    <tr>\n",
       "      <th>1</th>\n",
       "      <td>Yes</td>\n",
       "      <td>Graduate</td>\n",
       "      <td>4583</td>\n",
       "      <td>1.0</td>\n",
       "      <td>N</td>\n",
       "    </tr>\n",
       "    <tr>\n",
       "      <th>2</th>\n",
       "      <td>Yes</td>\n",
       "      <td>Graduate</td>\n",
       "      <td>3000</td>\n",
       "      <td>1.0</td>\n",
       "      <td>Y</td>\n",
       "    </tr>\n",
       "    <tr>\n",
       "      <th>3</th>\n",
       "      <td>Yes</td>\n",
       "      <td>Not Graduate</td>\n",
       "      <td>2583</td>\n",
       "      <td>1.0</td>\n",
       "      <td>Y</td>\n",
       "    </tr>\n",
       "    <tr>\n",
       "      <th>4</th>\n",
       "      <td>No</td>\n",
       "      <td>Graduate</td>\n",
       "      <td>6000</td>\n",
       "      <td>1.0</td>\n",
       "      <td>Y</td>\n",
       "    </tr>\n",
       "    <tr>\n",
       "      <th>...</th>\n",
       "      <td>...</td>\n",
       "      <td>...</td>\n",
       "      <td>...</td>\n",
       "      <td>...</td>\n",
       "      <td>...</td>\n",
       "    </tr>\n",
       "    <tr>\n",
       "      <th>609</th>\n",
       "      <td>No</td>\n",
       "      <td>Graduate</td>\n",
       "      <td>2900</td>\n",
       "      <td>1.0</td>\n",
       "      <td>Y</td>\n",
       "    </tr>\n",
       "    <tr>\n",
       "      <th>610</th>\n",
       "      <td>Yes</td>\n",
       "      <td>Graduate</td>\n",
       "      <td>4106</td>\n",
       "      <td>1.0</td>\n",
       "      <td>Y</td>\n",
       "    </tr>\n",
       "    <tr>\n",
       "      <th>611</th>\n",
       "      <td>Yes</td>\n",
       "      <td>Graduate</td>\n",
       "      <td>8072</td>\n",
       "      <td>1.0</td>\n",
       "      <td>Y</td>\n",
       "    </tr>\n",
       "    <tr>\n",
       "      <th>612</th>\n",
       "      <td>Yes</td>\n",
       "      <td>Graduate</td>\n",
       "      <td>7583</td>\n",
       "      <td>1.0</td>\n",
       "      <td>Y</td>\n",
       "    </tr>\n",
       "    <tr>\n",
       "      <th>613</th>\n",
       "      <td>No</td>\n",
       "      <td>Graduate</td>\n",
       "      <td>4583</td>\n",
       "      <td>0.0</td>\n",
       "      <td>N</td>\n",
       "    </tr>\n",
       "  </tbody>\n",
       "</table>\n",
       "<p>614 rows × 5 columns</p>\n",
       "</div>"
      ],
      "text/plain": [
       "    marital     education  balance  loan Loan_Status\n",
       "0        No      Graduate     5849   1.0           Y\n",
       "1       Yes      Graduate     4583   1.0           N\n",
       "2       Yes      Graduate     3000   1.0           Y\n",
       "3       Yes  Not Graduate     2583   1.0           Y\n",
       "4        No      Graduate     6000   1.0           Y\n",
       "..      ...           ...      ...   ...         ...\n",
       "609      No      Graduate     2900   1.0           Y\n",
       "610     Yes      Graduate     4106   1.0           Y\n",
       "611     Yes      Graduate     8072   1.0           Y\n",
       "612     Yes      Graduate     7583   1.0           Y\n",
       "613      No      Graduate     4583   0.0           N\n",
       "\n",
       "[614 rows x 5 columns]"
      ]
     },
     "execution_count": 84,
     "metadata": {},
     "output_type": "execute_result"
    }
   ],
   "source": [
    "loan_data"
   ]
  },
  {
   "cell_type": "code",
   "execution_count": 85,
   "metadata": {},
   "outputs": [],
   "source": [
    "# merge and combine the new dataset (loan dataset) to the original dataset (bank dataset) using common columns\n",
    "# merge the loan_data dataset to the data_copy dataset based on 4 columns marital, education, balance, and loan\n",
    "df_merged = pd.merge(data_copy, loan_data, on=['marital', 'education', 'balance', 'loan'], how='left')\n"
   ]
  },
  {
   "cell_type": "code",
   "execution_count": 86,
   "metadata": {},
   "outputs": [
    {
     "data": {
      "text/plain": [
       "array([nan, 'Y', 'N'], dtype=object)"
      ]
     },
     "execution_count": 86,
     "metadata": {},
     "output_type": "execute_result"
    }
   ],
   "source": [
    "# check the unique values in the merged dataset\n",
    "df_merged.Loan_Status.unique()"
   ]
  },
  {
   "cell_type": "code",
   "execution_count": 87,
   "metadata": {
    "scrolled": true
   },
   "outputs": [
    {
     "data": {
      "text/html": [
       "<div>\n",
       "<style scoped>\n",
       "    .dataframe tbody tr th:only-of-type {\n",
       "        vertical-align: middle;\n",
       "    }\n",
       "\n",
       "    .dataframe tbody tr th {\n",
       "        vertical-align: top;\n",
       "    }\n",
       "\n",
       "    .dataframe thead th {\n",
       "        text-align: right;\n",
       "    }\n",
       "</style>\n",
       "<table border=\"1\" class=\"dataframe\">\n",
       "  <thead>\n",
       "    <tr style=\"text-align: right;\">\n",
       "      <th></th>\n",
       "      <th>age</th>\n",
       "      <th>job</th>\n",
       "      <th>marital</th>\n",
       "      <th>education</th>\n",
       "      <th>balance</th>\n",
       "      <th>loan</th>\n",
       "      <th>Loan_Status</th>\n",
       "    </tr>\n",
       "  </thead>\n",
       "  <tbody>\n",
       "    <tr>\n",
       "      <th>179</th>\n",
       "      <td>46</td>\n",
       "      <td>management</td>\n",
       "      <td>Yes</td>\n",
       "      <td>Graduate</td>\n",
       "      <td>4301</td>\n",
       "      <td>1</td>\n",
       "      <td>Y</td>\n",
       "    </tr>\n",
       "    <tr>\n",
       "      <th>359</th>\n",
       "      <td>55</td>\n",
       "      <td>blue-collar</td>\n",
       "      <td>No</td>\n",
       "      <td>Not Graduate</td>\n",
       "      <td>4053</td>\n",
       "      <td>0</td>\n",
       "      <td>N</td>\n",
       "    </tr>\n",
       "    <tr>\n",
       "      <th>681</th>\n",
       "      <td>55</td>\n",
       "      <td>entrepreneur</td>\n",
       "      <td>Yes</td>\n",
       "      <td>Graduate</td>\n",
       "      <td>3459</td>\n",
       "      <td>1</td>\n",
       "      <td>Y</td>\n",
       "    </tr>\n",
       "    <tr>\n",
       "      <th>1566</th>\n",
       "      <td>52</td>\n",
       "      <td>admin.</td>\n",
       "      <td>Yes</td>\n",
       "      <td>Not Graduate</td>\n",
       "      <td>2281</td>\n",
       "      <td>1</td>\n",
       "      <td>N</td>\n",
       "    </tr>\n",
       "    <tr>\n",
       "      <th>2383</th>\n",
       "      <td>34</td>\n",
       "      <td>services</td>\n",
       "      <td>Yes</td>\n",
       "      <td>Not Graduate</td>\n",
       "      <td>210</td>\n",
       "      <td>1</td>\n",
       "      <td>Y</td>\n",
       "    </tr>\n",
       "    <tr>\n",
       "      <th>2440</th>\n",
       "      <td>33</td>\n",
       "      <td>blue-collar</td>\n",
       "      <td>No</td>\n",
       "      <td>Not Graduate</td>\n",
       "      <td>3975</td>\n",
       "      <td>1</td>\n",
       "      <td>Y</td>\n",
       "    </tr>\n",
       "    <tr>\n",
       "      <th>2955</th>\n",
       "      <td>36</td>\n",
       "      <td>management</td>\n",
       "      <td>Yes</td>\n",
       "      <td>Graduate</td>\n",
       "      <td>2957</td>\n",
       "      <td>1</td>\n",
       "      <td>Y</td>\n",
       "    </tr>\n",
       "    <tr>\n",
       "      <th>3593</th>\n",
       "      <td>40</td>\n",
       "      <td>admin.</td>\n",
       "      <td>No</td>\n",
       "      <td>Not Graduate</td>\n",
       "      <td>2679</td>\n",
       "      <td>1</td>\n",
       "      <td>Y</td>\n",
       "    </tr>\n",
       "    <tr>\n",
       "      <th>3611</th>\n",
       "      <td>49</td>\n",
       "      <td>services</td>\n",
       "      <td>Yes</td>\n",
       "      <td>Not Graduate</td>\n",
       "      <td>4300</td>\n",
       "      <td>1</td>\n",
       "      <td>Y</td>\n",
       "    </tr>\n",
       "    <tr>\n",
       "      <th>3713</th>\n",
       "      <td>45</td>\n",
       "      <td>management</td>\n",
       "      <td>No</td>\n",
       "      <td>Graduate</td>\n",
       "      <td>2237</td>\n",
       "      <td>0</td>\n",
       "      <td>N</td>\n",
       "    </tr>\n",
       "    <tr>\n",
       "      <th>4080</th>\n",
       "      <td>34</td>\n",
       "      <td>technician</td>\n",
       "      <td>Yes</td>\n",
       "      <td>Not Graduate</td>\n",
       "      <td>210</td>\n",
       "      <td>1</td>\n",
       "      <td>Y</td>\n",
       "    </tr>\n",
       "    <tr>\n",
       "      <th>4279</th>\n",
       "      <td>36</td>\n",
       "      <td>blue-collar</td>\n",
       "      <td>Yes</td>\n",
       "      <td>Not Graduate</td>\n",
       "      <td>1993</td>\n",
       "      <td>1</td>\n",
       "      <td>Y</td>\n",
       "    </tr>\n",
       "    <tr>\n",
       "      <th>5419</th>\n",
       "      <td>32</td>\n",
       "      <td>management</td>\n",
       "      <td>Yes</td>\n",
       "      <td>Graduate</td>\n",
       "      <td>4945</td>\n",
       "      <td>0</td>\n",
       "      <td>N</td>\n",
       "    </tr>\n",
       "    <tr>\n",
       "      <th>6119</th>\n",
       "      <td>47</td>\n",
       "      <td>technician</td>\n",
       "      <td>Yes</td>\n",
       "      <td>Not Graduate</td>\n",
       "      <td>2149</td>\n",
       "      <td>0</td>\n",
       "      <td>N</td>\n",
       "    </tr>\n",
       "    <tr>\n",
       "      <th>6342</th>\n",
       "      <td>71</td>\n",
       "      <td>retired</td>\n",
       "      <td>Yes</td>\n",
       "      <td>Not Graduate</td>\n",
       "      <td>2600</td>\n",
       "      <td>0</td>\n",
       "      <td>N</td>\n",
       "    </tr>\n",
       "    <tr>\n",
       "      <th>6412</th>\n",
       "      <td>66</td>\n",
       "      <td>management</td>\n",
       "      <td>Yes</td>\n",
       "      <td>Not Graduate</td>\n",
       "      <td>2149</td>\n",
       "      <td>0</td>\n",
       "      <td>N</td>\n",
       "    </tr>\n",
       "    <tr>\n",
       "      <th>6682</th>\n",
       "      <td>72</td>\n",
       "      <td>retired</td>\n",
       "      <td>Yes</td>\n",
       "      <td>Not Graduate</td>\n",
       "      <td>2600</td>\n",
       "      <td>0</td>\n",
       "      <td>N</td>\n",
       "    </tr>\n",
       "    <tr>\n",
       "      <th>6902</th>\n",
       "      <td>66</td>\n",
       "      <td>management</td>\n",
       "      <td>Yes</td>\n",
       "      <td>Not Graduate</td>\n",
       "      <td>2149</td>\n",
       "      <td>0</td>\n",
       "      <td>N</td>\n",
       "    </tr>\n",
       "    <tr>\n",
       "      <th>7345</th>\n",
       "      <td>66</td>\n",
       "      <td>management</td>\n",
       "      <td>Yes</td>\n",
       "      <td>Not Graduate</td>\n",
       "      <td>2149</td>\n",
       "      <td>0</td>\n",
       "      <td>N</td>\n",
       "    </tr>\n",
       "  </tbody>\n",
       "</table>\n",
       "</div>"
      ],
      "text/plain": [
       "      age           job marital     education  balance loan Loan_Status\n",
       "179    46    management     Yes      Graduate     4301    1           Y\n",
       "359    55   blue-collar      No  Not Graduate     4053    0           N\n",
       "681    55  entrepreneur     Yes      Graduate     3459    1           Y\n",
       "1566   52        admin.     Yes  Not Graduate     2281    1           N\n",
       "2383   34      services     Yes  Not Graduate      210    1           Y\n",
       "2440   33   blue-collar      No  Not Graduate     3975    1           Y\n",
       "2955   36    management     Yes      Graduate     2957    1           Y\n",
       "3593   40        admin.      No  Not Graduate     2679    1           Y\n",
       "3611   49      services     Yes  Not Graduate     4300    1           Y\n",
       "3713   45    management      No      Graduate     2237    0           N\n",
       "4080   34    technician     Yes  Not Graduate      210    1           Y\n",
       "4279   36   blue-collar     Yes  Not Graduate     1993    1           Y\n",
       "5419   32    management     Yes      Graduate     4945    0           N\n",
       "6119   47    technician     Yes  Not Graduate     2149    0           N\n",
       "6342   71       retired     Yes  Not Graduate     2600    0           N\n",
       "6412   66    management     Yes  Not Graduate     2149    0           N\n",
       "6682   72       retired     Yes  Not Graduate     2600    0           N\n",
       "6902   66    management     Yes  Not Graduate     2149    0           N\n",
       "7345   66    management     Yes  Not Graduate     2149    0           N"
      ]
     },
     "execution_count": 87,
     "metadata": {},
     "output_type": "execute_result"
    }
   ],
   "source": [
    "# drop rows with any nan values\n",
    "df_merged = df_merged.dropna(axis=0, how='any')\n",
    "df_merged"
   ]
  },
  {
   "cell_type": "code",
   "execution_count": 88,
   "metadata": {},
   "outputs": [
    {
     "data": {
      "text/plain": [
       "age             int64\n",
       "job            object\n",
       "marital        object\n",
       "education      object\n",
       "balance         int64\n",
       "loan           object\n",
       "Loan_Status    object\n",
       "dtype: object"
      ]
     },
     "execution_count": 88,
     "metadata": {},
     "output_type": "execute_result"
    }
   ],
   "source": [
    "#get the data type of each column\n",
    "df_merged.dtypes"
   ]
  },
  {
   "cell_type": "code",
   "execution_count": 89,
   "metadata": {},
   "outputs": [],
   "source": [
    "#use LabelEncoder to convert categorical features to numeric\n",
    "#all the object column names in order to use them with LabelEncoder\n",
    "CategoricalHeaders = ['job', 'marital', 'education', 'loan', 'Loan_Status']\n",
    "lable = LabelEncoder()\n",
    "#LabelEncoder is used to convert all the categorical features to numeric:\n",
    "df_merged[CategoricalHeaders] = df_merged[CategoricalHeaders].apply(lambda col: lable.fit_transform(col))\n"
   ]
  },
  {
   "cell_type": "code",
   "execution_count": 90,
   "metadata": {},
   "outputs": [
    {
     "data": {
      "text/plain": [
       "age            int64\n",
       "job            int64\n",
       "marital        int64\n",
       "education      int64\n",
       "balance        int64\n",
       "loan           int64\n",
       "Loan_Status    int64\n",
       "dtype: object"
      ]
     },
     "execution_count": 90,
     "metadata": {},
     "output_type": "execute_result"
    }
   ],
   "source": [
    "#get the data type of each column\n",
    "df_merged.dtypes"
   ]
  },
  {
   "cell_type": "code",
   "execution_count": 91,
   "metadata": {},
   "outputs": [],
   "source": [
    "# Split the data: 80% training : 20% test set\n",
    "#create a copy of the dataset df_merged\n",
    "train_dfs = df_merged.copy()\n",
    "#remove the target column from the copied dataset\n",
    "train_dfs = train_dfs.drop(columns=['Loan_Status'])\n",
    "#store the target column in targetLabels\n",
    "targetLabels = df_merged['Loan_Status']\n",
    "#split the data into x tarning and testing and y testing and traning, traing set = 80% and testing set = 20% \n",
    "instances_train, instances_test, target_train, target_test = train_test_split(train_dfs, targetLabels, test_size=0.2, random_state=0, shuffle=True)\n"
   ]
  },
  {
   "cell_type": "code",
   "execution_count": 92,
   "metadata": {},
   "outputs": [
    {
     "name": "stdout",
     "output_type": "stream",
     "text": [
      "Decision Tree Classifier accuracy on training set= 1.00\n",
      "Decision Tree Classifier accuracy on testing set= 1.00\n"
     ]
    }
   ],
   "source": [
    "#Decision Tree Classifier \n",
    "#Getting the maximum depth from the previous step = 8\n",
    "#create a Decision Tree Classifier model with a max_depth (maximum depth of the tree) = 8\n",
    "decTreeModel = DecisionTreeClassifier(max_depth=8)\n",
    "#fit the instances_train and target_train into the Decision Tree Classifier model using fit()\n",
    "decTreeModel.fit(instances_train.values, target_train.values)\n",
    "#Decision Tree Classifier accuracy using traning set\n",
    "print('Decision Tree Classifier accuracy on training set= {:.2f}'.format(decTreeModel.score(instances_train.values, target_train)))\n",
    "#Decision Tree Classifier accuracy using testing set\n",
    "print('Decision Tree Classifier accuracy on testing set= {:.2f}'.format(decTreeModel.score(instances_test.values, target_test)))\n"
   ]
  },
  {
   "cell_type": "code",
   "execution_count": 93,
   "metadata": {},
   "outputs": [
    {
     "data": {
      "text/plain": [
       "array([  46,    3,    1,    0, 4301,    1,    1])"
      ]
     },
     "execution_count": 93,
     "metadata": {},
     "output_type": "execute_result"
    }
   ],
   "source": [
    "#get the data for the 1st row in the df_merged dataset\n",
    "df_merged.iloc[0].values "
   ]
  },
  {
   "cell_type": "code",
   "execution_count": 94,
   "metadata": {},
   "outputs": [
    {
     "data": {
      "text/plain": [
       "array([1])"
      ]
     },
     "execution_count": 94,
     "metadata": {},
     "output_type": "execute_result"
    }
   ],
   "source": [
    "#predict the loan eligibility for the 1st row\n",
    "decTreeModel.predict([[46, 3, 1, 0, 4301, 1]]) \n",
    "#predicted result is 1 = yes"
   ]
  },
  {
   "cell_type": "code",
   "execution_count": 95,
   "metadata": {},
   "outputs": [
    {
     "data": {
      "text/plain": [
       "array([  52,    0,    1,    1, 2281,    1,    0])"
      ]
     },
     "execution_count": 95,
     "metadata": {},
     "output_type": "execute_result"
    }
   ],
   "source": [
    "#get the data for the 4th row in the df_merged dataset\n",
    "df_merged.iloc[3].values "
   ]
  },
  {
   "cell_type": "code",
   "execution_count": 96,
   "metadata": {},
   "outputs": [
    {
     "data": {
      "text/plain": [
       "array([0])"
      ]
     },
     "execution_count": 96,
     "metadata": {},
     "output_type": "execute_result"
    }
   ],
   "source": [
    "#predict the loan eligibility for the 4th row\n",
    "decTreeModel.predict([[52, 0, 1, 1, 2281, 1]]) \n",
    "\n",
    "#predicted result is 0 = no"
   ]
  },
  {
   "cell_type": "code",
   "execution_count": 97,
   "metadata": {},
   "outputs": [
    {
     "name": "stdout",
     "output_type": "stream",
     "text": [
      "[[2 0]\n",
      " [0 2]]\n"
     ]
    },
    {
     "data": {
      "image/png": "[encoded data removed]",
      "text/plain": [
       "<Figure size 288x288 with 2 Axes>"
      ]
     },
     "metadata": {
      "needs_background": "light"
     },
     "output_type": "display_data"
    }
   ],
   "source": [
    "# Confusion Matrix: to evaluate the accuracy of the Decision Tree Classifier \n",
    "\n",
    "#predict the target values of the testing data by passing instances_test to the Decision Tree Classifier model\n",
    "predictions = decTreeModel.predict(instances_test.values)\n",
    "\n",
    "#confusion_matrix() is used to calculate the confusion matrix to evaluate the accuracy of a classification\n",
    "print(confusion_matrix(target_test, predictions))\n",
    "\n",
    "#plot a Confusion Matrix\n",
    "ConfusionMatrix = confusion_matrix(target_test, predictions)\n",
    "#pass the ConfusionMatrix to matshow to show an array as a matrix in a new figure window\n",
    "pl.matshow(ConfusionMatrix)\n",
    "#add  a colorbar to a plot\n",
    "pl.colorbar()\n",
    "#display the Confusion Matrix\n",
    "pl.show()"
   ]
  },
  {
   "cell_type": "code",
   "execution_count": 98,
   "metadata": {},
   "outputs": [
    {
     "data": {
      "image/png": "[encoded data removed]",
      "text/plain": [
       "<Figure size 432x288 with 2 Axes>"
      ]
     },
     "metadata": {
      "needs_background": "light"
     },
     "output_type": "display_data"
    }
   ],
   "source": [
    "#basic linear correlations\n",
    "sns.heatmap(df_merged._get_numeric_data().astype(float).corr(), square=True, cmap='RdBu_r', linewidths=.5, annot=True, fmt='.2f').figure.tight_layout()\n",
    "#display all figures\n",
    "plt.show()"
   ]
  },
  {
   "cell_type": "code",
   "execution_count": 99,
   "metadata": {},
   "outputs": [],
   "source": [
    "#creat a new csv file called df_merged \n",
    "df_merged.to_csv(\"loan.csv\", encoding='utf-8', index = None)\n"
   ]
  },
  {
   "cell_type": "markdown",
   "metadata": {},
   "source": [
    "# Section 3"
   ]
  },
  {
   "cell_type": "markdown",
   "metadata": {},
   "source": [
    "# Differential Privacy that predicts the marketing campaign outcome and loan eligibility"
   ]
  },
  {
   "cell_type": "markdown",
   "metadata": {},
   "source": [
    "For the 3rd section the following steps are required:\n",
    "\n",
    "1. Predict the outcome of both datasets before adding noise.\n",
    "2. Drop the target column from both bank dataset and loan dataset. \n",
    "3. Add noise to both datasets. \n",
    "4. Return the target columns to the bank dataset and loan dataset.  \n",
    "5. Predict the outcome for both the bank dataset and loan dataset."
   ]
  },
  {
   "cell_type": "code",
   "execution_count": 100,
   "metadata": {},
   "outputs": [
    {
     "data": {
      "text/html": [
       "<div>\n",
       "<style scoped>\n",
       "    .dataframe tbody tr th:only-of-type {\n",
       "        vertical-align: middle;\n",
       "    }\n",
       "\n",
       "    .dataframe tbody tr th {\n",
       "        vertical-align: top;\n",
       "    }\n",
       "\n",
       "    .dataframe thead th {\n",
       "        text-align: right;\n",
       "    }\n",
       "</style>\n",
       "<table border=\"1\" class=\"dataframe\">\n",
       "  <thead>\n",
       "    <tr style=\"text-align: right;\">\n",
       "      <th></th>\n",
       "      <th>age</th>\n",
       "      <th>job</th>\n",
       "      <th>marital</th>\n",
       "      <th>education</th>\n",
       "      <th>balance</th>\n",
       "      <th>loan</th>\n",
       "      <th>Loan_Status</th>\n",
       "    </tr>\n",
       "  </thead>\n",
       "  <tbody>\n",
       "    <tr>\n",
       "      <th>0</th>\n",
       "      <td>46</td>\n",
       "      <td>3</td>\n",
       "      <td>1</td>\n",
       "      <td>0</td>\n",
       "      <td>4301</td>\n",
       "      <td>1</td>\n",
       "      <td>1</td>\n",
       "    </tr>\n",
       "    <tr>\n",
       "      <th>1</th>\n",
       "      <td>55</td>\n",
       "      <td>1</td>\n",
       "      <td>0</td>\n",
       "      <td>1</td>\n",
       "      <td>4053</td>\n",
       "      <td>0</td>\n",
       "      <td>0</td>\n",
       "    </tr>\n",
       "    <tr>\n",
       "      <th>2</th>\n",
       "      <td>55</td>\n",
       "      <td>2</td>\n",
       "      <td>1</td>\n",
       "      <td>0</td>\n",
       "      <td>3459</td>\n",
       "      <td>1</td>\n",
       "      <td>1</td>\n",
       "    </tr>\n",
       "    <tr>\n",
       "      <th>3</th>\n",
       "      <td>52</td>\n",
       "      <td>0</td>\n",
       "      <td>1</td>\n",
       "      <td>1</td>\n",
       "      <td>2281</td>\n",
       "      <td>1</td>\n",
       "      <td>0</td>\n",
       "    </tr>\n",
       "    <tr>\n",
       "      <th>4</th>\n",
       "      <td>34</td>\n",
       "      <td>5</td>\n",
       "      <td>1</td>\n",
       "      <td>1</td>\n",
       "      <td>210</td>\n",
       "      <td>1</td>\n",
       "      <td>1</td>\n",
       "    </tr>\n",
       "  </tbody>\n",
       "</table>\n",
       "</div>"
      ],
      "text/plain": [
       "   age  job  marital  education  balance  loan  Loan_Status\n",
       "0   46    3        1          0     4301     1            1\n",
       "1   55    1        0          1     4053     0            0\n",
       "2   55    2        1          0     3459     1            1\n",
       "3   52    0        1          1     2281     1            0\n",
       "4   34    5        1          1      210     1            1"
      ]
     },
     "execution_count": 100,
     "metadata": {},
     "output_type": "execute_result"
    }
   ],
   "source": [
    "#read the dataset using read_csv() and passing filepath (loan.csv)\n",
    "loan_data = pd.read_csv(\"loan.csv\")\n",
    "#display the first 5 rows\n",
    "loan_data.head()"
   ]
  },
  {
   "cell_type": "code",
   "execution_count": 101,
   "metadata": {},
   "outputs": [
    {
     "data": {
      "text/plain": [
       "(19, 7)"
      ]
     },
     "execution_count": 101,
     "metadata": {},
     "output_type": "execute_result"
    }
   ],
   "source": [
    "#print both the number of rows and columns using shape function for the loan_data dataset\n",
    "loan_data.shape"
   ]
  },
  {
   "cell_type": "code",
   "execution_count": 102,
   "metadata": {},
   "outputs": [
    {
     "data": {
      "text/plain": [
       "(8257, 17)"
      ]
     },
     "execution_count": 102,
     "metadata": {},
     "output_type": "execute_result"
    }
   ],
   "source": [
    "#print both the number of rows and columns using shape function for the bank_data dataset\n",
    "bank_data.shape"
   ]
  },
  {
   "cell_type": "markdown",
   "metadata": {},
   "source": [
    "# Predicting data before adding noise"
   ]
  },
  {
   "cell_type": "markdown",
   "metadata": {},
   "source": [
    "### Predicting marketing campaign outcome"
   ]
  },
  {
   "cell_type": "code",
   "execution_count": 103,
   "metadata": {},
   "outputs": [],
   "source": [
    "# Split the data: 80% training : 20% test set\n",
    "\n",
    "#create a copy of the dataset bank_data\n",
    "train_dfs = bank_data.copy()\n",
    "#remove the target column from the copied dataset\n",
    "train_dfs = train_dfs.drop(columns=['target'])\n",
    "#store the target column in targetLabels\n",
    "targetLabels = bank_data['target']\n",
    "#split the data into x tarning and testing and y testing and traning, traing set = 80% and testing set = 20% \n",
    "instances_train, instances_test, target_train, target_test = train_test_split(train_dfs, targetLabels, test_size=0.2, random_state=0, shuffle=True)\n"
   ]
  },
  {
   "cell_type": "code",
   "execution_count": 104,
   "metadata": {},
   "outputs": [
    {
     "name": "stdout",
     "output_type": "stream",
     "text": [
      "Decision Tree Classifier accuracy on training set= 0.89\n",
      "Decision Tree Classifier accuracy on testing set= 0.83\n"
     ]
    }
   ],
   "source": [
    "#create a Decision Tree Classifier model with a max_depth (maximum depth of the tree) = 8\n",
    "decTreeModel = DecisionTreeClassifier(max_depth=8)\n",
    "#fit the instances_train values and target_train values into the Decision Tree Classifier model using fit()\n",
    "decTreeModel.fit(instances_train.values, target_train.values)\n",
    "#Decision Tree Classifier accuracy using traning set\n",
    "print('Decision Tree Classifier accuracy on training set= {:.2f}'.format(decTreeModel.score(instances_train.values, target_train)))\n",
    "#Decision Tree Classifier accuracy using testing set\n",
    "print('Decision Tree Classifier accuracy on testing set= {:.2f}'.format(decTreeModel.score(instances_test.values, target_test)))\n"
   ]
  },
  {
   "cell_type": "code",
   "execution_count": 105,
   "metadata": {
    "scrolled": true
   },
   "outputs": [
    {
     "data": {
      "text/plain": [
       "array([33, 0, 1, 3, 0, 882, 0, 0, 1, 21, 10, 39, 1, 151, 3, 0, 'no'],\n",
       "      dtype=object)"
      ]
     },
     "execution_count": 105,
     "metadata": {},
     "output_type": "execute_result"
    }
   ],
   "source": [
    "#get the values of the 1st row (before adding noise)\n",
    "bank_data.iloc[0].values"
   ]
  },
  {
   "cell_type": "code",
   "execution_count": 106,
   "metadata": {},
   "outputs": [
    {
     "data": {
      "text/plain": [
       "array(['no'], dtype=object)"
      ]
     },
     "execution_count": 106,
     "metadata": {},
     "output_type": "execute_result"
    }
   ],
   "source": [
    "#predict the outsome using the 1st row data\n",
    "decTreeModel.predict([[33, 0, 1, 3, 0, 882, 0, 0, 1, 21, 10, 39, 1, 151, 3, 0]]) \n"
   ]
  },
  {
   "cell_type": "code",
   "execution_count": 107,
   "metadata": {},
   "outputs": [
    {
     "data": {
      "text/plain": [
       "array([36, 4, 1, 3, 0, 0, 1, 0, 1, 23, 10, 140, 1, 143, 3, 0, 'yes'],\n",
       "      dtype=object)"
      ]
     },
     "execution_count": 107,
     "metadata": {},
     "output_type": "execute_result"
    }
   ],
   "source": [
    "#get the values of the 4th row (before adding noise)\n",
    "bank_data.iloc[4].values"
   ]
  },
  {
   "cell_type": "code",
   "execution_count": 108,
   "metadata": {},
   "outputs": [
    {
     "data": {
      "text/plain": [
       "array(['yes'], dtype=object)"
      ]
     },
     "execution_count": 108,
     "metadata": {},
     "output_type": "execute_result"
    }
   ],
   "source": [
    "#predict the outsome using the 4th row data\n",
    "decTreeModel.predict([[36, 4, 1, 3, 0, 0, 1, 0, 1, 23, 10, 140, 1, 143, 3, 0]]) \n"
   ]
  },
  {
   "cell_type": "code",
   "execution_count": 109,
   "metadata": {},
   "outputs": [
    {
     "data": {
      "text/html": [
       "<div>\n",
       "<style scoped>\n",
       "    .dataframe tbody tr th:only-of-type {\n",
       "        vertical-align: middle;\n",
       "    }\n",
       "\n",
       "    .dataframe tbody tr th {\n",
       "        vertical-align: top;\n",
       "    }\n",
       "\n",
       "    .dataframe thead th {\n",
       "        text-align: right;\n",
       "    }\n",
       "</style>\n",
       "<table border=\"1\" class=\"dataframe\">\n",
       "  <thead>\n",
       "    <tr style=\"text-align: right;\">\n",
       "      <th></th>\n",
       "      <th>age</th>\n",
       "      <th>job</th>\n",
       "      <th>marital</th>\n",
       "      <th>education</th>\n",
       "      <th>default</th>\n",
       "      <th>balance</th>\n",
       "      <th>housing</th>\n",
       "      <th>loan</th>\n",
       "      <th>contact</th>\n",
       "      <th>day</th>\n",
       "      <th>month</th>\n",
       "      <th>duration</th>\n",
       "      <th>campaign</th>\n",
       "      <th>pdays</th>\n",
       "      <th>previous</th>\n",
       "      <th>poutcome</th>\n",
       "    </tr>\n",
       "  </thead>\n",
       "  <tbody>\n",
       "    <tr>\n",
       "      <th>24060</th>\n",
       "      <td>33</td>\n",
       "      <td>0</td>\n",
       "      <td>1</td>\n",
       "      <td>3</td>\n",
       "      <td>0</td>\n",
       "      <td>882</td>\n",
       "      <td>0</td>\n",
       "      <td>0</td>\n",
       "      <td>1</td>\n",
       "      <td>21</td>\n",
       "      <td>10</td>\n",
       "      <td>39</td>\n",
       "      <td>1</td>\n",
       "      <td>151</td>\n",
       "      <td>3</td>\n",
       "      <td>0</td>\n",
       "    </tr>\n",
       "    <tr>\n",
       "      <th>24062</th>\n",
       "      <td>42</td>\n",
       "      <td>0</td>\n",
       "      <td>2</td>\n",
       "      <td>2</td>\n",
       "      <td>0</td>\n",
       "      <td>-247</td>\n",
       "      <td>1</td>\n",
       "      <td>1</td>\n",
       "      <td>1</td>\n",
       "      <td>21</td>\n",
       "      <td>10</td>\n",
       "      <td>519</td>\n",
       "      <td>1</td>\n",
       "      <td>166</td>\n",
       "      <td>1</td>\n",
       "      <td>1</td>\n",
       "    </tr>\n",
       "    <tr>\n",
       "      <th>24064</th>\n",
       "      <td>33</td>\n",
       "      <td>8</td>\n",
       "      <td>1</td>\n",
       "      <td>2</td>\n",
       "      <td>0</td>\n",
       "      <td>3444</td>\n",
       "      <td>1</td>\n",
       "      <td>0</td>\n",
       "      <td>1</td>\n",
       "      <td>21</td>\n",
       "      <td>10</td>\n",
       "      <td>144</td>\n",
       "      <td>1</td>\n",
       "      <td>91</td>\n",
       "      <td>4</td>\n",
       "      <td>0</td>\n",
       "    </tr>\n",
       "    <tr>\n",
       "      <th>24072</th>\n",
       "      <td>36</td>\n",
       "      <td>4</td>\n",
       "      <td>1</td>\n",
       "      <td>3</td>\n",
       "      <td>0</td>\n",
       "      <td>2415</td>\n",
       "      <td>1</td>\n",
       "      <td>0</td>\n",
       "      <td>1</td>\n",
       "      <td>22</td>\n",
       "      <td>10</td>\n",
       "      <td>73</td>\n",
       "      <td>1</td>\n",
       "      <td>86</td>\n",
       "      <td>4</td>\n",
       "      <td>1</td>\n",
       "    </tr>\n",
       "    <tr>\n",
       "      <th>24077</th>\n",
       "      <td>36</td>\n",
       "      <td>4</td>\n",
       "      <td>1</td>\n",
       "      <td>3</td>\n",
       "      <td>0</td>\n",
       "      <td>0</td>\n",
       "      <td>1</td>\n",
       "      <td>0</td>\n",
       "      <td>1</td>\n",
       "      <td>23</td>\n",
       "      <td>10</td>\n",
       "      <td>140</td>\n",
       "      <td>1</td>\n",
       "      <td>143</td>\n",
       "      <td>3</td>\n",
       "      <td>0</td>\n",
       "    </tr>\n",
       "  </tbody>\n",
       "</table>\n",
       "</div>"
      ],
      "text/plain": [
       "       age  job  marital  education  default  balance  housing  loan  contact  \\\n",
       "24060   33    0        1          3        0      882        0     0        1   \n",
       "24062   42    0        2          2        0     -247        1     1        1   \n",
       "24064   33    8        1          2        0     3444        1     0        1   \n",
       "24072   36    4        1          3        0     2415        1     0        1   \n",
       "24077   36    4        1          3        0        0        1     0        1   \n",
       "\n",
       "       day  month  duration  campaign  pdays  previous  poutcome  \n",
       "24060   21     10        39         1    151         3         0  \n",
       "24062   21     10       519         1    166         1         1  \n",
       "24064   21     10       144         1     91         4         0  \n",
       "24072   22     10        73         1     86         4         1  \n",
       "24077   23     10       140         1    143         3         0  "
      ]
     },
     "execution_count": 109,
     "metadata": {},
     "output_type": "execute_result"
    }
   ],
   "source": [
    "#copy the target column of the bank_data dataset so it can be dropped from bank_data before adding noise and then returned after adding noise\n",
    "target_copy = bank_data['target'].copy()\n",
    "bank_data = bank_data.drop(columns=['target'])\n",
    "#display the first 5 rows\n",
    "bank_data.head()"
   ]
  },
  {
   "cell_type": "code",
   "execution_count": 110,
   "metadata": {},
   "outputs": [
    {
     "data": {
      "text/plain": [
       "(8257, 16)"
      ]
     },
     "execution_count": 110,
     "metadata": {},
     "output_type": "execute_result"
    }
   ],
   "source": [
    "#print both the number of rows and columns using shape function for the bank_data dataset\n",
    "bank_data.shape"
   ]
  },
  {
   "cell_type": "markdown",
   "metadata": {},
   "source": [
    "### Predicting loan eligibility"
   ]
  },
  {
   "cell_type": "code",
   "execution_count": 111,
   "metadata": {},
   "outputs": [],
   "source": [
    "# Split the loan_data data: 80% training : 20% test set\n",
    "#create a copy of the dataset loan_data\n",
    "train_dfs = loan_data.copy()\n",
    "#remove the target column from the copied dataset\n",
    "train_dfs = train_dfs.drop(columns=['Loan_Status'])\n",
    "#store the target column in targetLabels\n",
    "targetLabels = loan_data['Loan_Status']\n",
    "#split the data into x tarning and testing and y testing and traning, traing set = 80% and testing set = 20% \n",
    "instances_train, instances_test, target_train, target_test = train_test_split(train_dfs, targetLabels, test_size=0.2, random_state=0, shuffle=True)\n"
   ]
  },
  {
   "cell_type": "code",
   "execution_count": 112,
   "metadata": {},
   "outputs": [
    {
     "name": "stdout",
     "output_type": "stream",
     "text": [
      "Decision Tree Classifier accuracy on training set= 1.00\n",
      "Decision Tree Classifier accuracy on testing set= 1.00\n"
     ]
    }
   ],
   "source": [
    "#create a Decision Tree Classifier model with a max_depth (maximum depth of the tree) = 8\n",
    "decTreeModel = DecisionTreeClassifier(max_depth=8)\n",
    "#fit the instances_train values and target_train values into the Decision Tree Classifier model using fit()\n",
    "decTreeModel.fit(instances_train.values, target_train.values)\n",
    "#Decision Tree Classifier accuracy using traning set\n",
    "print('Decision Tree Classifier accuracy on training set= {:.2f}'.format(decTreeModel.score(instances_train.values, target_train)))\n",
    "#Decision Tree Classifier accuracy using testing set\n",
    "print('Decision Tree Classifier accuracy on testing set= {:.2f}'.format(decTreeModel.score(instances_test.values, target_test)))\n"
   ]
  },
  {
   "cell_type": "code",
   "execution_count": 113,
   "metadata": {},
   "outputs": [
    {
     "data": {
      "text/plain": [
       "array([  46,    3,    1,    0, 4301,    1,    1])"
      ]
     },
     "execution_count": 113,
     "metadata": {},
     "output_type": "execute_result"
    }
   ],
   "source": [
    "#get the values of the 1st row (before adding noise)\n",
    "loan_data.iloc[0].values"
   ]
  },
  {
   "cell_type": "code",
   "execution_count": 114,
   "metadata": {},
   "outputs": [
    {
     "data": {
      "text/plain": [
       "array([1])"
      ]
     },
     "execution_count": 114,
     "metadata": {},
     "output_type": "execute_result"
    }
   ],
   "source": [
    "#predict the outsome using the 1st row data\n",
    "decTreeModel.predict([[46, 3, 1, 0, 4301, 1]]) \n"
   ]
  },
  {
   "cell_type": "code",
   "execution_count": 115,
   "metadata": {},
   "outputs": [
    {
     "data": {
      "text/plain": [
       "array([  55,    1,    0,    1, 4053,    0,    0])"
      ]
     },
     "execution_count": 115,
     "metadata": {},
     "output_type": "execute_result"
    }
   ],
   "source": [
    "#get the values of the 2nd row (before adding noise)\n",
    "loan_data.iloc[1].values "
   ]
  },
  {
   "cell_type": "code",
   "execution_count": 116,
   "metadata": {},
   "outputs": [
    {
     "data": {
      "text/plain": [
       "array([0])"
      ]
     },
     "execution_count": 116,
     "metadata": {},
     "output_type": "execute_result"
    }
   ],
   "source": [
    "#predict the outsome using the 2nd row data\n",
    "decTreeModel.predict([[55, 1, 0, 1, 4053, 0]]) \n"
   ]
  },
  {
   "cell_type": "code",
   "execution_count": 117,
   "metadata": {},
   "outputs": [
    {
     "data": {
      "text/html": [
       "<div>\n",
       "<style scoped>\n",
       "    .dataframe tbody tr th:only-of-type {\n",
       "        vertical-align: middle;\n",
       "    }\n",
       "\n",
       "    .dataframe tbody tr th {\n",
       "        vertical-align: top;\n",
       "    }\n",
       "\n",
       "    .dataframe thead th {\n",
       "        text-align: right;\n",
       "    }\n",
       "</style>\n",
       "<table border=\"1\" class=\"dataframe\">\n",
       "  <thead>\n",
       "    <tr style=\"text-align: right;\">\n",
       "      <th></th>\n",
       "      <th>age</th>\n",
       "      <th>job</th>\n",
       "      <th>marital</th>\n",
       "      <th>education</th>\n",
       "      <th>balance</th>\n",
       "      <th>loan</th>\n",
       "    </tr>\n",
       "  </thead>\n",
       "  <tbody>\n",
       "    <tr>\n",
       "      <th>0</th>\n",
       "      <td>46</td>\n",
       "      <td>3</td>\n",
       "      <td>1</td>\n",
       "      <td>0</td>\n",
       "      <td>4301</td>\n",
       "      <td>1</td>\n",
       "    </tr>\n",
       "    <tr>\n",
       "      <th>1</th>\n",
       "      <td>55</td>\n",
       "      <td>1</td>\n",
       "      <td>0</td>\n",
       "      <td>1</td>\n",
       "      <td>4053</td>\n",
       "      <td>0</td>\n",
       "    </tr>\n",
       "    <tr>\n",
       "      <th>2</th>\n",
       "      <td>55</td>\n",
       "      <td>2</td>\n",
       "      <td>1</td>\n",
       "      <td>0</td>\n",
       "      <td>3459</td>\n",
       "      <td>1</td>\n",
       "    </tr>\n",
       "    <tr>\n",
       "      <th>3</th>\n",
       "      <td>52</td>\n",
       "      <td>0</td>\n",
       "      <td>1</td>\n",
       "      <td>1</td>\n",
       "      <td>2281</td>\n",
       "      <td>1</td>\n",
       "    </tr>\n",
       "    <tr>\n",
       "      <th>4</th>\n",
       "      <td>34</td>\n",
       "      <td>5</td>\n",
       "      <td>1</td>\n",
       "      <td>1</td>\n",
       "      <td>210</td>\n",
       "      <td>1</td>\n",
       "    </tr>\n",
       "  </tbody>\n",
       "</table>\n",
       "</div>"
      ],
      "text/plain": [
       "   age  job  marital  education  balance  loan\n",
       "0   46    3        1          0     4301     1\n",
       "1   55    1        0          1     4053     0\n",
       "2   55    2        1          0     3459     1\n",
       "3   52    0        1          1     2281     1\n",
       "4   34    5        1          1      210     1"
      ]
     },
     "execution_count": 117,
     "metadata": {},
     "output_type": "execute_result"
    }
   ],
   "source": [
    "#copy the target column of the loan_data dataset so it can be dropped from loan_data before adding noise and then returned after adding noise\n",
    "Loan_Status_copy = loan_data['Loan_Status'].copy()\n",
    "#remove the target column from the copied data\n",
    "loan_data = loan_data.drop(columns=['Loan_Status'])\n",
    "#display the first 5 rows\n",
    "loan_data.head()"
   ]
  },
  {
   "cell_type": "code",
   "execution_count": 118,
   "metadata": {},
   "outputs": [
    {
     "data": {
      "text/plain": [
       "(19, 6)"
      ]
     },
     "execution_count": 118,
     "metadata": {},
     "output_type": "execute_result"
    }
   ],
   "source": [
    "#print both the number of rows and columns using shape function for the loan_data dataset\n",
    "loan_data.shape"
   ]
  },
  {
   "cell_type": "markdown",
   "metadata": {},
   "source": [
    "# Adding noise to both the bank data and the loan data"
   ]
  },
  {
   "cell_type": "code",
   "execution_count": 119,
   "metadata": {},
   "outputs": [],
   "source": [
    "#add noise to both loan_data and bank_data datasets using the dataset shape\n",
    "#laplace is used to draw samples from the Laplace or double exponential distribution with a specified location and a scale \n",
    "\n",
    "#location or mean\n",
    "location = 1.0\n",
    "#scale or decay\n",
    "scale = 1.0\n",
    "\n",
    "#use laplace on the bank_data dataset by passing the shape of the dataset\n",
    "bank_data_LaplacianNoise = np.random.laplace(location, scale, [8257, 16])\n",
    "\n",
    "#use laplace on the loan_data dataset by passing the shape of the dataset\n",
    "loan_data_LaplacianNoise = np.random.laplace(location, scale, [19, 6])\n",
    "\n",
    "# print(bank_data_LaplacianNoise)\n",
    "# print(loan_data_LaplacianNoise)"
   ]
  },
  {
   "cell_type": "code",
   "execution_count": 120,
   "metadata": {
    "scrolled": true
   },
   "outputs": [],
   "source": [
    "#adding noise to the bank_data dataset\n",
    "bank_private_data = bank_data + bank_data_LaplacianNoise\n",
    "# print(bank_private_data)"
   ]
  },
  {
   "cell_type": "code",
   "execution_count": 121,
   "metadata": {
    "scrolled": true
   },
   "outputs": [],
   "source": [
    "#adding noise to the loan_data dataset\n",
    "loan_private_data = loan_data + loan_data_LaplacianNoise\n",
    "# print(loan_private_data)"
   ]
  },
  {
   "cell_type": "code",
   "execution_count": 122,
   "metadata": {},
   "outputs": [
    {
     "data": {
      "text/html": [
       "<div>\n",
       "<style scoped>\n",
       "    .dataframe tbody tr th:only-of-type {\n",
       "        vertical-align: middle;\n",
       "    }\n",
       "\n",
       "    .dataframe tbody tr th {\n",
       "        vertical-align: top;\n",
       "    }\n",
       "\n",
       "    .dataframe thead th {\n",
       "        text-align: right;\n",
       "    }\n",
       "</style>\n",
       "<table border=\"1\" class=\"dataframe\">\n",
       "  <thead>\n",
       "    <tr style=\"text-align: right;\">\n",
       "      <th></th>\n",
       "      <th>age</th>\n",
       "      <th>job</th>\n",
       "      <th>marital</th>\n",
       "      <th>education</th>\n",
       "      <th>default</th>\n",
       "      <th>balance</th>\n",
       "      <th>housing</th>\n",
       "      <th>loan</th>\n",
       "      <th>contact</th>\n",
       "      <th>day</th>\n",
       "      <th>month</th>\n",
       "      <th>duration</th>\n",
       "      <th>campaign</th>\n",
       "      <th>pdays</th>\n",
       "      <th>previous</th>\n",
       "      <th>poutcome</th>\n",
       "    </tr>\n",
       "  </thead>\n",
       "  <tbody>\n",
       "    <tr>\n",
       "      <th>24060</th>\n",
       "      <td>31.694776</td>\n",
       "      <td>0.739623</td>\n",
       "      <td>2.120164</td>\n",
       "      <td>4.073338</td>\n",
       "      <td>0.723075</td>\n",
       "      <td>883.868895</td>\n",
       "      <td>0.383747</td>\n",
       "      <td>1.436894</td>\n",
       "      <td>1.545274</td>\n",
       "      <td>20.606994</td>\n",
       "      <td>10.907625</td>\n",
       "      <td>37.063597</td>\n",
       "      <td>2.407340</td>\n",
       "      <td>151.785971</td>\n",
       "      <td>5.462224</td>\n",
       "      <td>0.903128</td>\n",
       "    </tr>\n",
       "    <tr>\n",
       "      <th>24062</th>\n",
       "      <td>42.911876</td>\n",
       "      <td>-0.223388</td>\n",
       "      <td>2.032081</td>\n",
       "      <td>3.163732</td>\n",
       "      <td>1.168959</td>\n",
       "      <td>-246.720990</td>\n",
       "      <td>1.645356</td>\n",
       "      <td>5.072439</td>\n",
       "      <td>2.370854</td>\n",
       "      <td>21.380772</td>\n",
       "      <td>10.951131</td>\n",
       "      <td>520.149905</td>\n",
       "      <td>2.775187</td>\n",
       "      <td>166.918098</td>\n",
       "      <td>1.413336</td>\n",
       "      <td>2.114287</td>\n",
       "    </tr>\n",
       "    <tr>\n",
       "      <th>24064</th>\n",
       "      <td>33.654111</td>\n",
       "      <td>8.186545</td>\n",
       "      <td>4.171684</td>\n",
       "      <td>3.433990</td>\n",
       "      <td>3.024116</td>\n",
       "      <td>3444.914180</td>\n",
       "      <td>2.566181</td>\n",
       "      <td>1.678312</td>\n",
       "      <td>3.092138</td>\n",
       "      <td>22.376050</td>\n",
       "      <td>9.814676</td>\n",
       "      <td>144.955176</td>\n",
       "      <td>2.812858</td>\n",
       "      <td>91.921764</td>\n",
       "      <td>5.534192</td>\n",
       "      <td>0.653944</td>\n",
       "    </tr>\n",
       "    <tr>\n",
       "      <th>24072</th>\n",
       "      <td>35.405519</td>\n",
       "      <td>6.197574</td>\n",
       "      <td>2.166394</td>\n",
       "      <td>5.481931</td>\n",
       "      <td>-0.232375</td>\n",
       "      <td>2418.875021</td>\n",
       "      <td>2.407377</td>\n",
       "      <td>1.033459</td>\n",
       "      <td>1.833238</td>\n",
       "      <td>21.440495</td>\n",
       "      <td>10.875133</td>\n",
       "      <td>72.738461</td>\n",
       "      <td>1.875555</td>\n",
       "      <td>87.698495</td>\n",
       "      <td>5.464981</td>\n",
       "      <td>2.499365</td>\n",
       "    </tr>\n",
       "    <tr>\n",
       "      <th>24077</th>\n",
       "      <td>37.007954</td>\n",
       "      <td>5.629059</td>\n",
       "      <td>2.058497</td>\n",
       "      <td>3.250033</td>\n",
       "      <td>-0.032289</td>\n",
       "      <td>2.706105</td>\n",
       "      <td>-0.111320</td>\n",
       "      <td>0.940428</td>\n",
       "      <td>3.797861</td>\n",
       "      <td>25.125214</td>\n",
       "      <td>11.146603</td>\n",
       "      <td>139.345403</td>\n",
       "      <td>2.028900</td>\n",
       "      <td>144.973565</td>\n",
       "      <td>4.260334</td>\n",
       "      <td>0.925733</td>\n",
       "    </tr>\n",
       "    <tr>\n",
       "      <th>...</th>\n",
       "      <td>...</td>\n",
       "      <td>...</td>\n",
       "      <td>...</td>\n",
       "      <td>...</td>\n",
       "      <td>...</td>\n",
       "      <td>...</td>\n",
       "      <td>...</td>\n",
       "      <td>...</td>\n",
       "      <td>...</td>\n",
       "      <td>...</td>\n",
       "      <td>...</td>\n",
       "      <td>...</td>\n",
       "      <td>...</td>\n",
       "      <td>...</td>\n",
       "      <td>...</td>\n",
       "      <td>...</td>\n",
       "    </tr>\n",
       "    <tr>\n",
       "      <th>45199</th>\n",
       "      <td>34.634883</td>\n",
       "      <td>2.272513</td>\n",
       "      <td>6.087524</td>\n",
       "      <td>7.252150</td>\n",
       "      <td>2.086695</td>\n",
       "      <td>1475.084944</td>\n",
       "      <td>2.929936</td>\n",
       "      <td>1.600925</td>\n",
       "      <td>0.948904</td>\n",
       "      <td>16.193697</td>\n",
       "      <td>7.993654</td>\n",
       "      <td>1168.045727</td>\n",
       "      <td>3.067783</td>\n",
       "      <td>531.243118</td>\n",
       "      <td>12.432340</td>\n",
       "      <td>1.364515</td>\n",
       "    </tr>\n",
       "    <tr>\n",
       "      <th>45201</th>\n",
       "      <td>51.785407</td>\n",
       "      <td>5.435640</td>\n",
       "      <td>2.040830</td>\n",
       "      <td>4.320395</td>\n",
       "      <td>0.281519</td>\n",
       "      <td>584.022575</td>\n",
       "      <td>0.861698</td>\n",
       "      <td>1.300975</td>\n",
       "      <td>0.423197</td>\n",
       "      <td>17.237907</td>\n",
       "      <td>10.080707</td>\n",
       "      <td>228.725455</td>\n",
       "      <td>1.170553</td>\n",
       "      <td>186.265143</td>\n",
       "      <td>4.467378</td>\n",
       "      <td>1.538207</td>\n",
       "    </tr>\n",
       "    <tr>\n",
       "      <th>45204</th>\n",
       "      <td>73.670625</td>\n",
       "      <td>6.811795</td>\n",
       "      <td>1.305228</td>\n",
       "      <td>3.284687</td>\n",
       "      <td>2.000855</td>\n",
       "      <td>2851.716683</td>\n",
       "      <td>-2.318560</td>\n",
       "      <td>1.057312</td>\n",
       "      <td>0.188120</td>\n",
       "      <td>16.021390</td>\n",
       "      <td>9.583787</td>\n",
       "      <td>301.237961</td>\n",
       "      <td>-1.118248</td>\n",
       "      <td>42.382613</td>\n",
       "      <td>10.235079</td>\n",
       "      <td>0.141011</td>\n",
       "    </tr>\n",
       "    <tr>\n",
       "      <th>45208</th>\n",
       "      <td>73.545579</td>\n",
       "      <td>9.281591</td>\n",
       "      <td>0.877393</td>\n",
       "      <td>1.609449</td>\n",
       "      <td>2.999667</td>\n",
       "      <td>5712.777953</td>\n",
       "      <td>1.036528</td>\n",
       "      <td>-0.838190</td>\n",
       "      <td>0.339215</td>\n",
       "      <td>19.934358</td>\n",
       "      <td>10.187637</td>\n",
       "      <td>1129.232803</td>\n",
       "      <td>5.935189</td>\n",
       "      <td>185.012771</td>\n",
       "      <td>3.202466</td>\n",
       "      <td>2.428034</td>\n",
       "    </tr>\n",
       "    <tr>\n",
       "      <th>45210</th>\n",
       "      <td>37.753784</td>\n",
       "      <td>2.740955</td>\n",
       "      <td>1.477078</td>\n",
       "      <td>1.873675</td>\n",
       "      <td>1.833482</td>\n",
       "      <td>2973.953615</td>\n",
       "      <td>1.780854</td>\n",
       "      <td>0.533624</td>\n",
       "      <td>1.627248</td>\n",
       "      <td>21.736174</td>\n",
       "      <td>10.525359</td>\n",
       "      <td>361.505967</td>\n",
       "      <td>7.791438</td>\n",
       "      <td>190.323869</td>\n",
       "      <td>11.869786</td>\n",
       "      <td>1.373642</td>\n",
       "    </tr>\n",
       "  </tbody>\n",
       "</table>\n",
       "<p>8257 rows × 16 columns</p>\n",
       "</div>"
      ],
      "text/plain": [
       "             age       job   marital  education   default      balance  \\\n",
       "24060  31.694776  0.739623  2.120164   4.073338  0.723075   883.868895   \n",
       "24062  42.911876 -0.223388  2.032081   3.163732  1.168959  -246.720990   \n",
       "24064  33.654111  8.186545  4.171684   3.433990  3.024116  3444.914180   \n",
       "24072  35.405519  6.197574  2.166394   5.481931 -0.232375  2418.875021   \n",
       "24077  37.007954  5.629059  2.058497   3.250033 -0.032289     2.706105   \n",
       "...          ...       ...       ...        ...       ...          ...   \n",
       "45199  34.634883  2.272513  6.087524   7.252150  2.086695  1475.084944   \n",
       "45201  51.785407  5.435640  2.040830   4.320395  0.281519   584.022575   \n",
       "45204  73.670625  6.811795  1.305228   3.284687  2.000855  2851.716683   \n",
       "45208  73.545579  9.281591  0.877393   1.609449  2.999667  5712.777953   \n",
       "45210  37.753784  2.740955  1.477078   1.873675  1.833482  2973.953615   \n",
       "\n",
       "        housing      loan   contact        day      month     duration  \\\n",
       "24060  0.383747  1.436894  1.545274  20.606994  10.907625    37.063597   \n",
       "24062  1.645356  5.072439  2.370854  21.380772  10.951131   520.149905   \n",
       "24064  2.566181  1.678312  3.092138  22.376050   9.814676   144.955176   \n",
       "24072  2.407377  1.033459  1.833238  21.440495  10.875133    72.738461   \n",
       "24077 -0.111320  0.940428  3.797861  25.125214  11.146603   139.345403   \n",
       "...         ...       ...       ...        ...        ...          ...   \n",
       "45199  2.929936  1.600925  0.948904  16.193697   7.993654  1168.045727   \n",
       "45201  0.861698  1.300975  0.423197  17.237907  10.080707   228.725455   \n",
       "45204 -2.318560  1.057312  0.188120  16.021390   9.583787   301.237961   \n",
       "45208  1.036528 -0.838190  0.339215  19.934358  10.187637  1129.232803   \n",
       "45210  1.780854  0.533624  1.627248  21.736174  10.525359   361.505967   \n",
       "\n",
       "       campaign       pdays   previous  poutcome  \n",
       "24060  2.407340  151.785971   5.462224  0.903128  \n",
       "24062  2.775187  166.918098   1.413336  2.114287  \n",
       "24064  2.812858   91.921764   5.534192  0.653944  \n",
       "24072  1.875555   87.698495   5.464981  2.499365  \n",
       "24077  2.028900  144.973565   4.260334  0.925733  \n",
       "...         ...         ...        ...       ...  \n",
       "45199  3.067783  531.243118  12.432340  1.364515  \n",
       "45201  1.170553  186.265143   4.467378  1.538207  \n",
       "45204 -1.118248   42.382613  10.235079  0.141011  \n",
       "45208  5.935189  185.012771   3.202466  2.428034  \n",
       "45210  7.791438  190.323869  11.869786  1.373642  \n",
       "\n",
       "[8257 rows x 16 columns]"
      ]
     },
     "metadata": {},
     "output_type": "display_data"
    }
   ],
   "source": [
    "#display the bank_private_data as table\n",
    "display(bank_private_data)"
   ]
  },
  {
   "cell_type": "code",
   "execution_count": 123,
   "metadata": {},
   "outputs": [
    {
     "data": {
      "text/html": [
       "<div>\n",
       "<style scoped>\n",
       "    .dataframe tbody tr th:only-of-type {\n",
       "        vertical-align: middle;\n",
       "    }\n",
       "\n",
       "    .dataframe tbody tr th {\n",
       "        vertical-align: top;\n",
       "    }\n",
       "\n",
       "    .dataframe thead th {\n",
       "        text-align: right;\n",
       "    }\n",
       "</style>\n",
       "<table border=\"1\" class=\"dataframe\">\n",
       "  <thead>\n",
       "    <tr style=\"text-align: right;\">\n",
       "      <th></th>\n",
       "      <th>age</th>\n",
       "      <th>job</th>\n",
       "      <th>marital</th>\n",
       "      <th>education</th>\n",
       "      <th>balance</th>\n",
       "      <th>loan</th>\n",
       "    </tr>\n",
       "  </thead>\n",
       "  <tbody>\n",
       "    <tr>\n",
       "      <th>0</th>\n",
       "      <td>45.849524</td>\n",
       "      <td>2.669639</td>\n",
       "      <td>1.540089</td>\n",
       "      <td>1.087345</td>\n",
       "      <td>4301.030448</td>\n",
       "      <td>2.205537</td>\n",
       "    </tr>\n",
       "    <tr>\n",
       "      <th>1</th>\n",
       "      <td>56.515654</td>\n",
       "      <td>0.623220</td>\n",
       "      <td>1.628296</td>\n",
       "      <td>4.394192</td>\n",
       "      <td>4053.659253</td>\n",
       "      <td>1.703218</td>\n",
       "    </tr>\n",
       "    <tr>\n",
       "      <th>2</th>\n",
       "      <td>55.868799</td>\n",
       "      <td>4.757554</td>\n",
       "      <td>1.170105</td>\n",
       "      <td>1.470064</td>\n",
       "      <td>3460.032324</td>\n",
       "      <td>1.979376</td>\n",
       "    </tr>\n",
       "    <tr>\n",
       "      <th>3</th>\n",
       "      <td>51.680108</td>\n",
       "      <td>0.803732</td>\n",
       "      <td>1.803399</td>\n",
       "      <td>2.032152</td>\n",
       "      <td>2281.410550</td>\n",
       "      <td>1.175452</td>\n",
       "    </tr>\n",
       "    <tr>\n",
       "      <th>4</th>\n",
       "      <td>34.992905</td>\n",
       "      <td>8.060380</td>\n",
       "      <td>1.676081</td>\n",
       "      <td>0.992228</td>\n",
       "      <td>213.930306</td>\n",
       "      <td>4.441783</td>\n",
       "    </tr>\n",
       "    <tr>\n",
       "      <th>5</th>\n",
       "      <td>34.461593</td>\n",
       "      <td>2.101506</td>\n",
       "      <td>-0.203556</td>\n",
       "      <td>2.408146</td>\n",
       "      <td>3978.536935</td>\n",
       "      <td>2.131838</td>\n",
       "    </tr>\n",
       "    <tr>\n",
       "      <th>6</th>\n",
       "      <td>36.211127</td>\n",
       "      <td>4.228976</td>\n",
       "      <td>1.125672</td>\n",
       "      <td>-1.249801</td>\n",
       "      <td>2958.296390</td>\n",
       "      <td>2.593419</td>\n",
       "    </tr>\n",
       "    <tr>\n",
       "      <th>7</th>\n",
       "      <td>41.758711</td>\n",
       "      <td>1.488545</td>\n",
       "      <td>-1.008267</td>\n",
       "      <td>1.550902</td>\n",
       "      <td>2680.646748</td>\n",
       "      <td>2.347991</td>\n",
       "    </tr>\n",
       "    <tr>\n",
       "      <th>8</th>\n",
       "      <td>51.824454</td>\n",
       "      <td>5.978253</td>\n",
       "      <td>-1.856826</td>\n",
       "      <td>3.870621</td>\n",
       "      <td>4301.834536</td>\n",
       "      <td>1.486597</td>\n",
       "    </tr>\n",
       "    <tr>\n",
       "      <th>9</th>\n",
       "      <td>45.477216</td>\n",
       "      <td>3.665775</td>\n",
       "      <td>0.948494</td>\n",
       "      <td>2.331467</td>\n",
       "      <td>2237.805652</td>\n",
       "      <td>1.149713</td>\n",
       "    </tr>\n",
       "    <tr>\n",
       "      <th>10</th>\n",
       "      <td>34.821739</td>\n",
       "      <td>6.961252</td>\n",
       "      <td>-2.648467</td>\n",
       "      <td>1.715386</td>\n",
       "      <td>210.724399</td>\n",
       "      <td>2.519103</td>\n",
       "    </tr>\n",
       "    <tr>\n",
       "      <th>11</th>\n",
       "      <td>38.145836</td>\n",
       "      <td>1.545687</td>\n",
       "      <td>1.292521</td>\n",
       "      <td>5.052364</td>\n",
       "      <td>1993.160745</td>\n",
       "      <td>3.011410</td>\n",
       "    </tr>\n",
       "    <tr>\n",
       "      <th>12</th>\n",
       "      <td>32.988770</td>\n",
       "      <td>-1.798650</td>\n",
       "      <td>2.293806</td>\n",
       "      <td>0.456253</td>\n",
       "      <td>4944.985014</td>\n",
       "      <td>2.547878</td>\n",
       "    </tr>\n",
       "    <tr>\n",
       "      <th>13</th>\n",
       "      <td>45.536233</td>\n",
       "      <td>6.836862</td>\n",
       "      <td>1.437191</td>\n",
       "      <td>2.598418</td>\n",
       "      <td>2149.948313</td>\n",
       "      <td>1.910630</td>\n",
       "    </tr>\n",
       "    <tr>\n",
       "      <th>14</th>\n",
       "      <td>70.895225</td>\n",
       "      <td>5.094967</td>\n",
       "      <td>1.846788</td>\n",
       "      <td>2.399047</td>\n",
       "      <td>2601.704992</td>\n",
       "      <td>0.909133</td>\n",
       "    </tr>\n",
       "    <tr>\n",
       "      <th>15</th>\n",
       "      <td>65.261174</td>\n",
       "      <td>5.280981</td>\n",
       "      <td>3.273805</td>\n",
       "      <td>2.746191</td>\n",
       "      <td>2150.057167</td>\n",
       "      <td>2.380290</td>\n",
       "    </tr>\n",
       "    <tr>\n",
       "      <th>16</th>\n",
       "      <td>73.697372</td>\n",
       "      <td>6.493807</td>\n",
       "      <td>1.673722</td>\n",
       "      <td>2.163216</td>\n",
       "      <td>2601.436557</td>\n",
       "      <td>-0.121186</td>\n",
       "    </tr>\n",
       "    <tr>\n",
       "      <th>17</th>\n",
       "      <td>68.023724</td>\n",
       "      <td>5.293347</td>\n",
       "      <td>-1.643591</td>\n",
       "      <td>2.270725</td>\n",
       "      <td>2145.970528</td>\n",
       "      <td>0.781458</td>\n",
       "    </tr>\n",
       "    <tr>\n",
       "      <th>18</th>\n",
       "      <td>67.739025</td>\n",
       "      <td>3.703332</td>\n",
       "      <td>2.275547</td>\n",
       "      <td>1.988495</td>\n",
       "      <td>2150.308685</td>\n",
       "      <td>2.952335</td>\n",
       "    </tr>\n",
       "  </tbody>\n",
       "</table>\n",
       "</div>"
      ],
      "text/plain": [
       "          age       job   marital  education      balance      loan\n",
       "0   45.849524  2.669639  1.540089   1.087345  4301.030448  2.205537\n",
       "1   56.515654  0.623220  1.628296   4.394192  4053.659253  1.703218\n",
       "2   55.868799  4.757554  1.170105   1.470064  3460.032324  1.979376\n",
       "3   51.680108  0.803732  1.803399   2.032152  2281.410550  1.175452\n",
       "4   34.992905  8.060380  1.676081   0.992228   213.930306  4.441783\n",
       "5   34.461593  2.101506 -0.203556   2.408146  3978.536935  2.131838\n",
       "6   36.211127  4.228976  1.125672  -1.249801  2958.296390  2.593419\n",
       "7   41.758711  1.488545 -1.008267   1.550902  2680.646748  2.347991\n",
       "8   51.824454  5.978253 -1.856826   3.870621  4301.834536  1.486597\n",
       "9   45.477216  3.665775  0.948494   2.331467  2237.805652  1.149713\n",
       "10  34.821739  6.961252 -2.648467   1.715386   210.724399  2.519103\n",
       "11  38.145836  1.545687  1.292521   5.052364  1993.160745  3.011410\n",
       "12  32.988770 -1.798650  2.293806   0.456253  4944.985014  2.547878\n",
       "13  45.536233  6.836862  1.437191   2.598418  2149.948313  1.910630\n",
       "14  70.895225  5.094967  1.846788   2.399047  2601.704992  0.909133\n",
       "15  65.261174  5.280981  3.273805   2.746191  2150.057167  2.380290\n",
       "16  73.697372  6.493807  1.673722   2.163216  2601.436557 -0.121186\n",
       "17  68.023724  5.293347 -1.643591   2.270725  2145.970528  0.781458\n",
       "18  67.739025  3.703332  2.275547   1.988495  2150.308685  2.952335"
      ]
     },
     "metadata": {},
     "output_type": "display_data"
    }
   ],
   "source": [
    "#display the loan_private_data as table\n",
    "display(loan_private_data)"
   ]
  },
  {
   "cell_type": "code",
   "execution_count": 124,
   "metadata": {},
   "outputs": [
    {
     "data": {
      "text/plain": [
       "age          float64\n",
       "job          float64\n",
       "marital      float64\n",
       "education    float64\n",
       "default      float64\n",
       "balance      float64\n",
       "housing      float64\n",
       "loan         float64\n",
       "contact      float64\n",
       "day          float64\n",
       "month        float64\n",
       "duration     float64\n",
       "campaign     float64\n",
       "pdays        float64\n",
       "previous     float64\n",
       "poutcome     float64\n",
       "dtype: object"
      ]
     },
     "execution_count": 124,
     "metadata": {},
     "output_type": "execute_result"
    }
   ],
   "source": [
    "#data type of each column\n",
    "bank_private_data.dtypes"
   ]
  },
  {
   "cell_type": "code",
   "execution_count": 125,
   "metadata": {},
   "outputs": [
    {
     "data": {
      "text/plain": [
       "age          float64\n",
       "job          float64\n",
       "marital      float64\n",
       "education    float64\n",
       "balance      float64\n",
       "loan         float64\n",
       "dtype: object"
      ]
     },
     "execution_count": 125,
     "metadata": {},
     "output_type": "execute_result"
    }
   ],
   "source": [
    "#data type of each column\n",
    "loan_private_data.dtypes"
   ]
  },
  {
   "cell_type": "code",
   "execution_count": 126,
   "metadata": {},
   "outputs": [],
   "source": [
    "#return the copied target column\n",
    "bank_private_data['target'] = target_copy\n",
    "\n",
    "#return the copied loan_status column\n",
    "loan_private_data['Loan_Status'] = Loan_Status_copy"
   ]
  },
  {
   "cell_type": "code",
   "execution_count": 127,
   "metadata": {},
   "outputs": [
    {
     "data": {
      "text/plain": [
       "Index(['age', 'job', 'marital', 'education', 'default', 'balance', 'housing',\n",
       "       'loan', 'contact', 'day', 'month', 'duration', 'campaign', 'pdays',\n",
       "       'previous', 'poutcome', 'target'],\n",
       "      dtype='object')"
      ]
     },
     "execution_count": 127,
     "metadata": {},
     "output_type": "execute_result"
    }
   ],
   "source": [
    "#display bank_private_data columns\n",
    "bank_private_data.columns"
   ]
  },
  {
   "cell_type": "code",
   "execution_count": 128,
   "metadata": {},
   "outputs": [
    {
     "data": {
      "text/plain": [
       "Index(['age', 'job', 'marital', 'education', 'balance', 'loan', 'Loan_Status'], dtype='object')"
      ]
     },
     "execution_count": 128,
     "metadata": {},
     "output_type": "execute_result"
    }
   ],
   "source": [
    "#display loan_private_data columns\n",
    "loan_private_data.columns"
   ]
  },
  {
   "cell_type": "markdown",
   "metadata": {},
   "source": [
    "# Predicting data after adding noise"
   ]
  },
  {
   "cell_type": "code",
   "execution_count": 129,
   "metadata": {},
   "outputs": [],
   "source": [
    "#pass y_real, y_pred, and the type of the prediction (train or test)\n",
    "def eval_performance(y_real, y_pred, prediction_type, posLabel):\n",
    "    #use the accuracy_score() and pass both y_real and y_pred to get the accuracy of the passed data\n",
    "    accuracy = accuracy_score(y_real, y_pred)\n",
    "    #use the precision_score() and pass both y_real and y_pred to get the precision score of the passed data\n",
    "    precision = precision_score(y_real, y_pred, pos_label=posLabel)\n",
    "    #use the recall_score() and pass both y_real and y_pred to get the recall score of the passed data\n",
    "    recall = recall_score(y_real, y_pred, pos_label=posLabel)\n",
    "    #use the f1_score() and pass both y_real and y_pred to get the f1 score of the passed data\n",
    "    f1score = f1_score(y_real, y_pred, pos_label=posLabel)\n",
    "    #create a  one-dimensional (1-D) array that contains the values of accuracy, precision, recall, f1_score, and the prediction type\n",
    "    metrics = pd.Series({'accuracy': accuracy,\n",
    "                         'precision': precision,\n",
    "                         'recall': recall,\n",
    "                         'f1_score': f1score },\n",
    "                          name = prediction_type)\n",
    "    return metrics"
   ]
  },
  {
   "cell_type": "markdown",
   "metadata": {},
   "source": [
    "### Predicting marketing campaign outcome"
   ]
  },
  {
   "cell_type": "code",
   "execution_count": 130,
   "metadata": {},
   "outputs": [],
   "source": [
    "# Split the data: 80% training : 20% test set\n",
    "\n",
    "#create a copy of the dataset bank_private_data\n",
    "train_dfs = bank_private_data.copy()\n",
    "#remove the target column from the copied dataset\n",
    "train_dfs = train_dfs.drop(columns=['target'])\n",
    "#store the target column in targetLabels\n",
    "targetLabels = bank_private_data['target']\n",
    "\n",
    "#split the data into x tarning and testing and y testing and traning, traing set = 80% and testing set = 20% \n",
    "instances_train, instances_test, target_train, target_test = train_test_split(train_dfs, targetLabels, test_size=0.2, random_state=0, shuffle=True)\n"
   ]
  },
  {
   "cell_type": "code",
   "execution_count": 131,
   "metadata": {},
   "outputs": [
    {
     "name": "stdout",
     "output_type": "stream",
     "text": [
      "Decision Tree Classifier accuracy on training set= 0.89\n",
      "Decision Tree Classifier accuracy on testing set= 0.79\n"
     ]
    }
   ],
   "source": [
    "#create a Decision Tree Classifier model with a max_depth (maximum depth of the tree) = 8\n",
    "decTreeModel = DecisionTreeClassifier(max_depth=8)\n",
    "#fit the instances_train values and target_train values into the Decision Tree Classifier model using fit()\n",
    "decTreeModel.fit(instances_train.values, target_train.values)\n",
    "\n",
    "#Decision Tree Classifier accuracy using traning set\n",
    "print('Decision Tree Classifier accuracy on training set= {:.2f}'.format(decTreeModel.score(instances_train.values, target_train)))\n",
    "#Decision Tree Classifier accuracy using testing set\n",
    "print('Decision Tree Classifier accuracy on testing set= {:.2f}'.format(decTreeModel.score(instances_test.values, target_test)))\n"
   ]
  },
  {
   "cell_type": "code",
   "execution_count": 132,
   "metadata": {
    "scrolled": true
   },
   "outputs": [
    {
     "data": {
      "text/plain": [
       "array([31.69477647005951, 0.7396227111445615, 2.1201635147940383,\n",
       "       4.073337643318043, 0.723075182685605, 883.8688949439422,\n",
       "       0.3837470288561108, 1.4368937605101169, 1.545274190410093,\n",
       "       20.606994191298643, 10.90762505027509, 37.06359724731736,\n",
       "       2.4073395657881935, 151.7859711534827, 5.462224168485476,\n",
       "       0.9031284661300428, 'no'], dtype=object)"
      ]
     },
     "execution_count": 132,
     "metadata": {},
     "output_type": "execute_result"
    }
   ],
   "source": [
    "#get the values of the 1st row (after adding noise)\n",
    "bank_private_data.iloc[0].values"
   ]
  },
  {
   "cell_type": "code",
   "execution_count": 133,
   "metadata": {},
   "outputs": [
    {
     "data": {
      "text/plain": [
       "array(['no'], dtype=object)"
      ]
     },
     "execution_count": 133,
     "metadata": {},
     "output_type": "execute_result"
    }
   ],
   "source": [
    "#predict the outsome using the 1st row data\n",
    "decTreeModel.predict([[32.96280346613126, 0.6354156417708781, 2.723762214958354, 8.102872616920948, 1.6487612498319009, 883.5071622663309, 3.1394052344971413, 1.1048438051334333, 2.646653929811305, 20.960823642106092, 10.37284794390668, 40.25884860211848, 1.8435888804076832, 149.6195951306562, 3.5210427594136466, 1.4503812819270663]]) \n"
   ]
  },
  {
   "cell_type": "code",
   "execution_count": 134,
   "metadata": {},
   "outputs": [
    {
     "data": {
      "text/plain": [
       "array([73.54557871111626, 9.28159137008051, 0.8773932703356275,\n",
       "       1.6094490879389245, 2.9996674827680314, 5712.777953427394,\n",
       "       1.0365279633003968, -0.8381904218777629, 0.33921485485203207,\n",
       "       19.93435789495242, 10.187637011598065, 1129.232802614674,\n",
       "       5.935189329317165, 185.01277117135737, 3.2024660440149555,\n",
       "       2.4280341005610997, 'yes'], dtype=object)"
      ]
     },
     "execution_count": 134,
     "metadata": {},
     "output_type": "execute_result"
    }
   ],
   "source": [
    "#get the values of the 2nd to last row (after adding noise)\n",
    "bank_private_data.iloc[-2].values"
   ]
  },
  {
   "cell_type": "code",
   "execution_count": 135,
   "metadata": {},
   "outputs": [
    {
     "data": {
      "text/plain": [
       "array(['yes'], dtype=object)"
      ]
     },
     "execution_count": 135,
     "metadata": {},
     "output_type": "execute_result"
    }
   ],
   "source": [
    "#predict the outsome using the 4th row data\n",
    "decTreeModel.predict([[73.93046417876914, 8.705573167485065, 2.2115499207078906,4.257264324306577, 1.4700774737007127, 5716.065289296863, 2.177097683758314, -3.4498323826036668, 1.6542839593471452,17.344363871680862, 6.6260620141785305, 1125.666702358602,6.321270352671897, 187.95403459966775, 3.2748447387311814,3.071896653184319]]) \n"
   ]
  },
  {
   "cell_type": "code",
   "execution_count": 136,
   "metadata": {},
   "outputs": [
    {
     "name": "stdout",
     "output_type": "stream",
     "text": [
      "[[1116  139]\n",
      " [ 216  181]]\n"
     ]
    },
    {
     "data": {
      "image/png": "[encoded data removed]",
      "text/plain": [
       "<Figure size 288x288 with 2 Axes>"
      ]
     },
     "metadata": {
      "needs_background": "light"
     },
     "output_type": "display_data"
    }
   ],
   "source": [
    "# Confusion Matrix: to evaluate the accuracy of the Decision Tree Classifier \n",
    "\n",
    "#predict the target values of the testing data by passing instances_test to the Decision Tree Classifier model\n",
    "predictions = decTreeModel.predict(instances_test.values)\n",
    "\n",
    "#confusion_matrix() is used to calculate the confusion matrix to evaluate the accuracy of a classification\n",
    "print(confusion_matrix(target_test, predictions))\n",
    "\n",
    "#plot a Confusion Matrix\n",
    "ConfusionMatrix = confusion_matrix(target_test, predictions)\n",
    "#pass the ConfusionMatrix to matshow to show an array as a matrix in a new figure window\n",
    "pl.matshow(ConfusionMatrix)\n",
    "#add  a colorbar to a plot\n",
    "pl.colorbar()\n",
    "#display the Confusion Matrix\n",
    "pl.show()"
   ]
  },
  {
   "cell_type": "code",
   "execution_count": 137,
   "metadata": {},
   "outputs": [
    {
     "name": "stdout",
     "output_type": "stream",
     "text": [
      "              Train      Test\n",
      "accuracy   0.888872  0.785109\n",
      "precision  0.910751  0.837838\n",
      "recall     0.948990  0.889243\n",
      "f1_score   0.929477  0.862775\n"
     ]
    }
   ],
   "source": [
    "#Train\n",
    "#predict the target values of the training data by passing X_train to the Decision Tree Classifier model\n",
    "y_train_prediction = decTreeModel.predict(instances_train.values)\n",
    "#train_per is a one-dimensional (1-D) array that measures the prediction error for the train data, by calling the eval_performance function and passing the y_train, y_train_prediction, and the type of the prediction \"Train\"\n",
    "train_per = eval_performance(target_train, y_train_prediction, \"Train\", 'no')\n",
    "\n",
    "# Test\n",
    "#predict the target values of the testing data by passing X_test to the Decision Tree Classifier model\n",
    "y_test_prediction = decTreeModel.predict(instances_test.values)\n",
    "#test_per is a one-dimensional (1-D) array that measures the prediction error for the test data, by calling the eval_performance function and passing the y_train, y_train_prediction, and the type of the prediction \"Test\"\n",
    "test_per = eval_performance(target_test, y_test_prediction, \"Test\",'no')\n",
    "\n",
    "#use concat to combine both results train_per (4 values) and test_per (4 values)\n",
    "#the 4 values: accuracy, precision, recall, and f1_score\n",
    "#axis is = 1 because we're joining columns\n",
    "prediction_performance_table = pd.concat([train_per, test_per], axis = 1)\n",
    "print(prediction_performance_table)"
   ]
  },
  {
   "cell_type": "markdown",
   "metadata": {},
   "source": [
    "### Predicting loan eligibility"
   ]
  },
  {
   "cell_type": "code",
   "execution_count": 138,
   "metadata": {},
   "outputs": [],
   "source": [
    "# Split the data: 80% training : 20% test set\n",
    "\n",
    "#create a copy of the dataset loan_private_data\n",
    "train_dfs = loan_private_data.copy()\n",
    "#remove the target column from the copied dataset\n",
    "train_dfs = train_dfs.drop(columns=['Loan_Status'])\n",
    "#store the target column in targetLabels\n",
    "targetLabels = loan_private_data['Loan_Status']\n",
    "#split the data into x tarning and testing and y testing and traning, traing set = 80% and testing set = 20% \n",
    "instances_train, instances_test, target_train, target_test = train_test_split(train_dfs, targetLabels, test_size=0.2, random_state=0, shuffle=True)\n"
   ]
  },
  {
   "cell_type": "code",
   "execution_count": 139,
   "metadata": {},
   "outputs": [
    {
     "name": "stdout",
     "output_type": "stream",
     "text": [
      "Decision Tree Classifier accuracy on training set= 1.00\n",
      "Decision Tree Classifier accuracy on testing set= 0.75\n"
     ]
    }
   ],
   "source": [
    "#create a Decision Tree Classifier model with a max_depth (maximum depth of the tree) = 8\n",
    "decTreeModel = DecisionTreeClassifier(max_depth=8)\n",
    "#fit the instances_train values and target_train values into the Decision Tree Classifier model using fit()\n",
    "decTreeModel.fit(instances_train.values, target_train.values)\n",
    "\n",
    "#Decision Tree Classifier accuracy using traning set\n",
    "print('Decision Tree Classifier accuracy on training set= {:.2f}'.format(decTreeModel.score(instances_train.values, target_train)))\n",
    "#Decision Tree Classifier accuracy using testing set\n",
    "print('Decision Tree Classifier accuracy on testing set= {:.2f}'.format(decTreeModel.score(instances_test.values, target_test)))\n"
   ]
  },
  {
   "cell_type": "code",
   "execution_count": 140,
   "metadata": {},
   "outputs": [
    {
     "data": {
      "text/plain": [
       "age              45.849524\n",
       "job               2.669639\n",
       "marital           1.540089\n",
       "education         1.087345\n",
       "balance        4301.030448\n",
       "loan              2.205537\n",
       "Loan_Status       1.000000\n",
       "Name: 0, dtype: float64"
      ]
     },
     "execution_count": 140,
     "metadata": {},
     "output_type": "execute_result"
    }
   ],
   "source": [
    "#get the values of the 1st row (after adding noise)\n",
    "loan_private_data.iloc[0]"
   ]
  },
  {
   "cell_type": "code",
   "execution_count": 141,
   "metadata": {},
   "outputs": [
    {
     "data": {
      "text/plain": [
       "array([4.58495244e+01, 2.66963874e+00, 1.54008863e+00, 1.08734463e+00,\n",
       "       4.30103045e+03, 2.20553747e+00, 1.00000000e+00])"
      ]
     },
     "execution_count": 141,
     "metadata": {},
     "output_type": "execute_result"
    }
   ],
   "source": [
    "#get the values of the 1st row (after adding noise)\n",
    "loan_private_data.iloc[0].values"
   ]
  },
  {
   "cell_type": "code",
   "execution_count": 142,
   "metadata": {},
   "outputs": [
    {
     "data": {
      "text/plain": [
       "array([1])"
      ]
     },
     "execution_count": 142,
     "metadata": {},
     "output_type": "execute_result"
    }
   ],
   "source": [
    "#predict the outsome using the 1st row data\n",
    "decTreeModel.predict([[4.99671786e+01, 3.22963532e+00, 1.89771482e+00, 1.34309979e+00, 4.29981047e+03, 2.66449688e+00]]) \n"
   ]
  },
  {
   "cell_type": "code",
   "execution_count": 143,
   "metadata": {},
   "outputs": [
    {
     "data": {
      "text/plain": [
       "age              67.739025\n",
       "job               3.703332\n",
       "marital           2.275547\n",
       "education         1.988495\n",
       "balance        2150.308685\n",
       "loan              2.952335\n",
       "Loan_Status       0.000000\n",
       "Name: 18, dtype: float64"
      ]
     },
     "execution_count": 143,
     "metadata": {},
     "output_type": "execute_result"
    }
   ],
   "source": [
    "#get the values of the last row (after adding noise)\n",
    "loan_private_data.iloc[-1]"
   ]
  },
  {
   "cell_type": "code",
   "execution_count": 144,
   "metadata": {},
   "outputs": [
    {
     "data": {
      "text/plain": [
       "array([6.77390250e+01, 3.70333249e+00, 2.27554718e+00, 1.98849453e+00,\n",
       "       2.15030868e+03, 2.95233466e+00, 0.00000000e+00])"
      ]
     },
     "execution_count": 144,
     "metadata": {},
     "output_type": "execute_result"
    }
   ],
   "source": [
    "#get the values of the last row (after adding noise)\n",
    "loan_private_data.iloc[-1].values "
   ]
  },
  {
   "cell_type": "code",
   "execution_count": 145,
   "metadata": {},
   "outputs": [
    {
     "data": {
      "text/plain": [
       "array([0])"
      ]
     },
     "execution_count": 145,
     "metadata": {},
     "output_type": "execute_result"
    }
   ],
   "source": [
    "#predict the outsome using the last row data\n",
    "decTreeModel.predict([[6.62659585e+01, 7.92395062e+00, 1.41790519e-02, 2.65598354e+00,2.14972759e+03, 5.49400182e-01]]) \n"
   ]
  },
  {
   "cell_type": "code",
   "execution_count": 146,
   "metadata": {},
   "outputs": [
    {
     "data": {
      "text/plain": [
       "array([0])"
      ]
     },
     "execution_count": 146,
     "metadata": {},
     "output_type": "execute_result"
    }
   ],
   "source": [
    "decTreeModel.predict([[57.014327,4.605208,1.007175,1.893252,4054.165584,1.431708]]) "
   ]
  },
  {
   "cell_type": "code",
   "execution_count": 147,
   "metadata": {},
   "outputs": [
    {
     "data": {
      "text/plain": [
       "array([5.65156543e+01, 6.23219521e-01, 1.62829611e+00, 4.39419205e+00,\n",
       "       4.05365925e+03, 1.70321759e+00, 0.00000000e+00])"
      ]
     },
     "execution_count": 147,
     "metadata": {},
     "output_type": "execute_result"
    }
   ],
   "source": [
    "loan_private_data.iloc[1].values "
   ]
  },
  {
   "cell_type": "code",
   "execution_count": 148,
   "metadata": {},
   "outputs": [
    {
     "name": "stdout",
     "output_type": "stream",
     "text": [
      "[[2 0]\n",
      " [1 1]]\n"
     ]
    },
    {
     "data": {
      "image/png": "[encoded data removed]",
      "text/plain": [
       "<Figure size 288x288 with 2 Axes>"
      ]
     },
     "metadata": {
      "needs_background": "light"
     },
     "output_type": "display_data"
    }
   ],
   "source": [
    "# Confusion Matrix: to evaluate the accuracy of the Decision Tree Classifier \n",
    "\n",
    "#predict the target values of the testing data by passing instances_test to the Decision Tree Classifier model\n",
    "predictions = decTreeModel.predict(instances_test.values)\n",
    "\n",
    "#confusion_matrix() is used to calculate the confusion matrix to evaluate the accuracy of a classification\n",
    "print(confusion_matrix(target_test, predictions))\n",
    "\n",
    "#plot a Confusion Matrix\n",
    "ConfusionMatrix = confusion_matrix(target_test, predictions)\n",
    "#pass the ConfusionMatrix to matshow to show an array as a matrix in a new figure window\n",
    "pl.matshow(ConfusionMatrix)\n",
    "#add  a colorbar to a plot\n",
    "pl.colorbar()\n",
    "#display the Confusion Matrix\n",
    "pl.show()"
   ]
  },
  {
   "cell_type": "code",
   "execution_count": 149,
   "metadata": {},
   "outputs": [
    {
     "name": "stdout",
     "output_type": "stream",
     "text": [
      "           Train      Test\n",
      "accuracy     1.0  0.750000\n",
      "precision    1.0  0.666667\n",
      "recall       1.0  1.000000\n",
      "f1_score     1.0  0.800000\n"
     ]
    }
   ],
   "source": [
    "#Train\n",
    "#predict the target values of the training data by passing X_train to the Decision Tree Classifier model\n",
    "y_train_prediction = decTreeModel.predict(instances_train.values)\n",
    "#train_per is a one-dimensional (1-D) array that measures the prediction error for the train data, by calling the eval_performance function and passing the y_train, y_train_prediction, and the type of the prediction \"Train\"\n",
    "train_per = eval_performance(target_train, y_train_prediction, \"Train\", 0)\n",
    "\n",
    "# Test\n",
    "#predict the target values of the testing data by passing X_test to the Decision Tree Classifier model\n",
    "y_test_prediction = decTreeModel.predict(instances_test.values)\n",
    "#test_per is a one-dimensional (1-D) array that measures the prediction error for the test data, by calling the eval_performance function and passing the y_train, y_train_prediction, and the type of the prediction \"Test\"\n",
    "test_per = eval_performance(target_test, y_test_prediction, \"Test\", 0)\n",
    "\n",
    "#use concat to combine both results train_per (4 values) and test_per (4 values)\n",
    "#the 4 values: accuracy, precision, recall, and f1_score\n",
    "#axis is = 1 because we're joining columns\n",
    "prediction_performance_table = pd.concat([train_per, test_per], axis = 1)\n",
    "print(prediction_performance_table)"
   ]
  },
  {
   "cell_type": "code",
   "execution_count": null,
   "metadata": {},
   "outputs": [],
   "source": []
  }
 ],
 "metadata": {
  "anaconda-cloud": {},
  "kernelspec": {
   "display_name": "Python 3 (ipykernel)",
   "language": "python",
   "name": "python3"
  },
  "language_info": {
   "codemirror_mode": {
    "name": "ipython",
    "version": 3
   },
   "file_extension": ".py",
   "mimetype": "text/x-python",
   "name": "python",
   "nbconvert_exporter": "python",
   "pygments_lexer": "ipython3",
   "version": "3.9.12"
  }
 },
 "nbformat": 4,
 "nbformat_minor": 2
}
